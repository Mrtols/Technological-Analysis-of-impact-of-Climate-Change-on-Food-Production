{
 "cells": [
  {
   "cell_type": "code",
   "execution_count": 1,
   "id": "48733aba",
   "metadata": {},
   "outputs": [],
   "source": [
    "import numpy as np # for array operations\n",
    "import pandas as pd # for working with DataFrames\n",
    "import matplotlib.pyplot as plt # for data visualization\n",
    "%matplotlib inline\n",
    "\n",
    "from sklearn.model_selection import train_test_split # for splitting the data\n",
    "from sklearn.metrics import mean_squared_error # for calculating the cost function\n",
    "from sklearn.ensemble import RandomForestRegressor # Import the model we are using\n"
   ]
  },
  {
   "cell_type": "code",
   "execution_count": 2,
   "id": "79981903",
   "metadata": {},
   "outputs": [
    {
     "data": {
      "text/html": [
       "<div>\n",
       "<style scoped>\n",
       "    .dataframe tbody tr th:only-of-type {\n",
       "        vertical-align: middle;\n",
       "    }\n",
       "\n",
       "    .dataframe tbody tr th {\n",
       "        vertical-align: top;\n",
       "    }\n",
       "\n",
       "    .dataframe thead th {\n",
       "        text-align: right;\n",
       "    }\n",
       "</style>\n",
       "<table border=\"1\" class=\"dataframe\">\n",
       "  <thead>\n",
       "    <tr style=\"text-align: right;\">\n",
       "      <th></th>\n",
       "      <th>year</th>\n",
       "      <th>country</th>\n",
       "      <th>maize_yield</th>\n",
       "      <th>pot_yield</th>\n",
       "      <th>wheat_yield</th>\n",
       "      <th>rice_yield</th>\n",
       "      <th>Production(Maize)Tonnes</th>\n",
       "      <th>Production Potatoes(Tonnes)</th>\n",
       "      <th>Production Wheat(Tonnes)</th>\n",
       "      <th>Production Rice(Tonnes)</th>\n",
       "      <th>solar_rad</th>\n",
       "      <th>co2</th>\n",
       "      <th>temp</th>\n",
       "      <th>precip</th>\n",
       "    </tr>\n",
       "  </thead>\n",
       "  <tbody>\n",
       "    <tr>\n",
       "      <th>0</th>\n",
       "      <td>1980</td>\n",
       "      <td>United States of America</td>\n",
       "      <td>57118</td>\n",
       "      <td>295245</td>\n",
       "      <td>22513</td>\n",
       "      <td>49461</td>\n",
       "      <td>168647008</td>\n",
       "      <td>13785000</td>\n",
       "      <td>64799504</td>\n",
       "      <td>6629250</td>\n",
       "      <td>894031</td>\n",
       "      <td>2713.57</td>\n",
       "      <td>4030.5</td>\n",
       "      <td>592.2</td>\n",
       "    </tr>\n",
       "    <tr>\n",
       "      <th>1</th>\n",
       "      <td>1981</td>\n",
       "      <td>United States of America</td>\n",
       "      <td>68380</td>\n",
       "      <td>308199</td>\n",
       "      <td>23229</td>\n",
       "      <td>54015</td>\n",
       "      <td>206222000</td>\n",
       "      <td>15450000</td>\n",
       "      <td>75806304</td>\n",
       "      <td>8289040</td>\n",
       "      <td>894031</td>\n",
       "      <td>2723.25</td>\n",
       "      <td>4784.5</td>\n",
       "      <td>629.3</td>\n",
       "    </tr>\n",
       "    <tr>\n",
       "      <th>2</th>\n",
       "      <td>1982</td>\n",
       "      <td>United States of America</td>\n",
       "      <td>71082</td>\n",
       "      <td>312544</td>\n",
       "      <td>23859</td>\n",
       "      <td>52791</td>\n",
       "      <td>209180000</td>\n",
       "      <td>16108500</td>\n",
       "      <td>75251296</td>\n",
       "      <td>6968900</td>\n",
       "      <td>851000</td>\n",
       "      <td>2734.78</td>\n",
       "      <td>4563.0</td>\n",
       "      <td>681.0</td>\n",
       "    </tr>\n",
       "    <tr>\n",
       "      <th>3</th>\n",
       "      <td>1983</td>\n",
       "      <td>United States of America</td>\n",
       "      <td>50893</td>\n",
       "      <td>299754</td>\n",
       "      <td>26509</td>\n",
       "      <td>51532</td>\n",
       "      <td>106030000</td>\n",
       "      <td>15137600</td>\n",
       "      <td>65857904</td>\n",
       "      <td>4523200</td>\n",
       "      <td>957440</td>\n",
       "      <td>2748.52</td>\n",
       "      <td>4722.5</td>\n",
       "      <td>941.0</td>\n",
       "    </tr>\n",
       "    <tr>\n",
       "      <th>4</th>\n",
       "      <td>1984</td>\n",
       "      <td>United States of America</td>\n",
       "      <td>66981</td>\n",
       "      <td>311082</td>\n",
       "      <td>26073</td>\n",
       "      <td>55523</td>\n",
       "      <td>194880000</td>\n",
       "      <td>16422000</td>\n",
       "      <td>70618000</td>\n",
       "      <td>6296300</td>\n",
       "      <td>800268</td>\n",
       "      <td>2761.06</td>\n",
       "      <td>4546.8</td>\n",
       "      <td>982.0</td>\n",
       "    </tr>\n",
       "  </tbody>\n",
       "</table>\n",
       "</div>"
      ],
      "text/plain": [
       "   year                   country  maize_yield  pot_yield  wheat_yield  \\\n",
       "0  1980  United States of America        57118     295245        22513   \n",
       "1  1981  United States of America        68380     308199        23229   \n",
       "2  1982  United States of America        71082     312544        23859   \n",
       "3  1983  United States of America        50893     299754        26509   \n",
       "4  1984  United States of America        66981     311082        26073   \n",
       "\n",
       "   rice_yield  Production(Maize)Tonnes  Production Potatoes(Tonnes)  \\\n",
       "0       49461                168647008                     13785000   \n",
       "1       54015                206222000                     15450000   \n",
       "2       52791                209180000                     16108500   \n",
       "3       51532                106030000                     15137600   \n",
       "4       55523                194880000                     16422000   \n",
       "\n",
       "   Production Wheat(Tonnes)  Production Rice(Tonnes)  solar_rad      co2  \\\n",
       "0                  64799504                  6629250     894031  2713.57   \n",
       "1                  75806304                  8289040     894031  2723.25   \n",
       "2                  75251296                  6968900     851000  2734.78   \n",
       "3                  65857904                  4523200     957440  2748.52   \n",
       "4                  70618000                  6296300     800268  2761.06   \n",
       "\n",
       "     temp  precip  \n",
       "0  4030.5   592.2  \n",
       "1  4784.5   629.3  \n",
       "2  4563.0   681.0  \n",
       "3  4722.5   941.0  \n",
       "4  4546.8   982.0  "
      ]
     },
     "execution_count": 2,
     "metadata": {},
     "output_type": "execute_result"
    }
   ],
   "source": [
    "df=pd.read_csv(r\"C:\\Users\\TOLS\\OneDrive - Cardiff Metropolitan University\\Dissertation\\DISSERTATION DATA\\DISSERTATION.csv\")\n",
    "df.head(5)"
   ]
  },
  {
   "cell_type": "code",
   "execution_count": 3,
   "id": "9d353307",
   "metadata": {},
   "outputs": [
    {
     "data": {
      "text/plain": [
       "Index(['year', 'country', 'maize_yield', 'pot_yield', 'wheat_yield',\n",
       "       'rice_yield', 'Production(Maize)Tonnes', 'Production Potatoes(Tonnes)',\n",
       "       'Production Wheat(Tonnes)', 'Production Rice(Tonnes)', 'solar_rad',\n",
       "       'co2', 'temp', 'precip'],\n",
       "      dtype='object')"
      ]
     },
     "execution_count": 3,
     "metadata": {},
     "output_type": "execute_result"
    }
   ],
   "source": [
    "df.columns"
   ]
  },
  {
   "cell_type": "markdown",
   "id": "7ba0a8dd",
   "metadata": {},
   "source": [
    "## RANDOM FOREST REGRESSION FOR CROP MAIZE YIELD"
   ]
  },
  {
   "cell_type": "code",
   "execution_count": 4,
   "id": "3fdca91f",
   "metadata": {},
   "outputs": [
    {
     "data": {
      "text/html": [
       "<div>\n",
       "<style scoped>\n",
       "    .dataframe tbody tr th:only-of-type {\n",
       "        vertical-align: middle;\n",
       "    }\n",
       "\n",
       "    .dataframe tbody tr th {\n",
       "        vertical-align: top;\n",
       "    }\n",
       "\n",
       "    .dataframe thead th {\n",
       "        text-align: right;\n",
       "    }\n",
       "</style>\n",
       "<table border=\"1\" class=\"dataframe\">\n",
       "  <thead>\n",
       "    <tr style=\"text-align: right;\">\n",
       "      <th></th>\n",
       "      <th>maize_yield</th>\n",
       "      <th>solar_rad</th>\n",
       "      <th>co2</th>\n",
       "      <th>temp</th>\n",
       "      <th>precip</th>\n",
       "    </tr>\n",
       "  </thead>\n",
       "  <tbody>\n",
       "    <tr>\n",
       "      <th>0</th>\n",
       "      <td>57118</td>\n",
       "      <td>894031</td>\n",
       "      <td>2713.57</td>\n",
       "      <td>4030.5</td>\n",
       "      <td>592.2</td>\n",
       "    </tr>\n",
       "    <tr>\n",
       "      <th>1</th>\n",
       "      <td>68380</td>\n",
       "      <td>894031</td>\n",
       "      <td>2723.25</td>\n",
       "      <td>4784.5</td>\n",
       "      <td>629.3</td>\n",
       "    </tr>\n",
       "    <tr>\n",
       "      <th>2</th>\n",
       "      <td>71082</td>\n",
       "      <td>851000</td>\n",
       "      <td>2734.78</td>\n",
       "      <td>4563.0</td>\n",
       "      <td>681.0</td>\n",
       "    </tr>\n",
       "    <tr>\n",
       "      <th>3</th>\n",
       "      <td>50893</td>\n",
       "      <td>957440</td>\n",
       "      <td>2748.52</td>\n",
       "      <td>4722.5</td>\n",
       "      <td>941.0</td>\n",
       "    </tr>\n",
       "    <tr>\n",
       "      <th>4</th>\n",
       "      <td>66981</td>\n",
       "      <td>800268</td>\n",
       "      <td>2761.06</td>\n",
       "      <td>4546.8</td>\n",
       "      <td>982.0</td>\n",
       "    </tr>\n",
       "  </tbody>\n",
       "</table>\n",
       "</div>"
      ],
      "text/plain": [
       "   maize_yield  solar_rad      co2    temp  precip\n",
       "0        57118     894031  2713.57  4030.5   592.2\n",
       "1        68380     894031  2723.25  4784.5   629.3\n",
       "2        71082     851000  2734.78  4563.0   681.0\n",
       "3        50893     957440  2748.52  4722.5   941.0\n",
       "4        66981     800268  2761.06  4546.8   982.0"
      ]
     },
     "execution_count": 4,
     "metadata": {},
     "output_type": "execute_result"
    }
   ],
   "source": [
    "dfm=df[['maize_yield', 'solar_rad', 'co2', 'temp', 'precip']]\n",
    "dfm.head()"
   ]
  },
  {
   "cell_type": "code",
   "execution_count": 5,
   "id": "794c2162",
   "metadata": {},
   "outputs": [
    {
     "data": {
      "text/plain": [
       "array([[8.940310e+05, 2.713570e+03, 4.030500e+03, 5.922000e+02],\n",
       "       [8.940310e+05, 2.723250e+03, 4.784500e+03, 6.293000e+02],\n",
       "       [8.510000e+05, 2.734780e+03, 4.563000e+03, 6.810000e+02],\n",
       "       [9.574400e+05, 2.748520e+03, 4.722500e+03, 9.410000e+02],\n",
       "       [8.002680e+05, 2.761060e+03, 4.546800e+03, 9.820000e+02],\n",
       "       [9.674170e+05, 2.773180e+03, 4.747400e+03, 6.544000e+02],\n",
       "       [1.014520e+06, 2.783230e+03, 4.689800e+03, 4.707000e+02],\n",
       "       [1.277547e+06, 2.797010e+03, 4.622600e+03, 5.948000e+02],\n",
       "       [1.063344e+06, 2.815860e+03, 4.525900e+03, 5.231000e+02],\n",
       "       [1.260174e+06, 2.827570e+03, 4.573100e+03, 1.060100e+03],\n",
       "       [1.279369e+06, 2.836930e+03, 4.663600e+03, 7.700000e+02],\n",
       "       [1.147922e+06, 2.848460e+03, 4.877400e+03, 5.254000e+02],\n",
       "       [1.106325e+06, 2.854980e+03, 4.273000e+03, 6.694000e+02],\n",
       "       [1.252046e+06, 2.859600e+03, 4.590500e+03, 9.044000e+02],\n",
       "       [1.273503e+06, 2.873380e+03, 4.634500e+03, 8.351000e+02],\n",
       "       [1.217411e+06, 2.890150e+03, 4.784200e+03, 7.181000e+02],\n",
       "       [1.319156e+06, 2.903960e+03, 4.425300e+03, 1.057600e+03],\n",
       "       [1.276186e+06, 2.911980e+03, 4.425000e+03, 8.510000e+02],\n",
       "       [1.189550e+06, 2.937650e+03, 4.752200e+03, 6.071000e+02],\n",
       "       [1.335292e+06, 2.949720e+03, 4.630100e+03, 1.075500e+03],\n",
       "       [1.354051e+06, 2.959080e+03, 4.571500e+03, 8.160000e+02],\n",
       "       [1.327417e+06, 2.971860e+03, 4.529200e+03, 6.159000e+02],\n",
       "       [1.367708e+06, 2.988970e+03, 4.828300e+03, 5.980000e+02],\n",
       "       [1.354871e+06, 3.009970e+03, 4.416400e+03, 1.113600e+03],\n",
       "       [1.317637e+06, 3.023500e+03, 4.695700e+03, 7.998000e+02],\n",
       "       [1.332535e+06, 3.042310e+03, 4.662300e+03, 8.719000e+02],\n",
       "       [1.355099e+06, 3.058730e+03, 4.639700e+03, 9.084000e+02],\n",
       "       [1.349506e+06, 3.074300e+03, 4.834300e+03, 5.984000e+02],\n",
       "       [1.399292e+06, 3.087370e+03, 4.764400e+03, 9.320000e+02],\n",
       "       [1.323670e+06, 3.103000e+03, 4.509600e+03, 8.440000e+02],\n",
       "       [1.397739e+06, 3.123110e+03, 5.119700e+03, 4.123000e+02],\n",
       "       [1.375012e+06, 3.136080e+03, 4.833500e+03, 9.706000e+02],\n",
       "       [1.402894e+06, 3.153540e+03, 5.086600e+03, 6.797000e+02],\n",
       "       [1.367035e+06, 3.175630e+03, 4.687900e+03, 7.964000e+02],\n",
       "       [1.322277e+06, 3.192940e+03, 4.723600e+03, 7.800000e+02],\n",
       "       [1.312843e+06, 3.209110e+03, 4.895500e+03, 8.534000e+02],\n",
       "       [1.374711e+06, 3.237580e+03, 4.987600e+03, 5.718000e+02],\n",
       "       [1.345772e+06, 3.255780e+03, 4.918900e+03, 7.623000e+02],\n",
       "       [1.387586e+06, 3.270370e+03, 4.822000e+03, 1.272700e+03],\n",
       "       [1.335710e+06, 3.294460e+03, 5.043900e+03, 7.650000e+02],\n",
       "       [1.278000e+06, 3.315380e+03, 4.815800e+03, 1.037800e+03],\n",
       "       [1.369014e+06, 3.333470e+03, 4.961800e+03, 8.865000e+02]])"
      ]
     },
     "execution_count": 5,
     "metadata": {},
     "output_type": "execute_result"
    }
   ],
   "source": [
    "#Separating the features and the target variable\n",
    "X = dfm.drop('maize_yield', axis = 1).values.astype(float) # Features\n",
    "y = dfm[[\"maize_yield\"]].values.astype(float) # Target\n",
    "X"
   ]
  },
  {
   "cell_type": "code",
   "execution_count": 6,
   "id": "2bb5ded6",
   "metadata": {},
   "outputs": [],
   "source": [
    "### Sandardization of data ###\n",
    "from sklearn.preprocessing import StandardScaler\n",
    "scaledX = StandardScaler()\n",
    "scaledy = StandardScaler()"
   ]
  },
  {
   "cell_type": "code",
   "execution_count": 7,
   "id": "7ec41421",
   "metadata": {},
   "outputs": [],
   "source": [
    "# Storing the fit object for later reference\n",
    "X = scaledX.fit_transform(X)\n",
    "y = scaledX.fit_transform(y)"
   ]
  },
  {
   "cell_type": "code",
   "execution_count": 8,
   "id": "02bbfd13",
   "metadata": {},
   "outputs": [],
   "source": [
    "y = y.ravel()"
   ]
  },
  {
   "cell_type": "code",
   "execution_count": 9,
   "id": "1ed9a04d",
   "metadata": {},
   "outputs": [],
   "source": [
    "# Splitting the dataset into training and testing set (80/20)\n",
    "X_train, X_test, y_train, y_test = train_test_split(X, y, test_size = 0.3, random_state = 5)"
   ]
  },
  {
   "cell_type": "code",
   "execution_count": 10,
   "id": "303db05e",
   "metadata": {},
   "outputs": [
    {
     "data": {
      "text/html": [
       "<style>#sk-container-id-1 {color: black;background-color: white;}#sk-container-id-1 pre{padding: 0;}#sk-container-id-1 div.sk-toggleable {background-color: white;}#sk-container-id-1 label.sk-toggleable__label {cursor: pointer;display: block;width: 100%;margin-bottom: 0;padding: 0.3em;box-sizing: border-box;text-align: center;}#sk-container-id-1 label.sk-toggleable__label-arrow:before {content: \"▸\";float: left;margin-right: 0.25em;color: #696969;}#sk-container-id-1 label.sk-toggleable__label-arrow:hover:before {color: black;}#sk-container-id-1 div.sk-estimator:hover label.sk-toggleable__label-arrow:before {color: black;}#sk-container-id-1 div.sk-toggleable__content {max-height: 0;max-width: 0;overflow: hidden;text-align: left;background-color: #f0f8ff;}#sk-container-id-1 div.sk-toggleable__content pre {margin: 0.2em;color: black;border-radius: 0.25em;background-color: #f0f8ff;}#sk-container-id-1 input.sk-toggleable__control:checked~div.sk-toggleable__content {max-height: 200px;max-width: 100%;overflow: auto;}#sk-container-id-1 input.sk-toggleable__control:checked~label.sk-toggleable__label-arrow:before {content: \"▾\";}#sk-container-id-1 div.sk-estimator input.sk-toggleable__control:checked~label.sk-toggleable__label {background-color: #d4ebff;}#sk-container-id-1 div.sk-label input.sk-toggleable__control:checked~label.sk-toggleable__label {background-color: #d4ebff;}#sk-container-id-1 input.sk-hidden--visually {border: 0;clip: rect(1px 1px 1px 1px);clip: rect(1px, 1px, 1px, 1px);height: 1px;margin: -1px;overflow: hidden;padding: 0;position: absolute;width: 1px;}#sk-container-id-1 div.sk-estimator {font-family: monospace;background-color: #f0f8ff;border: 1px dotted black;border-radius: 0.25em;box-sizing: border-box;margin-bottom: 0.5em;}#sk-container-id-1 div.sk-estimator:hover {background-color: #d4ebff;}#sk-container-id-1 div.sk-parallel-item::after {content: \"\";width: 100%;border-bottom: 1px solid gray;flex-grow: 1;}#sk-container-id-1 div.sk-label:hover label.sk-toggleable__label {background-color: #d4ebff;}#sk-container-id-1 div.sk-serial::before {content: \"\";position: absolute;border-left: 1px solid gray;box-sizing: border-box;top: 0;bottom: 0;left: 50%;z-index: 0;}#sk-container-id-1 div.sk-serial {display: flex;flex-direction: column;align-items: center;background-color: white;padding-right: 0.2em;padding-left: 0.2em;position: relative;}#sk-container-id-1 div.sk-item {position: relative;z-index: 1;}#sk-container-id-1 div.sk-parallel {display: flex;align-items: stretch;justify-content: center;background-color: white;position: relative;}#sk-container-id-1 div.sk-item::before, #sk-container-id-1 div.sk-parallel-item::before {content: \"\";position: absolute;border-left: 1px solid gray;box-sizing: border-box;top: 0;bottom: 0;left: 50%;z-index: -1;}#sk-container-id-1 div.sk-parallel-item {display: flex;flex-direction: column;z-index: 1;position: relative;background-color: white;}#sk-container-id-1 div.sk-parallel-item:first-child::after {align-self: flex-end;width: 50%;}#sk-container-id-1 div.sk-parallel-item:last-child::after {align-self: flex-start;width: 50%;}#sk-container-id-1 div.sk-parallel-item:only-child::after {width: 0;}#sk-container-id-1 div.sk-dashed-wrapped {border: 1px dashed gray;margin: 0 0.4em 0.5em 0.4em;box-sizing: border-box;padding-bottom: 0.4em;background-color: white;}#sk-container-id-1 div.sk-label label {font-family: monospace;font-weight: bold;display: inline-block;line-height: 1.2em;}#sk-container-id-1 div.sk-label-container {text-align: center;}#sk-container-id-1 div.sk-container {/* jupyter's `normalize.less` sets `[hidden] { display: none; }` but bootstrap.min.css set `[hidden] { display: none !important; }` so we also need the `!important` here to be able to override the default hidden behavior on the sphinx rendered scikit-learn.org. See: https://github.com/scikit-learn/scikit-learn/issues/21755 */display: inline-block !important;position: relative;}#sk-container-id-1 div.sk-text-repr-fallback {display: none;}</style><div id=\"sk-container-id-1\" class=\"sk-top-container\"><div class=\"sk-text-repr-fallback\"><pre>RandomForestRegressor(random_state=5)</pre><b>In a Jupyter environment, please rerun this cell to show the HTML representation or trust the notebook. <br />On GitHub, the HTML representation is unable to render, please try loading this page with nbviewer.org.</b></div><div class=\"sk-container\" hidden><div class=\"sk-item\"><div class=\"sk-estimator sk-toggleable\"><input class=\"sk-toggleable__control sk-hidden--visually\" id=\"sk-estimator-id-1\" type=\"checkbox\" checked><label for=\"sk-estimator-id-1\" class=\"sk-toggleable__label sk-toggleable__label-arrow\">RandomForestRegressor</label><div class=\"sk-toggleable__content\"><pre>RandomForestRegressor(random_state=5)</pre></div></div></div></div></div>"
      ],
      "text/plain": [
       "RandomForestRegressor(random_state=5)"
      ]
     },
     "execution_count": 10,
     "metadata": {},
     "output_type": "execute_result"
    }
   ],
   "source": [
    "# Import the model we are using\n",
    "from sklearn.ensemble import RandomForestRegressor\n",
    "# Instantiate model with 100 decision trees\n",
    "rf = RandomForestRegressor(n_estimators = 100, random_state = 5)\n",
    "# Train the model on training data\n",
    "rf.fit(X_train, y_train)"
   ]
  },
  {
   "cell_type": "code",
   "execution_count": 11,
   "id": "3d72cb39",
   "metadata": {},
   "outputs": [],
   "source": [
    "# Predicting the target values of the test set\n",
    "y_pred = rf.predict(X_test)"
   ]
  },
  {
   "cell_type": "code",
   "execution_count": 12,
   "id": "c2cd5706",
   "metadata": {},
   "outputs": [
    {
     "name": "stdout",
     "output_type": "stream",
     "text": [
      "Mean absolute error : 0.47634843544785926\n"
     ]
    }
   ],
   "source": [
    "from sklearn.metrics import mean_absolute_error as mae\n",
    "error = mae(y_test, y_pred)\n",
    "print(\"Mean absolute error : \" + str(error))"
   ]
  },
  {
   "cell_type": "code",
   "execution_count": 13,
   "id": "99297dbd",
   "metadata": {},
   "outputs": [
    {
     "name": "stdout",
     "output_type": "stream",
     "text": [
      "\n",
      "RMSE:  0.581\n"
     ]
    }
   ],
   "source": [
    "# RMSE (Root Mean Square Error)\n",
    "rmse = float(format(np.sqrt(mean_squared_error(y_test, y_pred)), '.3f'))\n",
    "print(\"\\nRMSE: \", rmse)"
   ]
  },
  {
   "cell_type": "code",
   "execution_count": 14,
   "id": "f5116241",
   "metadata": {},
   "outputs": [
    {
     "name": "stdout",
     "output_type": "stream",
     "text": [
      "R-Squared : 0.765944466173723\n"
     ]
    }
   ],
   "source": [
    "from sklearn.metrics import r2_score\n",
    "r2 = r2_score(y_test, y_pred)\n",
    "print( \"R-Squared :\", r2)"
   ]
  },
  {
   "cell_type": "code",
   "execution_count": 15,
   "id": "c8ed564f",
   "metadata": {},
   "outputs": [
    {
     "name": "stdout",
     "output_type": "stream",
     "text": [
      "Mean Square Error : 0.3380737312784421\n"
     ]
    }
   ],
   "source": [
    "from sklearn.metrics import mean_squared_error\n",
    "mse = mean_squared_error(y_test, y_pred)\n",
    "print( \"Mean Square Error :\", mse)"
   ]
  },
  {
   "cell_type": "markdown",
   "id": "0b5efff3",
   "metadata": {},
   "source": [
    "## RANDOM FOREST REGRESSION FOR CROP RICE YIELD"
   ]
  },
  {
   "cell_type": "code",
   "execution_count": 16,
   "id": "781cd66d",
   "metadata": {},
   "outputs": [
    {
     "data": {
      "text/html": [
       "<div>\n",
       "<style scoped>\n",
       "    .dataframe tbody tr th:only-of-type {\n",
       "        vertical-align: middle;\n",
       "    }\n",
       "\n",
       "    .dataframe tbody tr th {\n",
       "        vertical-align: top;\n",
       "    }\n",
       "\n",
       "    .dataframe thead th {\n",
       "        text-align: right;\n",
       "    }\n",
       "</style>\n",
       "<table border=\"1\" class=\"dataframe\">\n",
       "  <thead>\n",
       "    <tr style=\"text-align: right;\">\n",
       "      <th></th>\n",
       "      <th>rice_yield</th>\n",
       "      <th>solar_rad</th>\n",
       "      <th>co2</th>\n",
       "      <th>temp</th>\n",
       "      <th>precip</th>\n",
       "    </tr>\n",
       "  </thead>\n",
       "  <tbody>\n",
       "    <tr>\n",
       "      <th>0</th>\n",
       "      <td>49461</td>\n",
       "      <td>894031</td>\n",
       "      <td>2713.57</td>\n",
       "      <td>4030.5</td>\n",
       "      <td>592.2</td>\n",
       "    </tr>\n",
       "    <tr>\n",
       "      <th>1</th>\n",
       "      <td>54015</td>\n",
       "      <td>894031</td>\n",
       "      <td>2723.25</td>\n",
       "      <td>4784.5</td>\n",
       "      <td>629.3</td>\n",
       "    </tr>\n",
       "    <tr>\n",
       "      <th>2</th>\n",
       "      <td>52791</td>\n",
       "      <td>851000</td>\n",
       "      <td>2734.78</td>\n",
       "      <td>4563.0</td>\n",
       "      <td>681.0</td>\n",
       "    </tr>\n",
       "    <tr>\n",
       "      <th>3</th>\n",
       "      <td>51532</td>\n",
       "      <td>957440</td>\n",
       "      <td>2748.52</td>\n",
       "      <td>4722.5</td>\n",
       "      <td>941.0</td>\n",
       "    </tr>\n",
       "    <tr>\n",
       "      <th>4</th>\n",
       "      <td>55523</td>\n",
       "      <td>800268</td>\n",
       "      <td>2761.06</td>\n",
       "      <td>4546.8</td>\n",
       "      <td>982.0</td>\n",
       "    </tr>\n",
       "  </tbody>\n",
       "</table>\n",
       "</div>"
      ],
      "text/plain": [
       "   rice_yield  solar_rad      co2    temp  precip\n",
       "0       49461     894031  2713.57  4030.5   592.2\n",
       "1       54015     894031  2723.25  4784.5   629.3\n",
       "2       52791     851000  2734.78  4563.0   681.0\n",
       "3       51532     957440  2748.52  4722.5   941.0\n",
       "4       55523     800268  2761.06  4546.8   982.0"
      ]
     },
     "execution_count": 16,
     "metadata": {},
     "output_type": "execute_result"
    }
   ],
   "source": [
    "dfr=df[['rice_yield', 'solar_rad', 'co2', 'temp', 'precip']]\n",
    "dfr.head()"
   ]
  },
  {
   "cell_type": "code",
   "execution_count": 17,
   "id": "a6c6c1d5",
   "metadata": {},
   "outputs": [
    {
     "data": {
      "text/plain": [
       "array([[8.940310e+05, 2.713570e+03, 4.030500e+03, 5.922000e+02],\n",
       "       [8.940310e+05, 2.723250e+03, 4.784500e+03, 6.293000e+02],\n",
       "       [8.510000e+05, 2.734780e+03, 4.563000e+03, 6.810000e+02],\n",
       "       [9.574400e+05, 2.748520e+03, 4.722500e+03, 9.410000e+02],\n",
       "       [8.002680e+05, 2.761060e+03, 4.546800e+03, 9.820000e+02],\n",
       "       [9.674170e+05, 2.773180e+03, 4.747400e+03, 6.544000e+02],\n",
       "       [1.014520e+06, 2.783230e+03, 4.689800e+03, 4.707000e+02],\n",
       "       [1.277547e+06, 2.797010e+03, 4.622600e+03, 5.948000e+02],\n",
       "       [1.063344e+06, 2.815860e+03, 4.525900e+03, 5.231000e+02],\n",
       "       [1.260174e+06, 2.827570e+03, 4.573100e+03, 1.060100e+03],\n",
       "       [1.279369e+06, 2.836930e+03, 4.663600e+03, 7.700000e+02],\n",
       "       [1.147922e+06, 2.848460e+03, 4.877400e+03, 5.254000e+02],\n",
       "       [1.106325e+06, 2.854980e+03, 4.273000e+03, 6.694000e+02],\n",
       "       [1.252046e+06, 2.859600e+03, 4.590500e+03, 9.044000e+02],\n",
       "       [1.273503e+06, 2.873380e+03, 4.634500e+03, 8.351000e+02],\n",
       "       [1.217411e+06, 2.890150e+03, 4.784200e+03, 7.181000e+02],\n",
       "       [1.319156e+06, 2.903960e+03, 4.425300e+03, 1.057600e+03],\n",
       "       [1.276186e+06, 2.911980e+03, 4.425000e+03, 8.510000e+02],\n",
       "       [1.189550e+06, 2.937650e+03, 4.752200e+03, 6.071000e+02],\n",
       "       [1.335292e+06, 2.949720e+03, 4.630100e+03, 1.075500e+03],\n",
       "       [1.354051e+06, 2.959080e+03, 4.571500e+03, 8.160000e+02],\n",
       "       [1.327417e+06, 2.971860e+03, 4.529200e+03, 6.159000e+02],\n",
       "       [1.367708e+06, 2.988970e+03, 4.828300e+03, 5.980000e+02],\n",
       "       [1.354871e+06, 3.009970e+03, 4.416400e+03, 1.113600e+03],\n",
       "       [1.317637e+06, 3.023500e+03, 4.695700e+03, 7.998000e+02],\n",
       "       [1.332535e+06, 3.042310e+03, 4.662300e+03, 8.719000e+02],\n",
       "       [1.355099e+06, 3.058730e+03, 4.639700e+03, 9.084000e+02],\n",
       "       [1.349506e+06, 3.074300e+03, 4.834300e+03, 5.984000e+02],\n",
       "       [1.399292e+06, 3.087370e+03, 4.764400e+03, 9.320000e+02],\n",
       "       [1.323670e+06, 3.103000e+03, 4.509600e+03, 8.440000e+02],\n",
       "       [1.397739e+06, 3.123110e+03, 5.119700e+03, 4.123000e+02],\n",
       "       [1.375012e+06, 3.136080e+03, 4.833500e+03, 9.706000e+02],\n",
       "       [1.402894e+06, 3.153540e+03, 5.086600e+03, 6.797000e+02],\n",
       "       [1.367035e+06, 3.175630e+03, 4.687900e+03, 7.964000e+02],\n",
       "       [1.322277e+06, 3.192940e+03, 4.723600e+03, 7.800000e+02],\n",
       "       [1.312843e+06, 3.209110e+03, 4.895500e+03, 8.534000e+02],\n",
       "       [1.374711e+06, 3.237580e+03, 4.987600e+03, 5.718000e+02],\n",
       "       [1.345772e+06, 3.255780e+03, 4.918900e+03, 7.623000e+02],\n",
       "       [1.387586e+06, 3.270370e+03, 4.822000e+03, 1.272700e+03],\n",
       "       [1.335710e+06, 3.294460e+03, 5.043900e+03, 7.650000e+02],\n",
       "       [1.278000e+06, 3.315380e+03, 4.815800e+03, 1.037800e+03],\n",
       "       [1.369014e+06, 3.333470e+03, 4.961800e+03, 8.865000e+02]])"
      ]
     },
     "execution_count": 17,
     "metadata": {},
     "output_type": "execute_result"
    }
   ],
   "source": [
    "#Separating the features and the target variable\n",
    "X = dfr.drop('rice_yield', axis = 1).values.astype(float) # Features\n",
    "y = dfr[[\"rice_yield\"]].values.astype(float) # Target\n",
    "X"
   ]
  },
  {
   "cell_type": "code",
   "execution_count": 18,
   "id": "d1b8be32",
   "metadata": {},
   "outputs": [],
   "source": [
    "### Sandardization of data ###\n",
    "from sklearn.preprocessing import StandardScaler\n",
    "scaledX = StandardScaler()\n",
    "scaledy = StandardScaler()"
   ]
  },
  {
   "cell_type": "code",
   "execution_count": 19,
   "id": "f62e9cf0",
   "metadata": {},
   "outputs": [],
   "source": [
    "# Storing the fit object for later reference\n",
    "X = scaledX.fit_transform(X)\n",
    "y = scaledy.fit_transform(y)\n",
    "y = y.ravel()"
   ]
  },
  {
   "cell_type": "code",
   "execution_count": 20,
   "id": "eb1a1335",
   "metadata": {},
   "outputs": [],
   "source": [
    "# Splitting the dataset into training and testing set (80/20)\n",
    "X_train, X_test, y_train, y_test = train_test_split(X, y, test_size = 0.3, random_state = 5)"
   ]
  },
  {
   "cell_type": "code",
   "execution_count": 21,
   "id": "2aa36390",
   "metadata": {},
   "outputs": [
    {
     "data": {
      "text/html": [
       "<style>#sk-container-id-2 {color: black;background-color: white;}#sk-container-id-2 pre{padding: 0;}#sk-container-id-2 div.sk-toggleable {background-color: white;}#sk-container-id-2 label.sk-toggleable__label {cursor: pointer;display: block;width: 100%;margin-bottom: 0;padding: 0.3em;box-sizing: border-box;text-align: center;}#sk-container-id-2 label.sk-toggleable__label-arrow:before {content: \"▸\";float: left;margin-right: 0.25em;color: #696969;}#sk-container-id-2 label.sk-toggleable__label-arrow:hover:before {color: black;}#sk-container-id-2 div.sk-estimator:hover label.sk-toggleable__label-arrow:before {color: black;}#sk-container-id-2 div.sk-toggleable__content {max-height: 0;max-width: 0;overflow: hidden;text-align: left;background-color: #f0f8ff;}#sk-container-id-2 div.sk-toggleable__content pre {margin: 0.2em;color: black;border-radius: 0.25em;background-color: #f0f8ff;}#sk-container-id-2 input.sk-toggleable__control:checked~div.sk-toggleable__content {max-height: 200px;max-width: 100%;overflow: auto;}#sk-container-id-2 input.sk-toggleable__control:checked~label.sk-toggleable__label-arrow:before {content: \"▾\";}#sk-container-id-2 div.sk-estimator input.sk-toggleable__control:checked~label.sk-toggleable__label {background-color: #d4ebff;}#sk-container-id-2 div.sk-label input.sk-toggleable__control:checked~label.sk-toggleable__label {background-color: #d4ebff;}#sk-container-id-2 input.sk-hidden--visually {border: 0;clip: rect(1px 1px 1px 1px);clip: rect(1px, 1px, 1px, 1px);height: 1px;margin: -1px;overflow: hidden;padding: 0;position: absolute;width: 1px;}#sk-container-id-2 div.sk-estimator {font-family: monospace;background-color: #f0f8ff;border: 1px dotted black;border-radius: 0.25em;box-sizing: border-box;margin-bottom: 0.5em;}#sk-container-id-2 div.sk-estimator:hover {background-color: #d4ebff;}#sk-container-id-2 div.sk-parallel-item::after {content: \"\";width: 100%;border-bottom: 1px solid gray;flex-grow: 1;}#sk-container-id-2 div.sk-label:hover label.sk-toggleable__label {background-color: #d4ebff;}#sk-container-id-2 div.sk-serial::before {content: \"\";position: absolute;border-left: 1px solid gray;box-sizing: border-box;top: 0;bottom: 0;left: 50%;z-index: 0;}#sk-container-id-2 div.sk-serial {display: flex;flex-direction: column;align-items: center;background-color: white;padding-right: 0.2em;padding-left: 0.2em;position: relative;}#sk-container-id-2 div.sk-item {position: relative;z-index: 1;}#sk-container-id-2 div.sk-parallel {display: flex;align-items: stretch;justify-content: center;background-color: white;position: relative;}#sk-container-id-2 div.sk-item::before, #sk-container-id-2 div.sk-parallel-item::before {content: \"\";position: absolute;border-left: 1px solid gray;box-sizing: border-box;top: 0;bottom: 0;left: 50%;z-index: -1;}#sk-container-id-2 div.sk-parallel-item {display: flex;flex-direction: column;z-index: 1;position: relative;background-color: white;}#sk-container-id-2 div.sk-parallel-item:first-child::after {align-self: flex-end;width: 50%;}#sk-container-id-2 div.sk-parallel-item:last-child::after {align-self: flex-start;width: 50%;}#sk-container-id-2 div.sk-parallel-item:only-child::after {width: 0;}#sk-container-id-2 div.sk-dashed-wrapped {border: 1px dashed gray;margin: 0 0.4em 0.5em 0.4em;box-sizing: border-box;padding-bottom: 0.4em;background-color: white;}#sk-container-id-2 div.sk-label label {font-family: monospace;font-weight: bold;display: inline-block;line-height: 1.2em;}#sk-container-id-2 div.sk-label-container {text-align: center;}#sk-container-id-2 div.sk-container {/* jupyter's `normalize.less` sets `[hidden] { display: none; }` but bootstrap.min.css set `[hidden] { display: none !important; }` so we also need the `!important` here to be able to override the default hidden behavior on the sphinx rendered scikit-learn.org. See: https://github.com/scikit-learn/scikit-learn/issues/21755 */display: inline-block !important;position: relative;}#sk-container-id-2 div.sk-text-repr-fallback {display: none;}</style><div id=\"sk-container-id-2\" class=\"sk-top-container\"><div class=\"sk-text-repr-fallback\"><pre>RandomForestRegressor(n_estimators=1000, random_state=5)</pre><b>In a Jupyter environment, please rerun this cell to show the HTML representation or trust the notebook. <br />On GitHub, the HTML representation is unable to render, please try loading this page with nbviewer.org.</b></div><div class=\"sk-container\" hidden><div class=\"sk-item\"><div class=\"sk-estimator sk-toggleable\"><input class=\"sk-toggleable__control sk-hidden--visually\" id=\"sk-estimator-id-2\" type=\"checkbox\" checked><label for=\"sk-estimator-id-2\" class=\"sk-toggleable__label sk-toggleable__label-arrow\">RandomForestRegressor</label><div class=\"sk-toggleable__content\"><pre>RandomForestRegressor(n_estimators=1000, random_state=5)</pre></div></div></div></div></div>"
      ],
      "text/plain": [
       "RandomForestRegressor(n_estimators=1000, random_state=5)"
      ]
     },
     "execution_count": 21,
     "metadata": {},
     "output_type": "execute_result"
    }
   ],
   "source": [
    "# Import the model we are using\n",
    "from sklearn.ensemble import RandomForestRegressor\n",
    "# Instantiate model with 1000 decision trees\n",
    "rf = RandomForestRegressor(n_estimators = 1000, random_state = 5)\n",
    "# Train the model on training data\n",
    "rf.fit(X_train, y_train)"
   ]
  },
  {
   "cell_type": "code",
   "execution_count": 22,
   "id": "099d0ebc",
   "metadata": {},
   "outputs": [],
   "source": [
    "# Predicting the target values of the test set\n",
    "y_pred = rf.predict(X_test)"
   ]
  },
  {
   "cell_type": "code",
   "execution_count": 23,
   "id": "5fe035ab",
   "metadata": {},
   "outputs": [
    {
     "name": "stdout",
     "output_type": "stream",
     "text": [
      "Mean absolute error : 0.30029644736613725\n"
     ]
    }
   ],
   "source": [
    "from sklearn.metrics import mean_absolute_error as mae\n",
    "error = mae(y_test, y_pred)\n",
    "print(\"Mean absolute error : \" + str(error))"
   ]
  },
  {
   "cell_type": "code",
   "execution_count": 24,
   "id": "77ee6a38",
   "metadata": {},
   "outputs": [
    {
     "name": "stdout",
     "output_type": "stream",
     "text": [
      "\n",
      "RMSE:  0.383\n"
     ]
    }
   ],
   "source": [
    "# RMSE (Root Mean Square Error)\n",
    "rmse = float(format(np.sqrt(mean_squared_error(y_test, y_pred)), '.3f'))\n",
    "print(\"\\nRMSE: \", rmse)"
   ]
  },
  {
   "cell_type": "code",
   "execution_count": 25,
   "id": "4ea583a8",
   "metadata": {},
   "outputs": [
    {
     "name": "stdout",
     "output_type": "stream",
     "text": [
      "R-Squared : 0.8904419266634679\n"
     ]
    }
   ],
   "source": [
    "from sklearn.metrics import r2_score\n",
    "r2 = r2_score(y_test, y_pred)\n",
    "print( \"R-Squared :\", r2)"
   ]
  },
  {
   "cell_type": "code",
   "execution_count": 26,
   "id": "cf42e30b",
   "metadata": {},
   "outputs": [
    {
     "name": "stdout",
     "output_type": "stream",
     "text": [
      "Mean Square Error : 0.14632398665717855\n"
     ]
    }
   ],
   "source": [
    "from sklearn.metrics import mean_squared_error\n",
    "mse = mean_squared_error(y_test, y_pred)\n",
    "print( \"Mean Square Error :\", mse)"
   ]
  },
  {
   "cell_type": "markdown",
   "id": "d26e0e36",
   "metadata": {},
   "source": [
    "## RANDOM FOREST REGRESSION FOR CROP WHEAT YIELD"
   ]
  },
  {
   "cell_type": "code",
   "execution_count": 27,
   "id": "56e2827a",
   "metadata": {},
   "outputs": [
    {
     "data": {
      "text/html": [
       "<div>\n",
       "<style scoped>\n",
       "    .dataframe tbody tr th:only-of-type {\n",
       "        vertical-align: middle;\n",
       "    }\n",
       "\n",
       "    .dataframe tbody tr th {\n",
       "        vertical-align: top;\n",
       "    }\n",
       "\n",
       "    .dataframe thead th {\n",
       "        text-align: right;\n",
       "    }\n",
       "</style>\n",
       "<table border=\"1\" class=\"dataframe\">\n",
       "  <thead>\n",
       "    <tr style=\"text-align: right;\">\n",
       "      <th></th>\n",
       "      <th>wheat_yield</th>\n",
       "      <th>solar_rad</th>\n",
       "      <th>co2</th>\n",
       "      <th>temp</th>\n",
       "      <th>precip</th>\n",
       "    </tr>\n",
       "  </thead>\n",
       "  <tbody>\n",
       "    <tr>\n",
       "      <th>0</th>\n",
       "      <td>22513</td>\n",
       "      <td>894031</td>\n",
       "      <td>2713.57</td>\n",
       "      <td>4030.5</td>\n",
       "      <td>592.2</td>\n",
       "    </tr>\n",
       "    <tr>\n",
       "      <th>1</th>\n",
       "      <td>23229</td>\n",
       "      <td>894031</td>\n",
       "      <td>2723.25</td>\n",
       "      <td>4784.5</td>\n",
       "      <td>629.3</td>\n",
       "    </tr>\n",
       "    <tr>\n",
       "      <th>2</th>\n",
       "      <td>23859</td>\n",
       "      <td>851000</td>\n",
       "      <td>2734.78</td>\n",
       "      <td>4563.0</td>\n",
       "      <td>681.0</td>\n",
       "    </tr>\n",
       "    <tr>\n",
       "      <th>3</th>\n",
       "      <td>26509</td>\n",
       "      <td>957440</td>\n",
       "      <td>2748.52</td>\n",
       "      <td>4722.5</td>\n",
       "      <td>941.0</td>\n",
       "    </tr>\n",
       "    <tr>\n",
       "      <th>4</th>\n",
       "      <td>26073</td>\n",
       "      <td>800268</td>\n",
       "      <td>2761.06</td>\n",
       "      <td>4546.8</td>\n",
       "      <td>982.0</td>\n",
       "    </tr>\n",
       "  </tbody>\n",
       "</table>\n",
       "</div>"
      ],
      "text/plain": [
       "   wheat_yield  solar_rad      co2    temp  precip\n",
       "0        22513     894031  2713.57  4030.5   592.2\n",
       "1        23229     894031  2723.25  4784.5   629.3\n",
       "2        23859     851000  2734.78  4563.0   681.0\n",
       "3        26509     957440  2748.52  4722.5   941.0\n",
       "4        26073     800268  2761.06  4546.8   982.0"
      ]
     },
     "execution_count": 27,
     "metadata": {},
     "output_type": "execute_result"
    }
   ],
   "source": [
    "dfw=df[['wheat_yield', 'solar_rad', 'co2', 'temp', 'precip']]\n",
    "dfw.head()"
   ]
  },
  {
   "cell_type": "code",
   "execution_count": 28,
   "id": "25fd2fd4",
   "metadata": {},
   "outputs": [
    {
     "data": {
      "text/plain": [
       "array([[8.940310e+05, 2.713570e+03, 4.030500e+03, 5.922000e+02],\n",
       "       [8.940310e+05, 2.723250e+03, 4.784500e+03, 6.293000e+02],\n",
       "       [8.510000e+05, 2.734780e+03, 4.563000e+03, 6.810000e+02],\n",
       "       [9.574400e+05, 2.748520e+03, 4.722500e+03, 9.410000e+02],\n",
       "       [8.002680e+05, 2.761060e+03, 4.546800e+03, 9.820000e+02],\n",
       "       [9.674170e+05, 2.773180e+03, 4.747400e+03, 6.544000e+02],\n",
       "       [1.014520e+06, 2.783230e+03, 4.689800e+03, 4.707000e+02],\n",
       "       [1.277547e+06, 2.797010e+03, 4.622600e+03, 5.948000e+02],\n",
       "       [1.063344e+06, 2.815860e+03, 4.525900e+03, 5.231000e+02],\n",
       "       [1.260174e+06, 2.827570e+03, 4.573100e+03, 1.060100e+03],\n",
       "       [1.279369e+06, 2.836930e+03, 4.663600e+03, 7.700000e+02],\n",
       "       [1.147922e+06, 2.848460e+03, 4.877400e+03, 5.254000e+02],\n",
       "       [1.106325e+06, 2.854980e+03, 4.273000e+03, 6.694000e+02],\n",
       "       [1.252046e+06, 2.859600e+03, 4.590500e+03, 9.044000e+02],\n",
       "       [1.273503e+06, 2.873380e+03, 4.634500e+03, 8.351000e+02],\n",
       "       [1.217411e+06, 2.890150e+03, 4.784200e+03, 7.181000e+02],\n",
       "       [1.319156e+06, 2.903960e+03, 4.425300e+03, 1.057600e+03],\n",
       "       [1.276186e+06, 2.911980e+03, 4.425000e+03, 8.510000e+02],\n",
       "       [1.189550e+06, 2.937650e+03, 4.752200e+03, 6.071000e+02],\n",
       "       [1.335292e+06, 2.949720e+03, 4.630100e+03, 1.075500e+03],\n",
       "       [1.354051e+06, 2.959080e+03, 4.571500e+03, 8.160000e+02],\n",
       "       [1.327417e+06, 2.971860e+03, 4.529200e+03, 6.159000e+02],\n",
       "       [1.367708e+06, 2.988970e+03, 4.828300e+03, 5.980000e+02],\n",
       "       [1.354871e+06, 3.009970e+03, 4.416400e+03, 1.113600e+03],\n",
       "       [1.317637e+06, 3.023500e+03, 4.695700e+03, 7.998000e+02],\n",
       "       [1.332535e+06, 3.042310e+03, 4.662300e+03, 8.719000e+02],\n",
       "       [1.355099e+06, 3.058730e+03, 4.639700e+03, 9.084000e+02],\n",
       "       [1.349506e+06, 3.074300e+03, 4.834300e+03, 5.984000e+02],\n",
       "       [1.399292e+06, 3.087370e+03, 4.764400e+03, 9.320000e+02],\n",
       "       [1.323670e+06, 3.103000e+03, 4.509600e+03, 8.440000e+02],\n",
       "       [1.397739e+06, 3.123110e+03, 5.119700e+03, 4.123000e+02],\n",
       "       [1.375012e+06, 3.136080e+03, 4.833500e+03, 9.706000e+02],\n",
       "       [1.402894e+06, 3.153540e+03, 5.086600e+03, 6.797000e+02],\n",
       "       [1.367035e+06, 3.175630e+03, 4.687900e+03, 7.964000e+02],\n",
       "       [1.322277e+06, 3.192940e+03, 4.723600e+03, 7.800000e+02],\n",
       "       [1.312843e+06, 3.209110e+03, 4.895500e+03, 8.534000e+02],\n",
       "       [1.374711e+06, 3.237580e+03, 4.987600e+03, 5.718000e+02],\n",
       "       [1.345772e+06, 3.255780e+03, 4.918900e+03, 7.623000e+02],\n",
       "       [1.387586e+06, 3.270370e+03, 4.822000e+03, 1.272700e+03],\n",
       "       [1.335710e+06, 3.294460e+03, 5.043900e+03, 7.650000e+02],\n",
       "       [1.278000e+06, 3.315380e+03, 4.815800e+03, 1.037800e+03],\n",
       "       [1.369014e+06, 3.333470e+03, 4.961800e+03, 8.865000e+02]])"
      ]
     },
     "execution_count": 28,
     "metadata": {},
     "output_type": "execute_result"
    }
   ],
   "source": [
    "#Separating the features and the target variable\n",
    "X = dfw.drop('wheat_yield', axis = 1).values.astype(float) # Features\n",
    "y = dfw[[\"wheat_yield\"]].values.astype(float) # Target\n",
    "X"
   ]
  },
  {
   "cell_type": "code",
   "execution_count": 29,
   "id": "6b5cc93d",
   "metadata": {},
   "outputs": [],
   "source": [
    "### Sandardization of data ###\n",
    "from sklearn.preprocessing import StandardScaler\n",
    "scaledX = StandardScaler()\n",
    "scaledy = StandardScaler()"
   ]
  },
  {
   "cell_type": "code",
   "execution_count": 30,
   "id": "d5d89999",
   "metadata": {},
   "outputs": [],
   "source": [
    "# Storing the fit object for later reference\n",
    "X = scaledX.fit_transform(X)\n",
    "y = scaledy.fit_transform(y)\n",
    "y = y.ravel()"
   ]
  },
  {
   "cell_type": "code",
   "execution_count": 31,
   "id": "f9fbdba1",
   "metadata": {},
   "outputs": [],
   "source": [
    "# Splitting the dataset into training and testing set (80/20)\n",
    "X_train, X_test, y_train, y_test = train_test_split(X, y, test_size = 0.3, random_state = 5)"
   ]
  },
  {
   "cell_type": "code",
   "execution_count": 32,
   "id": "13f649b9",
   "metadata": {},
   "outputs": [
    {
     "data": {
      "text/html": [
       "<style>#sk-container-id-3 {color: black;background-color: white;}#sk-container-id-3 pre{padding: 0;}#sk-container-id-3 div.sk-toggleable {background-color: white;}#sk-container-id-3 label.sk-toggleable__label {cursor: pointer;display: block;width: 100%;margin-bottom: 0;padding: 0.3em;box-sizing: border-box;text-align: center;}#sk-container-id-3 label.sk-toggleable__label-arrow:before {content: \"▸\";float: left;margin-right: 0.25em;color: #696969;}#sk-container-id-3 label.sk-toggleable__label-arrow:hover:before {color: black;}#sk-container-id-3 div.sk-estimator:hover label.sk-toggleable__label-arrow:before {color: black;}#sk-container-id-3 div.sk-toggleable__content {max-height: 0;max-width: 0;overflow: hidden;text-align: left;background-color: #f0f8ff;}#sk-container-id-3 div.sk-toggleable__content pre {margin: 0.2em;color: black;border-radius: 0.25em;background-color: #f0f8ff;}#sk-container-id-3 input.sk-toggleable__control:checked~div.sk-toggleable__content {max-height: 200px;max-width: 100%;overflow: auto;}#sk-container-id-3 input.sk-toggleable__control:checked~label.sk-toggleable__label-arrow:before {content: \"▾\";}#sk-container-id-3 div.sk-estimator input.sk-toggleable__control:checked~label.sk-toggleable__label {background-color: #d4ebff;}#sk-container-id-3 div.sk-label input.sk-toggleable__control:checked~label.sk-toggleable__label {background-color: #d4ebff;}#sk-container-id-3 input.sk-hidden--visually {border: 0;clip: rect(1px 1px 1px 1px);clip: rect(1px, 1px, 1px, 1px);height: 1px;margin: -1px;overflow: hidden;padding: 0;position: absolute;width: 1px;}#sk-container-id-3 div.sk-estimator {font-family: monospace;background-color: #f0f8ff;border: 1px dotted black;border-radius: 0.25em;box-sizing: border-box;margin-bottom: 0.5em;}#sk-container-id-3 div.sk-estimator:hover {background-color: #d4ebff;}#sk-container-id-3 div.sk-parallel-item::after {content: \"\";width: 100%;border-bottom: 1px solid gray;flex-grow: 1;}#sk-container-id-3 div.sk-label:hover label.sk-toggleable__label {background-color: #d4ebff;}#sk-container-id-3 div.sk-serial::before {content: \"\";position: absolute;border-left: 1px solid gray;box-sizing: border-box;top: 0;bottom: 0;left: 50%;z-index: 0;}#sk-container-id-3 div.sk-serial {display: flex;flex-direction: column;align-items: center;background-color: white;padding-right: 0.2em;padding-left: 0.2em;position: relative;}#sk-container-id-3 div.sk-item {position: relative;z-index: 1;}#sk-container-id-3 div.sk-parallel {display: flex;align-items: stretch;justify-content: center;background-color: white;position: relative;}#sk-container-id-3 div.sk-item::before, #sk-container-id-3 div.sk-parallel-item::before {content: \"\";position: absolute;border-left: 1px solid gray;box-sizing: border-box;top: 0;bottom: 0;left: 50%;z-index: -1;}#sk-container-id-3 div.sk-parallel-item {display: flex;flex-direction: column;z-index: 1;position: relative;background-color: white;}#sk-container-id-3 div.sk-parallel-item:first-child::after {align-self: flex-end;width: 50%;}#sk-container-id-3 div.sk-parallel-item:last-child::after {align-self: flex-start;width: 50%;}#sk-container-id-3 div.sk-parallel-item:only-child::after {width: 0;}#sk-container-id-3 div.sk-dashed-wrapped {border: 1px dashed gray;margin: 0 0.4em 0.5em 0.4em;box-sizing: border-box;padding-bottom: 0.4em;background-color: white;}#sk-container-id-3 div.sk-label label {font-family: monospace;font-weight: bold;display: inline-block;line-height: 1.2em;}#sk-container-id-3 div.sk-label-container {text-align: center;}#sk-container-id-3 div.sk-container {/* jupyter's `normalize.less` sets `[hidden] { display: none; }` but bootstrap.min.css set `[hidden] { display: none !important; }` so we also need the `!important` here to be able to override the default hidden behavior on the sphinx rendered scikit-learn.org. See: https://github.com/scikit-learn/scikit-learn/issues/21755 */display: inline-block !important;position: relative;}#sk-container-id-3 div.sk-text-repr-fallback {display: none;}</style><div id=\"sk-container-id-3\" class=\"sk-top-container\"><div class=\"sk-text-repr-fallback\"><pre>RandomForestRegressor(n_estimators=1000, random_state=5)</pre><b>In a Jupyter environment, please rerun this cell to show the HTML representation or trust the notebook. <br />On GitHub, the HTML representation is unable to render, please try loading this page with nbviewer.org.</b></div><div class=\"sk-container\" hidden><div class=\"sk-item\"><div class=\"sk-estimator sk-toggleable\"><input class=\"sk-toggleable__control sk-hidden--visually\" id=\"sk-estimator-id-3\" type=\"checkbox\" checked><label for=\"sk-estimator-id-3\" class=\"sk-toggleable__label sk-toggleable__label-arrow\">RandomForestRegressor</label><div class=\"sk-toggleable__content\"><pre>RandomForestRegressor(n_estimators=1000, random_state=5)</pre></div></div></div></div></div>"
      ],
      "text/plain": [
       "RandomForestRegressor(n_estimators=1000, random_state=5)"
      ]
     },
     "execution_count": 32,
     "metadata": {},
     "output_type": "execute_result"
    }
   ],
   "source": [
    "# Import the model we are using\n",
    "from sklearn.ensemble import RandomForestRegressor\n",
    "# Instantiate model with 1000 decision trees\n",
    "rf = RandomForestRegressor(n_estimators = 1000, random_state = 5)\n",
    "# Train the model on training data\n",
    "rf.fit(X_train, y_train)"
   ]
  },
  {
   "cell_type": "code",
   "execution_count": 33,
   "id": "71db9f15",
   "metadata": {},
   "outputs": [],
   "source": [
    "# Predicting the target values of the test set\n",
    "y_pred = rf.predict(X_test)"
   ]
  },
  {
   "cell_type": "code",
   "execution_count": 34,
   "id": "282b2db2",
   "metadata": {},
   "outputs": [
    {
     "name": "stdout",
     "output_type": "stream",
     "text": [
      "Mean absolute error : 0.6080248133560212\n"
     ]
    }
   ],
   "source": [
    "from sklearn.metrics import mean_absolute_error as mae\n",
    "error = mae(y_test, y_pred)\n",
    "print(\"Mean absolute error : \" + str(error))"
   ]
  },
  {
   "cell_type": "code",
   "execution_count": 35,
   "id": "2fecb905",
   "metadata": {},
   "outputs": [
    {
     "name": "stdout",
     "output_type": "stream",
     "text": [
      "\n",
      "RMSE:  0.704\n"
     ]
    }
   ],
   "source": [
    "# RMSE (Root Mean Square Error)\n",
    "rmse = float(format(np.sqrt(mean_squared_error(y_test, y_pred)), '.3f'))\n",
    "print(\"\\nRMSE: \", rmse)"
   ]
  },
  {
   "cell_type": "code",
   "execution_count": 36,
   "id": "7a7676de",
   "metadata": {},
   "outputs": [
    {
     "name": "stdout",
     "output_type": "stream",
     "text": [
      "R Squared : 0.5207873861050403\n"
     ]
    }
   ],
   "source": [
    "from sklearn.metrics import r2_score\n",
    "r2 = r2_score(y_test, y_pred)\n",
    "print(\"R Squared :\", r2)"
   ]
  },
  {
   "cell_type": "code",
   "execution_count": 37,
   "id": "a47b7a2c",
   "metadata": {},
   "outputs": [
    {
     "name": "stdout",
     "output_type": "stream",
     "text": [
      "Mean Square Error : 0.4960997141457818\n"
     ]
    }
   ],
   "source": [
    "from sklearn.metrics import mean_squared_error\n",
    "mse = mean_squared_error(y_test, y_pred)\n",
    "print( \"Mean Square Error :\", mse)"
   ]
  },
  {
   "cell_type": "markdown",
   "id": "45e89f94",
   "metadata": {},
   "source": [
    "## RANDOM FOREST REGRESSION FOR CROP POTATO YIELD"
   ]
  },
  {
   "cell_type": "code",
   "execution_count": 38,
   "id": "c02b60dd",
   "metadata": {},
   "outputs": [
    {
     "data": {
      "text/html": [
       "<div>\n",
       "<style scoped>\n",
       "    .dataframe tbody tr th:only-of-type {\n",
       "        vertical-align: middle;\n",
       "    }\n",
       "\n",
       "    .dataframe tbody tr th {\n",
       "        vertical-align: top;\n",
       "    }\n",
       "\n",
       "    .dataframe thead th {\n",
       "        text-align: right;\n",
       "    }\n",
       "</style>\n",
       "<table border=\"1\" class=\"dataframe\">\n",
       "  <thead>\n",
       "    <tr style=\"text-align: right;\">\n",
       "      <th></th>\n",
       "      <th>pot_yield</th>\n",
       "      <th>solar_rad</th>\n",
       "      <th>co2</th>\n",
       "      <th>temp</th>\n",
       "      <th>precip</th>\n",
       "    </tr>\n",
       "  </thead>\n",
       "  <tbody>\n",
       "    <tr>\n",
       "      <th>0</th>\n",
       "      <td>295245</td>\n",
       "      <td>894031</td>\n",
       "      <td>2713.57</td>\n",
       "      <td>4030.5</td>\n",
       "      <td>592.2</td>\n",
       "    </tr>\n",
       "    <tr>\n",
       "      <th>1</th>\n",
       "      <td>308199</td>\n",
       "      <td>894031</td>\n",
       "      <td>2723.25</td>\n",
       "      <td>4784.5</td>\n",
       "      <td>629.3</td>\n",
       "    </tr>\n",
       "    <tr>\n",
       "      <th>2</th>\n",
       "      <td>312544</td>\n",
       "      <td>851000</td>\n",
       "      <td>2734.78</td>\n",
       "      <td>4563.0</td>\n",
       "      <td>681.0</td>\n",
       "    </tr>\n",
       "    <tr>\n",
       "      <th>3</th>\n",
       "      <td>299754</td>\n",
       "      <td>957440</td>\n",
       "      <td>2748.52</td>\n",
       "      <td>4722.5</td>\n",
       "      <td>941.0</td>\n",
       "    </tr>\n",
       "    <tr>\n",
       "      <th>4</th>\n",
       "      <td>311082</td>\n",
       "      <td>800268</td>\n",
       "      <td>2761.06</td>\n",
       "      <td>4546.8</td>\n",
       "      <td>982.0</td>\n",
       "    </tr>\n",
       "  </tbody>\n",
       "</table>\n",
       "</div>"
      ],
      "text/plain": [
       "   pot_yield  solar_rad      co2    temp  precip\n",
       "0     295245     894031  2713.57  4030.5   592.2\n",
       "1     308199     894031  2723.25  4784.5   629.3\n",
       "2     312544     851000  2734.78  4563.0   681.0\n",
       "3     299754     957440  2748.52  4722.5   941.0\n",
       "4     311082     800268  2761.06  4546.8   982.0"
      ]
     },
     "execution_count": 38,
     "metadata": {},
     "output_type": "execute_result"
    }
   ],
   "source": [
    "dfp=df[['pot_yield', 'solar_rad', 'co2', 'temp', 'precip']]\n",
    "dfp.head()"
   ]
  },
  {
   "cell_type": "code",
   "execution_count": 39,
   "id": "ceb6b0ca",
   "metadata": {},
   "outputs": [
    {
     "data": {
      "text/plain": [
       "array([[8.940310e+05, 2.713570e+03, 4.030500e+03, 5.922000e+02],\n",
       "       [8.940310e+05, 2.723250e+03, 4.784500e+03, 6.293000e+02],\n",
       "       [8.510000e+05, 2.734780e+03, 4.563000e+03, 6.810000e+02],\n",
       "       [9.574400e+05, 2.748520e+03, 4.722500e+03, 9.410000e+02],\n",
       "       [8.002680e+05, 2.761060e+03, 4.546800e+03, 9.820000e+02],\n",
       "       [9.674170e+05, 2.773180e+03, 4.747400e+03, 6.544000e+02],\n",
       "       [1.014520e+06, 2.783230e+03, 4.689800e+03, 4.707000e+02],\n",
       "       [1.277547e+06, 2.797010e+03, 4.622600e+03, 5.948000e+02],\n",
       "       [1.063344e+06, 2.815860e+03, 4.525900e+03, 5.231000e+02],\n",
       "       [1.260174e+06, 2.827570e+03, 4.573100e+03, 1.060100e+03],\n",
       "       [1.279369e+06, 2.836930e+03, 4.663600e+03, 7.700000e+02],\n",
       "       [1.147922e+06, 2.848460e+03, 4.877400e+03, 5.254000e+02],\n",
       "       [1.106325e+06, 2.854980e+03, 4.273000e+03, 6.694000e+02],\n",
       "       [1.252046e+06, 2.859600e+03, 4.590500e+03, 9.044000e+02],\n",
       "       [1.273503e+06, 2.873380e+03, 4.634500e+03, 8.351000e+02],\n",
       "       [1.217411e+06, 2.890150e+03, 4.784200e+03, 7.181000e+02],\n",
       "       [1.319156e+06, 2.903960e+03, 4.425300e+03, 1.057600e+03],\n",
       "       [1.276186e+06, 2.911980e+03, 4.425000e+03, 8.510000e+02],\n",
       "       [1.189550e+06, 2.937650e+03, 4.752200e+03, 6.071000e+02],\n",
       "       [1.335292e+06, 2.949720e+03, 4.630100e+03, 1.075500e+03],\n",
       "       [1.354051e+06, 2.959080e+03, 4.571500e+03, 8.160000e+02],\n",
       "       [1.327417e+06, 2.971860e+03, 4.529200e+03, 6.159000e+02],\n",
       "       [1.367708e+06, 2.988970e+03, 4.828300e+03, 5.980000e+02],\n",
       "       [1.354871e+06, 3.009970e+03, 4.416400e+03, 1.113600e+03],\n",
       "       [1.317637e+06, 3.023500e+03, 4.695700e+03, 7.998000e+02],\n",
       "       [1.332535e+06, 3.042310e+03, 4.662300e+03, 8.719000e+02],\n",
       "       [1.355099e+06, 3.058730e+03, 4.639700e+03, 9.084000e+02],\n",
       "       [1.349506e+06, 3.074300e+03, 4.834300e+03, 5.984000e+02],\n",
       "       [1.399292e+06, 3.087370e+03, 4.764400e+03, 9.320000e+02],\n",
       "       [1.323670e+06, 3.103000e+03, 4.509600e+03, 8.440000e+02],\n",
       "       [1.397739e+06, 3.123110e+03, 5.119700e+03, 4.123000e+02],\n",
       "       [1.375012e+06, 3.136080e+03, 4.833500e+03, 9.706000e+02],\n",
       "       [1.402894e+06, 3.153540e+03, 5.086600e+03, 6.797000e+02],\n",
       "       [1.367035e+06, 3.175630e+03, 4.687900e+03, 7.964000e+02],\n",
       "       [1.322277e+06, 3.192940e+03, 4.723600e+03, 7.800000e+02],\n",
       "       [1.312843e+06, 3.209110e+03, 4.895500e+03, 8.534000e+02],\n",
       "       [1.374711e+06, 3.237580e+03, 4.987600e+03, 5.718000e+02],\n",
       "       [1.345772e+06, 3.255780e+03, 4.918900e+03, 7.623000e+02],\n",
       "       [1.387586e+06, 3.270370e+03, 4.822000e+03, 1.272700e+03],\n",
       "       [1.335710e+06, 3.294460e+03, 5.043900e+03, 7.650000e+02],\n",
       "       [1.278000e+06, 3.315380e+03, 4.815800e+03, 1.037800e+03],\n",
       "       [1.369014e+06, 3.333470e+03, 4.961800e+03, 8.865000e+02]])"
      ]
     },
     "execution_count": 39,
     "metadata": {},
     "output_type": "execute_result"
    }
   ],
   "source": [
    "#Separating the features and the target variable\n",
    "X = dfp.drop('pot_yield', axis = 1).values.astype(float) # Features\n",
    "y = dfp[[\"pot_yield\"]].values.astype(float) # Target\n",
    "X"
   ]
  },
  {
   "cell_type": "code",
   "execution_count": 40,
   "id": "a640f5b3",
   "metadata": {},
   "outputs": [],
   "source": [
    "### Sandardization of data ###\n",
    "from sklearn.preprocessing import StandardScaler\n",
    "scaledX = StandardScaler()\n",
    "scaledy = StandardScaler()"
   ]
  },
  {
   "cell_type": "code",
   "execution_count": 41,
   "id": "847a345a",
   "metadata": {},
   "outputs": [],
   "source": [
    "# Storing the fit object for later reference\n",
    "X = scaledX.fit_transform(X)\n",
    "y = scaledy.fit_transform(y)\n",
    "y=y.ravel()"
   ]
  },
  {
   "cell_type": "code",
   "execution_count": 42,
   "id": "f5766b58",
   "metadata": {},
   "outputs": [],
   "source": [
    "# Splitting the dataset into training and testing set (80/20)\n",
    "X_train, X_test, y_train, y_test = train_test_split(X, y, test_size = 0.3, random_state = 5)"
   ]
  },
  {
   "cell_type": "code",
   "execution_count": 43,
   "id": "465afbcc",
   "metadata": {},
   "outputs": [],
   "source": [
    "# Import the model we are using\n",
    "from sklearn.ensemble import RandomForestRegressor\n",
    "# Instantiate model with 1000 decision trees\n",
    "rf = RandomForestRegressor(n_estimators = 1000, random_state = 5)\n",
    "# Train the model on training data\n",
    "rf.fit(X_train, y_train);"
   ]
  },
  {
   "cell_type": "code",
   "execution_count": 44,
   "id": "a301c704",
   "metadata": {},
   "outputs": [],
   "source": [
    "# Predicting the target values of the test set\n",
    "y_pred = rf.predict(X_test)"
   ]
  },
  {
   "cell_type": "code",
   "execution_count": 45,
   "id": "e497472a",
   "metadata": {},
   "outputs": [
    {
     "name": "stdout",
     "output_type": "stream",
     "text": [
      "Mean absolute error : 0.16091194796397812\n"
     ]
    }
   ],
   "source": [
    "from sklearn.metrics import mean_absolute_error as mae\n",
    "error = mae(y_test, y_pred)\n",
    "print(\"Mean absolute error : \" + str(error))"
   ]
  },
  {
   "cell_type": "code",
   "execution_count": 46,
   "id": "f07d6a83",
   "metadata": {},
   "outputs": [
    {
     "name": "stdout",
     "output_type": "stream",
     "text": [
      "\n",
      "RMSE:  0.195\n"
     ]
    }
   ],
   "source": [
    "# RMSE (Root Mean Square Error)\n",
    "rmse = float(format(np.sqrt(mean_squared_error(y_test, y_pred)), '.3f'))\n",
    "print(\"\\nRMSE: \", rmse)"
   ]
  },
  {
   "cell_type": "code",
   "execution_count": 47,
   "id": "faa7924c",
   "metadata": {},
   "outputs": [
    {
     "name": "stdout",
     "output_type": "stream",
     "text": [
      "R-Squared : 0.9697945016779979\n"
     ]
    }
   ],
   "source": [
    "from sklearn.metrics import r2_score\n",
    "r2 = r2_score(y_test, y_pred)\n",
    "print( \"R-Squared :\", r2)"
   ]
  },
  {
   "cell_type": "code",
   "execution_count": 48,
   "id": "66e0cabc",
   "metadata": {},
   "outputs": [
    {
     "name": "stdout",
     "output_type": "stream",
     "text": [
      "Mean Square Error : 0.038120850906141215\n"
     ]
    }
   ],
   "source": [
    "from sklearn.metrics import mean_squared_error\n",
    "mse = mean_squared_error(y_test, y_pred)\n",
    "print( \"Mean Square Error :\", mse)"
   ]
  }
 ],
 "metadata": {
  "kernelspec": {
   "display_name": "Python 3 (ipykernel)",
   "language": "python",
   "name": "python3"
  },
  "language_info": {
   "codemirror_mode": {
    "name": "ipython",
    "version": 3
   },
   "file_extension": ".py",
   "mimetype": "text/x-python",
   "name": "python",
   "nbconvert_exporter": "python",
   "pygments_lexer": "ipython3",
   "version": "3.10.9"
  }
 },
 "nbformat": 4,
 "nbformat_minor": 5
}
