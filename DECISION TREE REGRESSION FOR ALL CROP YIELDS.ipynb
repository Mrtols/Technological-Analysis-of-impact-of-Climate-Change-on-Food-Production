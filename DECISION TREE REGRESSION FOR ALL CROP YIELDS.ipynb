{
 "cells": [
  {
   "cell_type": "code",
   "execution_count": 1,
   "id": "fb244263",
   "metadata": {},
   "outputs": [],
   "source": [
    "import numpy as np # for array operations\n",
    "import pandas as pd # for working with DataFrames\n",
    "import requests, io # for HTTP requests and I/O commands\n",
    "import matplotlib.pyplot as plt # for data visualization\n",
    "%matplotlib inline\n",
    "\n",
    "from sklearn.model_selection import train_test_split # for splitting the data\n",
    "from sklearn.metrics import mean_squared_error # for calculating the cost function\n",
    "from sklearn.tree import DecisionTreeRegressor # for building the model"
   ]
  },
  {
   "cell_type": "code",
   "execution_count": 2,
   "id": "7a761dd9",
   "metadata": {},
   "outputs": [
    {
     "data": {
      "text/html": [
       "<div>\n",
       "<style scoped>\n",
       "    .dataframe tbody tr th:only-of-type {\n",
       "        vertical-align: middle;\n",
       "    }\n",
       "\n",
       "    .dataframe tbody tr th {\n",
       "        vertical-align: top;\n",
       "    }\n",
       "\n",
       "    .dataframe thead th {\n",
       "        text-align: right;\n",
       "    }\n",
       "</style>\n",
       "<table border=\"1\" class=\"dataframe\">\n",
       "  <thead>\n",
       "    <tr style=\"text-align: right;\">\n",
       "      <th></th>\n",
       "      <th>year</th>\n",
       "      <th>country</th>\n",
       "      <th>maize_yield</th>\n",
       "      <th>pot_yield</th>\n",
       "      <th>wheat_yield</th>\n",
       "      <th>rice_yield</th>\n",
       "      <th>Production(Maize)Tonnes</th>\n",
       "      <th>Production Potatoes(Tonnes)</th>\n",
       "      <th>Production Wheat(Tonnes)</th>\n",
       "      <th>Production Rice(Tonnes)</th>\n",
       "      <th>solar_rad</th>\n",
       "      <th>co2</th>\n",
       "      <th>temp</th>\n",
       "      <th>precip</th>\n",
       "    </tr>\n",
       "  </thead>\n",
       "  <tbody>\n",
       "    <tr>\n",
       "      <th>0</th>\n",
       "      <td>1980</td>\n",
       "      <td>United States of America</td>\n",
       "      <td>57118</td>\n",
       "      <td>295245</td>\n",
       "      <td>22513</td>\n",
       "      <td>49461</td>\n",
       "      <td>168647008</td>\n",
       "      <td>13785000</td>\n",
       "      <td>64799504</td>\n",
       "      <td>6629250</td>\n",
       "      <td>894031</td>\n",
       "      <td>2713.57</td>\n",
       "      <td>4030.5</td>\n",
       "      <td>592.2</td>\n",
       "    </tr>\n",
       "    <tr>\n",
       "      <th>1</th>\n",
       "      <td>1981</td>\n",
       "      <td>United States of America</td>\n",
       "      <td>68380</td>\n",
       "      <td>308199</td>\n",
       "      <td>23229</td>\n",
       "      <td>54015</td>\n",
       "      <td>206222000</td>\n",
       "      <td>15450000</td>\n",
       "      <td>75806304</td>\n",
       "      <td>8289040</td>\n",
       "      <td>894031</td>\n",
       "      <td>2723.25</td>\n",
       "      <td>4784.5</td>\n",
       "      <td>629.3</td>\n",
       "    </tr>\n",
       "    <tr>\n",
       "      <th>2</th>\n",
       "      <td>1982</td>\n",
       "      <td>United States of America</td>\n",
       "      <td>71082</td>\n",
       "      <td>312544</td>\n",
       "      <td>23859</td>\n",
       "      <td>52791</td>\n",
       "      <td>209180000</td>\n",
       "      <td>16108500</td>\n",
       "      <td>75251296</td>\n",
       "      <td>6968900</td>\n",
       "      <td>851000</td>\n",
       "      <td>2734.78</td>\n",
       "      <td>4563.0</td>\n",
       "      <td>681.0</td>\n",
       "    </tr>\n",
       "    <tr>\n",
       "      <th>3</th>\n",
       "      <td>1983</td>\n",
       "      <td>United States of America</td>\n",
       "      <td>50893</td>\n",
       "      <td>299754</td>\n",
       "      <td>26509</td>\n",
       "      <td>51532</td>\n",
       "      <td>106030000</td>\n",
       "      <td>15137600</td>\n",
       "      <td>65857904</td>\n",
       "      <td>4523200</td>\n",
       "      <td>957440</td>\n",
       "      <td>2748.52</td>\n",
       "      <td>4722.5</td>\n",
       "      <td>941.0</td>\n",
       "    </tr>\n",
       "    <tr>\n",
       "      <th>4</th>\n",
       "      <td>1984</td>\n",
       "      <td>United States of America</td>\n",
       "      <td>66981</td>\n",
       "      <td>311082</td>\n",
       "      <td>26073</td>\n",
       "      <td>55523</td>\n",
       "      <td>194880000</td>\n",
       "      <td>16422000</td>\n",
       "      <td>70618000</td>\n",
       "      <td>6296300</td>\n",
       "      <td>800268</td>\n",
       "      <td>2761.06</td>\n",
       "      <td>4546.8</td>\n",
       "      <td>982.0</td>\n",
       "    </tr>\n",
       "  </tbody>\n",
       "</table>\n",
       "</div>"
      ],
      "text/plain": [
       "   year                   country  maize_yield  pot_yield  wheat_yield  \\\n",
       "0  1980  United States of America        57118     295245        22513   \n",
       "1  1981  United States of America        68380     308199        23229   \n",
       "2  1982  United States of America        71082     312544        23859   \n",
       "3  1983  United States of America        50893     299754        26509   \n",
       "4  1984  United States of America        66981     311082        26073   \n",
       "\n",
       "   rice_yield  Production(Maize)Tonnes  Production Potatoes(Tonnes)  \\\n",
       "0       49461                168647008                     13785000   \n",
       "1       54015                206222000                     15450000   \n",
       "2       52791                209180000                     16108500   \n",
       "3       51532                106030000                     15137600   \n",
       "4       55523                194880000                     16422000   \n",
       "\n",
       "   Production Wheat(Tonnes)  Production Rice(Tonnes)  solar_rad      co2  \\\n",
       "0                  64799504                  6629250     894031  2713.57   \n",
       "1                  75806304                  8289040     894031  2723.25   \n",
       "2                  75251296                  6968900     851000  2734.78   \n",
       "3                  65857904                  4523200     957440  2748.52   \n",
       "4                  70618000                  6296300     800268  2761.06   \n",
       "\n",
       "     temp  precip  \n",
       "0  4030.5   592.2  \n",
       "1  4784.5   629.3  \n",
       "2  4563.0   681.0  \n",
       "3  4722.5   941.0  \n",
       "4  4546.8   982.0  "
      ]
     },
     "execution_count": 2,
     "metadata": {},
     "output_type": "execute_result"
    }
   ],
   "source": [
    "df=pd.read_csv(r\"C:\\Users\\TOLS\\OneDrive - Cardiff Metropolitan University\\Dissertation\\DISSERTATION DATA\\DISSERTATION.csv\")\n",
    "df.head(5)"
   ]
  },
  {
   "cell_type": "code",
   "execution_count": 3,
   "id": "529f320c",
   "metadata": {},
   "outputs": [
    {
     "data": {
      "text/plain": [
       "Index(['year', 'country', 'maize_yield', 'pot_yield', 'wheat_yield',\n",
       "       'rice_yield', 'Production(Maize)Tonnes', 'Production Potatoes(Tonnes)',\n",
       "       'Production Wheat(Tonnes)', 'Production Rice(Tonnes)', 'solar_rad',\n",
       "       'co2', 'temp', 'precip'],\n",
       "      dtype='object')"
      ]
     },
     "execution_count": 3,
     "metadata": {},
     "output_type": "execute_result"
    }
   ],
   "source": [
    "df.columns"
   ]
  },
  {
   "cell_type": "markdown",
   "id": "8181606a",
   "metadata": {},
   "source": [
    "## DECISION TREE REGRESSION FOR MAIZE YIELD"
   ]
  },
  {
   "cell_type": "code",
   "execution_count": 4,
   "id": "573097b9",
   "metadata": {},
   "outputs": [
    {
     "data": {
      "text/html": [
       "<div>\n",
       "<style scoped>\n",
       "    .dataframe tbody tr th:only-of-type {\n",
       "        vertical-align: middle;\n",
       "    }\n",
       "\n",
       "    .dataframe tbody tr th {\n",
       "        vertical-align: top;\n",
       "    }\n",
       "\n",
       "    .dataframe thead th {\n",
       "        text-align: right;\n",
       "    }\n",
       "</style>\n",
       "<table border=\"1\" class=\"dataframe\">\n",
       "  <thead>\n",
       "    <tr style=\"text-align: right;\">\n",
       "      <th></th>\n",
       "      <th>maize_yield</th>\n",
       "      <th>solar_rad</th>\n",
       "      <th>co2</th>\n",
       "      <th>temp</th>\n",
       "      <th>precip</th>\n",
       "    </tr>\n",
       "  </thead>\n",
       "  <tbody>\n",
       "    <tr>\n",
       "      <th>0</th>\n",
       "      <td>57118</td>\n",
       "      <td>894031</td>\n",
       "      <td>2713.57</td>\n",
       "      <td>4030.5</td>\n",
       "      <td>592.2</td>\n",
       "    </tr>\n",
       "    <tr>\n",
       "      <th>1</th>\n",
       "      <td>68380</td>\n",
       "      <td>894031</td>\n",
       "      <td>2723.25</td>\n",
       "      <td>4784.5</td>\n",
       "      <td>629.3</td>\n",
       "    </tr>\n",
       "    <tr>\n",
       "      <th>2</th>\n",
       "      <td>71082</td>\n",
       "      <td>851000</td>\n",
       "      <td>2734.78</td>\n",
       "      <td>4563.0</td>\n",
       "      <td>681.0</td>\n",
       "    </tr>\n",
       "    <tr>\n",
       "      <th>3</th>\n",
       "      <td>50893</td>\n",
       "      <td>957440</td>\n",
       "      <td>2748.52</td>\n",
       "      <td>4722.5</td>\n",
       "      <td>941.0</td>\n",
       "    </tr>\n",
       "    <tr>\n",
       "      <th>4</th>\n",
       "      <td>66981</td>\n",
       "      <td>800268</td>\n",
       "      <td>2761.06</td>\n",
       "      <td>4546.8</td>\n",
       "      <td>982.0</td>\n",
       "    </tr>\n",
       "  </tbody>\n",
       "</table>\n",
       "</div>"
      ],
      "text/plain": [
       "   maize_yield  solar_rad      co2    temp  precip\n",
       "0        57118     894031  2713.57  4030.5   592.2\n",
       "1        68380     894031  2723.25  4784.5   629.3\n",
       "2        71082     851000  2734.78  4563.0   681.0\n",
       "3        50893     957440  2748.52  4722.5   941.0\n",
       "4        66981     800268  2761.06  4546.8   982.0"
      ]
     },
     "execution_count": 4,
     "metadata": {},
     "output_type": "execute_result"
    }
   ],
   "source": [
    "dfm=df[['maize_yield', 'solar_rad', 'co2', 'temp', 'precip']]\n",
    "dfm.head()"
   ]
  },
  {
   "cell_type": "code",
   "execution_count": 5,
   "id": "418c7830",
   "metadata": {},
   "outputs": [
    {
     "data": {
      "text/plain": [
       "array([[8.940310e+05, 2.713570e+03, 4.030500e+03, 5.922000e+02],\n",
       "       [8.940310e+05, 2.723250e+03, 4.784500e+03, 6.293000e+02],\n",
       "       [8.510000e+05, 2.734780e+03, 4.563000e+03, 6.810000e+02],\n",
       "       [9.574400e+05, 2.748520e+03, 4.722500e+03, 9.410000e+02],\n",
       "       [8.002680e+05, 2.761060e+03, 4.546800e+03, 9.820000e+02],\n",
       "       [9.674170e+05, 2.773180e+03, 4.747400e+03, 6.544000e+02],\n",
       "       [1.014520e+06, 2.783230e+03, 4.689800e+03, 4.707000e+02],\n",
       "       [1.277547e+06, 2.797010e+03, 4.622600e+03, 5.948000e+02],\n",
       "       [1.063344e+06, 2.815860e+03, 4.525900e+03, 5.231000e+02],\n",
       "       [1.260174e+06, 2.827570e+03, 4.573100e+03, 1.060100e+03],\n",
       "       [1.279369e+06, 2.836930e+03, 4.663600e+03, 7.700000e+02],\n",
       "       [1.147922e+06, 2.848460e+03, 4.877400e+03, 5.254000e+02],\n",
       "       [1.106325e+06, 2.854980e+03, 4.273000e+03, 6.694000e+02],\n",
       "       [1.252046e+06, 2.859600e+03, 4.590500e+03, 9.044000e+02],\n",
       "       [1.273503e+06, 2.873380e+03, 4.634500e+03, 8.351000e+02],\n",
       "       [1.217411e+06, 2.890150e+03, 4.784200e+03, 7.181000e+02],\n",
       "       [1.319156e+06, 2.903960e+03, 4.425300e+03, 1.057600e+03],\n",
       "       [1.276186e+06, 2.911980e+03, 4.425000e+03, 8.510000e+02],\n",
       "       [1.189550e+06, 2.937650e+03, 4.752200e+03, 6.071000e+02],\n",
       "       [1.335292e+06, 2.949720e+03, 4.630100e+03, 1.075500e+03],\n",
       "       [1.354051e+06, 2.959080e+03, 4.571500e+03, 8.160000e+02],\n",
       "       [1.327417e+06, 2.971860e+03, 4.529200e+03, 6.159000e+02],\n",
       "       [1.367708e+06, 2.988970e+03, 4.828300e+03, 5.980000e+02],\n",
       "       [1.354871e+06, 3.009970e+03, 4.416400e+03, 1.113600e+03],\n",
       "       [1.317637e+06, 3.023500e+03, 4.695700e+03, 7.998000e+02],\n",
       "       [1.332535e+06, 3.042310e+03, 4.662300e+03, 8.719000e+02],\n",
       "       [1.355099e+06, 3.058730e+03, 4.639700e+03, 9.084000e+02],\n",
       "       [1.349506e+06, 3.074300e+03, 4.834300e+03, 5.984000e+02],\n",
       "       [1.399292e+06, 3.087370e+03, 4.764400e+03, 9.320000e+02],\n",
       "       [1.323670e+06, 3.103000e+03, 4.509600e+03, 8.440000e+02],\n",
       "       [1.397739e+06, 3.123110e+03, 5.119700e+03, 4.123000e+02],\n",
       "       [1.375012e+06, 3.136080e+03, 4.833500e+03, 9.706000e+02],\n",
       "       [1.402894e+06, 3.153540e+03, 5.086600e+03, 6.797000e+02],\n",
       "       [1.367035e+06, 3.175630e+03, 4.687900e+03, 7.964000e+02],\n",
       "       [1.322277e+06, 3.192940e+03, 4.723600e+03, 7.800000e+02],\n",
       "       [1.312843e+06, 3.209110e+03, 4.895500e+03, 8.534000e+02],\n",
       "       [1.374711e+06, 3.237580e+03, 4.987600e+03, 5.718000e+02],\n",
       "       [1.345772e+06, 3.255780e+03, 4.918900e+03, 7.623000e+02],\n",
       "       [1.387586e+06, 3.270370e+03, 4.822000e+03, 1.272700e+03],\n",
       "       [1.335710e+06, 3.294460e+03, 5.043900e+03, 7.650000e+02],\n",
       "       [1.278000e+06, 3.315380e+03, 4.815800e+03, 1.037800e+03],\n",
       "       [1.369014e+06, 3.333470e+03, 4.961800e+03, 8.865000e+02]])"
      ]
     },
     "execution_count": 5,
     "metadata": {},
     "output_type": "execute_result"
    }
   ],
   "source": [
    "#Separating the features and the target variable\n",
    "X = dfm.drop('maize_yield', axis = 1).values.astype(float) # Features\n",
    "y = dfm[[\"maize_yield\"]].values.astype(float) # Target\n",
    "X"
   ]
  },
  {
   "cell_type": "code",
   "execution_count": 6,
   "id": "174b9db2",
   "metadata": {},
   "outputs": [],
   "source": [
    "### Sandardization of data ###\n",
    "from sklearn.preprocessing import StandardScaler\n",
    "scaledX = StandardScaler()\n",
    "scaledy = StandardScaler()"
   ]
  },
  {
   "cell_type": "code",
   "execution_count": 7,
   "id": "d789d45c",
   "metadata": {},
   "outputs": [],
   "source": [
    "# Storing the fit object for later reference\n",
    "X = scaledX.fit_transform(X)\n",
    "y = scaledy.fit_transform(y)"
   ]
  },
  {
   "cell_type": "code",
   "execution_count": 8,
   "id": "8d404254",
   "metadata": {},
   "outputs": [],
   "source": [
    "# Splitting the dataset into training and testing set (80/20)\n",
    "X_train, X_test, y_train, y_test = train_test_split(X, y, test_size = 0.3, random_state = 5)"
   ]
  },
  {
   "cell_type": "code",
   "execution_count": 9,
   "id": "0d701713",
   "metadata": {},
   "outputs": [
    {
     "data": {
      "text/html": [
       "<style>#sk-container-id-1 {color: black;background-color: white;}#sk-container-id-1 pre{padding: 0;}#sk-container-id-1 div.sk-toggleable {background-color: white;}#sk-container-id-1 label.sk-toggleable__label {cursor: pointer;display: block;width: 100%;margin-bottom: 0;padding: 0.3em;box-sizing: border-box;text-align: center;}#sk-container-id-1 label.sk-toggleable__label-arrow:before {content: \"▸\";float: left;margin-right: 0.25em;color: #696969;}#sk-container-id-1 label.sk-toggleable__label-arrow:hover:before {color: black;}#sk-container-id-1 div.sk-estimator:hover label.sk-toggleable__label-arrow:before {color: black;}#sk-container-id-1 div.sk-toggleable__content {max-height: 0;max-width: 0;overflow: hidden;text-align: left;background-color: #f0f8ff;}#sk-container-id-1 div.sk-toggleable__content pre {margin: 0.2em;color: black;border-radius: 0.25em;background-color: #f0f8ff;}#sk-container-id-1 input.sk-toggleable__control:checked~div.sk-toggleable__content {max-height: 200px;max-width: 100%;overflow: auto;}#sk-container-id-1 input.sk-toggleable__control:checked~label.sk-toggleable__label-arrow:before {content: \"▾\";}#sk-container-id-1 div.sk-estimator input.sk-toggleable__control:checked~label.sk-toggleable__label {background-color: #d4ebff;}#sk-container-id-1 div.sk-label input.sk-toggleable__control:checked~label.sk-toggleable__label {background-color: #d4ebff;}#sk-container-id-1 input.sk-hidden--visually {border: 0;clip: rect(1px 1px 1px 1px);clip: rect(1px, 1px, 1px, 1px);height: 1px;margin: -1px;overflow: hidden;padding: 0;position: absolute;width: 1px;}#sk-container-id-1 div.sk-estimator {font-family: monospace;background-color: #f0f8ff;border: 1px dotted black;border-radius: 0.25em;box-sizing: border-box;margin-bottom: 0.5em;}#sk-container-id-1 div.sk-estimator:hover {background-color: #d4ebff;}#sk-container-id-1 div.sk-parallel-item::after {content: \"\";width: 100%;border-bottom: 1px solid gray;flex-grow: 1;}#sk-container-id-1 div.sk-label:hover label.sk-toggleable__label {background-color: #d4ebff;}#sk-container-id-1 div.sk-serial::before {content: \"\";position: absolute;border-left: 1px solid gray;box-sizing: border-box;top: 0;bottom: 0;left: 50%;z-index: 0;}#sk-container-id-1 div.sk-serial {display: flex;flex-direction: column;align-items: center;background-color: white;padding-right: 0.2em;padding-left: 0.2em;position: relative;}#sk-container-id-1 div.sk-item {position: relative;z-index: 1;}#sk-container-id-1 div.sk-parallel {display: flex;align-items: stretch;justify-content: center;background-color: white;position: relative;}#sk-container-id-1 div.sk-item::before, #sk-container-id-1 div.sk-parallel-item::before {content: \"\";position: absolute;border-left: 1px solid gray;box-sizing: border-box;top: 0;bottom: 0;left: 50%;z-index: -1;}#sk-container-id-1 div.sk-parallel-item {display: flex;flex-direction: column;z-index: 1;position: relative;background-color: white;}#sk-container-id-1 div.sk-parallel-item:first-child::after {align-self: flex-end;width: 50%;}#sk-container-id-1 div.sk-parallel-item:last-child::after {align-self: flex-start;width: 50%;}#sk-container-id-1 div.sk-parallel-item:only-child::after {width: 0;}#sk-container-id-1 div.sk-dashed-wrapped {border: 1px dashed gray;margin: 0 0.4em 0.5em 0.4em;box-sizing: border-box;padding-bottom: 0.4em;background-color: white;}#sk-container-id-1 div.sk-label label {font-family: monospace;font-weight: bold;display: inline-block;line-height: 1.2em;}#sk-container-id-1 div.sk-label-container {text-align: center;}#sk-container-id-1 div.sk-container {/* jupyter's `normalize.less` sets `[hidden] { display: none; }` but bootstrap.min.css set `[hidden] { display: none !important; }` so we also need the `!important` here to be able to override the default hidden behavior on the sphinx rendered scikit-learn.org. See: https://github.com/scikit-learn/scikit-learn/issues/21755 */display: inline-block !important;position: relative;}#sk-container-id-1 div.sk-text-repr-fallback {display: none;}</style><div id=\"sk-container-id-1\" class=\"sk-top-container\"><div class=\"sk-text-repr-fallback\"><pre>DecisionTreeRegressor(max_depth=3, min_samples_split=5, random_state=0)</pre><b>In a Jupyter environment, please rerun this cell to show the HTML representation or trust the notebook. <br />On GitHub, the HTML representation is unable to render, please try loading this page with nbviewer.org.</b></div><div class=\"sk-container\" hidden><div class=\"sk-item\"><div class=\"sk-estimator sk-toggleable\"><input class=\"sk-toggleable__control sk-hidden--visually\" id=\"sk-estimator-id-1\" type=\"checkbox\" checked><label for=\"sk-estimator-id-1\" class=\"sk-toggleable__label sk-toggleable__label-arrow\">DecisionTreeRegressor</label><div class=\"sk-toggleable__content\"><pre>DecisionTreeRegressor(max_depth=3, min_samples_split=5, random_state=0)</pre></div></div></div></div></div>"
      ],
      "text/plain": [
       "DecisionTreeRegressor(max_depth=3, min_samples_split=5, random_state=0)"
      ]
     },
     "execution_count": 9,
     "metadata": {},
     "output_type": "execute_result"
    }
   ],
   "source": [
    "# Initializing the Decision Tree Regression model\n",
    "model = DecisionTreeRegressor(max_depth=3, min_samples_split=5, random_state = 0)\n",
    "\n",
    "# Fitting the Decision Tree Regression model to the data\n",
    "model.fit(X_train, y_train)"
   ]
  },
  {
   "cell_type": "code",
   "execution_count": 10,
   "id": "c8c67d1f",
   "metadata": {},
   "outputs": [
    {
     "name": "stdout",
     "output_type": "stream",
     "text": [
      "\n",
      "RMSE:  0.669\n"
     ]
    }
   ],
   "source": [
    "# Predicting the target values of the test set\n",
    "y_pred = model.predict(X_test)\n",
    "\n",
    "# RMSE (Root Mean Square Error)\n",
    "rmse = float(format(np.sqrt(mean_squared_error(y_test, y_pred)), '.3f'))\n",
    "print(\"\\nRMSE: \", rmse)"
   ]
  },
  {
   "cell_type": "code",
   "execution_count": 11,
   "id": "6a893134",
   "metadata": {},
   "outputs": [
    {
     "name": "stdout",
     "output_type": "stream",
     "text": [
      "Mean Square Error : 0.4473310903594326\n"
     ]
    }
   ],
   "source": [
    "from sklearn.metrics import mean_squared_error\n",
    "mse = mean_squared_error(y_test, y_pred)\n",
    "print( \"Mean Square Error :\", mse)"
   ]
  },
  {
   "cell_type": "code",
   "execution_count": 12,
   "id": "52a7825d",
   "metadata": {},
   "outputs": [
    {
     "name": "stdout",
     "output_type": "stream",
     "text": [
      "Mean absolute error : 0.4935645906545388\n"
     ]
    }
   ],
   "source": [
    "from sklearn.metrics import mean_absolute_error as mae\n",
    "error = mae(y_test, y_pred)\n",
    "print(\"Mean absolute error : \" + str(error))"
   ]
  },
  {
   "cell_type": "code",
   "execution_count": 13,
   "id": "723a8526",
   "metadata": {},
   "outputs": [
    {
     "data": {
      "text/plain": [
       "0.6903033052723788"
      ]
     },
     "execution_count": 13,
     "metadata": {},
     "output_type": "execute_result"
    }
   ],
   "source": [
    "from sklearn.metrics import r2_score\n",
    "r2 = r2_score(y_test, y_pred)\n",
    "r2"
   ]
  },
  {
   "cell_type": "markdown",
   "id": "42f2aab6",
   "metadata": {},
   "source": [
    "## DECISION TREE RRGRESSION ANALYSIS FOR RICE YIELD"
   ]
  },
  {
   "cell_type": "code",
   "execution_count": 14,
   "id": "c20fca0e",
   "metadata": {},
   "outputs": [
    {
     "data": {
      "text/html": [
       "<div>\n",
       "<style scoped>\n",
       "    .dataframe tbody tr th:only-of-type {\n",
       "        vertical-align: middle;\n",
       "    }\n",
       "\n",
       "    .dataframe tbody tr th {\n",
       "        vertical-align: top;\n",
       "    }\n",
       "\n",
       "    .dataframe thead th {\n",
       "        text-align: right;\n",
       "    }\n",
       "</style>\n",
       "<table border=\"1\" class=\"dataframe\">\n",
       "  <thead>\n",
       "    <tr style=\"text-align: right;\">\n",
       "      <th></th>\n",
       "      <th>year</th>\n",
       "      <th>country</th>\n",
       "      <th>maize_yield</th>\n",
       "      <th>pot_yield</th>\n",
       "      <th>wheat_yield</th>\n",
       "      <th>rice_yield</th>\n",
       "      <th>Production(Maize)Tonnes</th>\n",
       "      <th>Production Potatoes(Tonnes)</th>\n",
       "      <th>Production Wheat(Tonnes)</th>\n",
       "      <th>Production Rice(Tonnes)</th>\n",
       "      <th>solar_rad</th>\n",
       "      <th>co2</th>\n",
       "      <th>temp</th>\n",
       "      <th>precip</th>\n",
       "    </tr>\n",
       "  </thead>\n",
       "  <tbody>\n",
       "    <tr>\n",
       "      <th>0</th>\n",
       "      <td>1980</td>\n",
       "      <td>United States of America</td>\n",
       "      <td>57118</td>\n",
       "      <td>295245</td>\n",
       "      <td>22513</td>\n",
       "      <td>49461</td>\n",
       "      <td>168647008</td>\n",
       "      <td>13785000</td>\n",
       "      <td>64799504</td>\n",
       "      <td>6629250</td>\n",
       "      <td>894031</td>\n",
       "      <td>2713.57</td>\n",
       "      <td>4030.5</td>\n",
       "      <td>592.2</td>\n",
       "    </tr>\n",
       "    <tr>\n",
       "      <th>1</th>\n",
       "      <td>1981</td>\n",
       "      <td>United States of America</td>\n",
       "      <td>68380</td>\n",
       "      <td>308199</td>\n",
       "      <td>23229</td>\n",
       "      <td>54015</td>\n",
       "      <td>206222000</td>\n",
       "      <td>15450000</td>\n",
       "      <td>75806304</td>\n",
       "      <td>8289040</td>\n",
       "      <td>894031</td>\n",
       "      <td>2723.25</td>\n",
       "      <td>4784.5</td>\n",
       "      <td>629.3</td>\n",
       "    </tr>\n",
       "    <tr>\n",
       "      <th>2</th>\n",
       "      <td>1982</td>\n",
       "      <td>United States of America</td>\n",
       "      <td>71082</td>\n",
       "      <td>312544</td>\n",
       "      <td>23859</td>\n",
       "      <td>52791</td>\n",
       "      <td>209180000</td>\n",
       "      <td>16108500</td>\n",
       "      <td>75251296</td>\n",
       "      <td>6968900</td>\n",
       "      <td>851000</td>\n",
       "      <td>2734.78</td>\n",
       "      <td>4563.0</td>\n",
       "      <td>681.0</td>\n",
       "    </tr>\n",
       "    <tr>\n",
       "      <th>3</th>\n",
       "      <td>1983</td>\n",
       "      <td>United States of America</td>\n",
       "      <td>50893</td>\n",
       "      <td>299754</td>\n",
       "      <td>26509</td>\n",
       "      <td>51532</td>\n",
       "      <td>106030000</td>\n",
       "      <td>15137600</td>\n",
       "      <td>65857904</td>\n",
       "      <td>4523200</td>\n",
       "      <td>957440</td>\n",
       "      <td>2748.52</td>\n",
       "      <td>4722.5</td>\n",
       "      <td>941.0</td>\n",
       "    </tr>\n",
       "    <tr>\n",
       "      <th>4</th>\n",
       "      <td>1984</td>\n",
       "      <td>United States of America</td>\n",
       "      <td>66981</td>\n",
       "      <td>311082</td>\n",
       "      <td>26073</td>\n",
       "      <td>55523</td>\n",
       "      <td>194880000</td>\n",
       "      <td>16422000</td>\n",
       "      <td>70618000</td>\n",
       "      <td>6296300</td>\n",
       "      <td>800268</td>\n",
       "      <td>2761.06</td>\n",
       "      <td>4546.8</td>\n",
       "      <td>982.0</td>\n",
       "    </tr>\n",
       "    <tr>\n",
       "      <th>5</th>\n",
       "      <td>1985</td>\n",
       "      <td>United States of America</td>\n",
       "      <td>74074</td>\n",
       "      <td>333689</td>\n",
       "      <td>25197</td>\n",
       "      <td>60704</td>\n",
       "      <td>225453008</td>\n",
       "      <td>18443008</td>\n",
       "      <td>65975008</td>\n",
       "      <td>6122000</td>\n",
       "      <td>967417</td>\n",
       "      <td>2773.18</td>\n",
       "      <td>4747.4</td>\n",
       "      <td>654.4</td>\n",
       "    </tr>\n",
       "    <tr>\n",
       "      <th>6</th>\n",
       "      <td>1986</td>\n",
       "      <td>United States of America</td>\n",
       "      <td>74930</td>\n",
       "      <td>330540</td>\n",
       "      <td>23167</td>\n",
       "      <td>63340</td>\n",
       "      <td>208943008</td>\n",
       "      <td>16408000</td>\n",
       "      <td>56897008</td>\n",
       "      <td>6049000</td>\n",
       "      <td>1014520</td>\n",
       "      <td>2783.23</td>\n",
       "      <td>4689.8</td>\n",
       "      <td>470.7</td>\n",
       "    </tr>\n",
       "    <tr>\n",
       "      <th>7</th>\n",
       "      <td>1987</td>\n",
       "      <td>United States of America</td>\n",
       "      <td>75225</td>\n",
       "      <td>337394</td>\n",
       "      <td>25330</td>\n",
       "      <td>62271</td>\n",
       "      <td>181142000</td>\n",
       "      <td>17659200</td>\n",
       "      <td>57361808</td>\n",
       "      <td>5879000</td>\n",
       "      <td>1277547</td>\n",
       "      <td>2797.01</td>\n",
       "      <td>4622.6</td>\n",
       "      <td>594.8</td>\n",
       "    </tr>\n",
       "    <tr>\n",
       "      <th>8</th>\n",
       "      <td>1988</td>\n",
       "      <td>United States of America</td>\n",
       "      <td>53109</td>\n",
       "      <td>317265</td>\n",
       "      <td>22913</td>\n",
       "      <td>61801</td>\n",
       "      <td>125194000</td>\n",
       "      <td>16167800</td>\n",
       "      <td>49320000</td>\n",
       "      <td>7253000</td>\n",
       "      <td>1063344</td>\n",
       "      <td>2815.86</td>\n",
       "      <td>4525.9</td>\n",
       "      <td>523.1</td>\n",
       "    </tr>\n",
       "    <tr>\n",
       "      <th>9</th>\n",
       "      <td>1989</td>\n",
       "      <td>United States of America</td>\n",
       "      <td>72978</td>\n",
       "      <td>324007</td>\n",
       "      <td>22024</td>\n",
       "      <td>64466</td>\n",
       "      <td>191319008</td>\n",
       "      <td>16803008</td>\n",
       "      <td>55428000</td>\n",
       "      <td>7007400</td>\n",
       "      <td>1260174</td>\n",
       "      <td>2827.57</td>\n",
       "      <td>4573.1</td>\n",
       "      <td>1060.1</td>\n",
       "    </tr>\n",
       "    <tr>\n",
       "      <th>10</th>\n",
       "      <td>1990</td>\n",
       "      <td>United States of America</td>\n",
       "      <td>74380</td>\n",
       "      <td>328809</td>\n",
       "      <td>26567</td>\n",
       "      <td>61975</td>\n",
       "      <td>201532000</td>\n",
       "      <td>18239008</td>\n",
       "      <td>74294000</td>\n",
       "      <td>7080000</td>\n",
       "      <td>1279369</td>\n",
       "      <td>2836.93</td>\n",
       "      <td>4663.6</td>\n",
       "      <td>770.0</td>\n",
       "    </tr>\n",
       "    <tr>\n",
       "      <th>11</th>\n",
       "      <td>1991</td>\n",
       "      <td>United States of America</td>\n",
       "      <td>68171</td>\n",
       "      <td>340579</td>\n",
       "      <td>23038</td>\n",
       "      <td>64231</td>\n",
       "      <td>189867780</td>\n",
       "      <td>18943008</td>\n",
       "      <td>53890000</td>\n",
       "      <td>7228770</td>\n",
       "      <td>1147922</td>\n",
       "      <td>2848.46</td>\n",
       "      <td>4877.4</td>\n",
       "      <td>525.4</td>\n",
       "    </tr>\n",
       "    <tr>\n",
       "      <th>12</th>\n",
       "      <td>1992</td>\n",
       "      <td>United States of America</td>\n",
       "      <td>82526</td>\n",
       "      <td>362533</td>\n",
       "      <td>26433</td>\n",
       "      <td>64294</td>\n",
       "      <td>240719220</td>\n",
       "      <td>19294000</td>\n",
       "      <td>67136000</td>\n",
       "      <td>8149150</td>\n",
       "      <td>1106325</td>\n",
       "      <td>2854.98</td>\n",
       "      <td>4273.0</td>\n",
       "      <td>669.4</td>\n",
       "    </tr>\n",
       "    <tr>\n",
       "      <th>13</th>\n",
       "      <td>1993</td>\n",
       "      <td>United States of America</td>\n",
       "      <td>63210</td>\n",
       "      <td>365091</td>\n",
       "      <td>25699</td>\n",
       "      <td>61763</td>\n",
       "      <td>160985760</td>\n",
       "      <td>19520300</td>\n",
       "      <td>65222000</td>\n",
       "      <td>7081030</td>\n",
       "      <td>1252046</td>\n",
       "      <td>2859.60</td>\n",
       "      <td>4590.5</td>\n",
       "      <td>904.4</td>\n",
       "    </tr>\n",
       "    <tr>\n",
       "      <th>14</th>\n",
       "      <td>1994</td>\n",
       "      <td>United States of America</td>\n",
       "      <td>86996</td>\n",
       "      <td>379868</td>\n",
       "      <td>25270</td>\n",
       "      <td>66851</td>\n",
       "      <td>255294970</td>\n",
       "      <td>21292760</td>\n",
       "      <td>63168000</td>\n",
       "      <td>8971110</td>\n",
       "      <td>1273503</td>\n",
       "      <td>2873.38</td>\n",
       "      <td>4634.5</td>\n",
       "      <td>835.1</td>\n",
       "    </tr>\n",
       "    <tr>\n",
       "      <th>15</th>\n",
       "      <td>1995</td>\n",
       "      <td>United States of America</td>\n",
       "      <td>71228</td>\n",
       "      <td>362537</td>\n",
       "      <td>24065</td>\n",
       "      <td>63007</td>\n",
       "      <td>187969950</td>\n",
       "      <td>20189350</td>\n",
       "      <td>59404000</td>\n",
       "      <td>7886660</td>\n",
       "      <td>1217411</td>\n",
       "      <td>2890.15</td>\n",
       "      <td>4784.2</td>\n",
       "      <td>718.1</td>\n",
       "    </tr>\n",
       "    <tr>\n",
       "      <th>16</th>\n",
       "      <td>1996</td>\n",
       "      <td>United States of America</td>\n",
       "      <td>79773</td>\n",
       "      <td>392447</td>\n",
       "      <td>24389</td>\n",
       "      <td>68593</td>\n",
       "      <td>234517750</td>\n",
       "      <td>22645780</td>\n",
       "      <td>61982000</td>\n",
       "      <td>7783600</td>\n",
       "      <td>1319156</td>\n",
       "      <td>2903.96</td>\n",
       "      <td>4425.3</td>\n",
       "      <td>1057.6</td>\n",
       "    </tr>\n",
       "    <tr>\n",
       "      <th>17</th>\n",
       "      <td>1997</td>\n",
       "      <td>United States of America</td>\n",
       "      <td>79521</td>\n",
       "      <td>386777</td>\n",
       "      <td>26574</td>\n",
       "      <td>66099</td>\n",
       "      <td>233864300</td>\n",
       "      <td>21186890</td>\n",
       "      <td>67536000</td>\n",
       "      <td>8300380</td>\n",
       "      <td>1276186</td>\n",
       "      <td>2911.98</td>\n",
       "      <td>4425.0</td>\n",
       "      <td>851.0</td>\n",
       "    </tr>\n",
       "    <tr>\n",
       "      <th>18</th>\n",
       "      <td>1998</td>\n",
       "      <td>United States of America</td>\n",
       "      <td>84382</td>\n",
       "      <td>384419</td>\n",
       "      <td>29034</td>\n",
       "      <td>63473</td>\n",
       "      <td>247882020</td>\n",
       "      <td>21575890</td>\n",
       "      <td>69327000</td>\n",
       "      <td>8366190</td>\n",
       "      <td>1189550</td>\n",
       "      <td>2937.65</td>\n",
       "      <td>4752.2</td>\n",
       "      <td>607.1</td>\n",
       "    </tr>\n",
       "    <tr>\n",
       "      <th>19</th>\n",
       "      <td>1999</td>\n",
       "      <td>United States of America</td>\n",
       "      <td>83977</td>\n",
       "      <td>402366</td>\n",
       "      <td>28726</td>\n",
       "      <td>65753</td>\n",
       "      <td>239548580</td>\n",
       "      <td>21685930</td>\n",
       "      <td>62567284</td>\n",
       "      <td>9345230</td>\n",
       "      <td>1335292</td>\n",
       "      <td>2949.72</td>\n",
       "      <td>4630.1</td>\n",
       "      <td>1075.5</td>\n",
       "    </tr>\n",
       "  </tbody>\n",
       "</table>\n",
       "</div>"
      ],
      "text/plain": [
       "    year                   country  maize_yield  pot_yield  wheat_yield  \\\n",
       "0   1980  United States of America        57118     295245        22513   \n",
       "1   1981  United States of America        68380     308199        23229   \n",
       "2   1982  United States of America        71082     312544        23859   \n",
       "3   1983  United States of America        50893     299754        26509   \n",
       "4   1984  United States of America        66981     311082        26073   \n",
       "5   1985  United States of America        74074     333689        25197   \n",
       "6   1986  United States of America        74930     330540        23167   \n",
       "7   1987  United States of America        75225     337394        25330   \n",
       "8   1988  United States of America        53109     317265        22913   \n",
       "9   1989  United States of America        72978     324007        22024   \n",
       "10  1990  United States of America        74380     328809        26567   \n",
       "11  1991  United States of America        68171     340579        23038   \n",
       "12  1992  United States of America        82526     362533        26433   \n",
       "13  1993  United States of America        63210     365091        25699   \n",
       "14  1994  United States of America        86996     379868        25270   \n",
       "15  1995  United States of America        71228     362537        24065   \n",
       "16  1996  United States of America        79773     392447        24389   \n",
       "17  1997  United States of America        79521     386777        26574   \n",
       "18  1998  United States of America        84382     384419        29034   \n",
       "19  1999  United States of America        83977     402366        28726   \n",
       "\n",
       "    rice_yield  Production(Maize)Tonnes  Production Potatoes(Tonnes)  \\\n",
       "0        49461                168647008                     13785000   \n",
       "1        54015                206222000                     15450000   \n",
       "2        52791                209180000                     16108500   \n",
       "3        51532                106030000                     15137600   \n",
       "4        55523                194880000                     16422000   \n",
       "5        60704                225453008                     18443008   \n",
       "6        63340                208943008                     16408000   \n",
       "7        62271                181142000                     17659200   \n",
       "8        61801                125194000                     16167800   \n",
       "9        64466                191319008                     16803008   \n",
       "10       61975                201532000                     18239008   \n",
       "11       64231                189867780                     18943008   \n",
       "12       64294                240719220                     19294000   \n",
       "13       61763                160985760                     19520300   \n",
       "14       66851                255294970                     21292760   \n",
       "15       63007                187969950                     20189350   \n",
       "16       68593                234517750                     22645780   \n",
       "17       66099                233864300                     21186890   \n",
       "18       63473                247882020                     21575890   \n",
       "19       65753                239548580                     21685930   \n",
       "\n",
       "    Production Wheat(Tonnes)  Production Rice(Tonnes)  solar_rad      co2  \\\n",
       "0                   64799504                  6629250     894031  2713.57   \n",
       "1                   75806304                  8289040     894031  2723.25   \n",
       "2                   75251296                  6968900     851000  2734.78   \n",
       "3                   65857904                  4523200     957440  2748.52   \n",
       "4                   70618000                  6296300     800268  2761.06   \n",
       "5                   65975008                  6122000     967417  2773.18   \n",
       "6                   56897008                  6049000    1014520  2783.23   \n",
       "7                   57361808                  5879000    1277547  2797.01   \n",
       "8                   49320000                  7253000    1063344  2815.86   \n",
       "9                   55428000                  7007400    1260174  2827.57   \n",
       "10                  74294000                  7080000    1279369  2836.93   \n",
       "11                  53890000                  7228770    1147922  2848.46   \n",
       "12                  67136000                  8149150    1106325  2854.98   \n",
       "13                  65222000                  7081030    1252046  2859.60   \n",
       "14                  63168000                  8971110    1273503  2873.38   \n",
       "15                  59404000                  7886660    1217411  2890.15   \n",
       "16                  61982000                  7783600    1319156  2903.96   \n",
       "17                  67536000                  8300380    1276186  2911.98   \n",
       "18                  69327000                  8366190    1189550  2937.65   \n",
       "19                  62567284                  9345230    1335292  2949.72   \n",
       "\n",
       "      temp  precip  \n",
       "0   4030.5   592.2  \n",
       "1   4784.5   629.3  \n",
       "2   4563.0   681.0  \n",
       "3   4722.5   941.0  \n",
       "4   4546.8   982.0  \n",
       "5   4747.4   654.4  \n",
       "6   4689.8   470.7  \n",
       "7   4622.6   594.8  \n",
       "8   4525.9   523.1  \n",
       "9   4573.1  1060.1  \n",
       "10  4663.6   770.0  \n",
       "11  4877.4   525.4  \n",
       "12  4273.0   669.4  \n",
       "13  4590.5   904.4  \n",
       "14  4634.5   835.1  \n",
       "15  4784.2   718.1  \n",
       "16  4425.3  1057.6  \n",
       "17  4425.0   851.0  \n",
       "18  4752.2   607.1  \n",
       "19  4630.1  1075.5  "
      ]
     },
     "execution_count": 14,
     "metadata": {},
     "output_type": "execute_result"
    }
   ],
   "source": [
    "df.head(20)"
   ]
  },
  {
   "cell_type": "code",
   "execution_count": 15,
   "id": "7b0a1d18",
   "metadata": {},
   "outputs": [
    {
     "data": {
      "text/html": [
       "<div>\n",
       "<style scoped>\n",
       "    .dataframe tbody tr th:only-of-type {\n",
       "        vertical-align: middle;\n",
       "    }\n",
       "\n",
       "    .dataframe tbody tr th {\n",
       "        vertical-align: top;\n",
       "    }\n",
       "\n",
       "    .dataframe thead th {\n",
       "        text-align: right;\n",
       "    }\n",
       "</style>\n",
       "<table border=\"1\" class=\"dataframe\">\n",
       "  <thead>\n",
       "    <tr style=\"text-align: right;\">\n",
       "      <th></th>\n",
       "      <th>rice_yield</th>\n",
       "      <th>solar_rad</th>\n",
       "      <th>co2</th>\n",
       "      <th>temp</th>\n",
       "      <th>precip</th>\n",
       "    </tr>\n",
       "  </thead>\n",
       "  <tbody>\n",
       "    <tr>\n",
       "      <th>0</th>\n",
       "      <td>49461</td>\n",
       "      <td>894031</td>\n",
       "      <td>2713.57</td>\n",
       "      <td>4030.5</td>\n",
       "      <td>592.2</td>\n",
       "    </tr>\n",
       "    <tr>\n",
       "      <th>1</th>\n",
       "      <td>54015</td>\n",
       "      <td>894031</td>\n",
       "      <td>2723.25</td>\n",
       "      <td>4784.5</td>\n",
       "      <td>629.3</td>\n",
       "    </tr>\n",
       "    <tr>\n",
       "      <th>2</th>\n",
       "      <td>52791</td>\n",
       "      <td>851000</td>\n",
       "      <td>2734.78</td>\n",
       "      <td>4563.0</td>\n",
       "      <td>681.0</td>\n",
       "    </tr>\n",
       "    <tr>\n",
       "      <th>3</th>\n",
       "      <td>51532</td>\n",
       "      <td>957440</td>\n",
       "      <td>2748.52</td>\n",
       "      <td>4722.5</td>\n",
       "      <td>941.0</td>\n",
       "    </tr>\n",
       "    <tr>\n",
       "      <th>4</th>\n",
       "      <td>55523</td>\n",
       "      <td>800268</td>\n",
       "      <td>2761.06</td>\n",
       "      <td>4546.8</td>\n",
       "      <td>982.0</td>\n",
       "    </tr>\n",
       "  </tbody>\n",
       "</table>\n",
       "</div>"
      ],
      "text/plain": [
       "   rice_yield  solar_rad      co2    temp  precip\n",
       "0       49461     894031  2713.57  4030.5   592.2\n",
       "1       54015     894031  2723.25  4784.5   629.3\n",
       "2       52791     851000  2734.78  4563.0   681.0\n",
       "3       51532     957440  2748.52  4722.5   941.0\n",
       "4       55523     800268  2761.06  4546.8   982.0"
      ]
     },
     "execution_count": 15,
     "metadata": {},
     "output_type": "execute_result"
    }
   ],
   "source": [
    "dfr=df[['rice_yield', 'solar_rad', 'co2', 'temp', 'precip']]\n",
    "dfr.head()"
   ]
  },
  {
   "cell_type": "code",
   "execution_count": 16,
   "id": "16ed677a",
   "metadata": {},
   "outputs": [
    {
     "data": {
      "text/plain": [
       "array([[8.940310e+05, 2.713570e+03, 4.030500e+03, 5.922000e+02],\n",
       "       [8.940310e+05, 2.723250e+03, 4.784500e+03, 6.293000e+02],\n",
       "       [8.510000e+05, 2.734780e+03, 4.563000e+03, 6.810000e+02],\n",
       "       [9.574400e+05, 2.748520e+03, 4.722500e+03, 9.410000e+02],\n",
       "       [8.002680e+05, 2.761060e+03, 4.546800e+03, 9.820000e+02],\n",
       "       [9.674170e+05, 2.773180e+03, 4.747400e+03, 6.544000e+02],\n",
       "       [1.014520e+06, 2.783230e+03, 4.689800e+03, 4.707000e+02],\n",
       "       [1.277547e+06, 2.797010e+03, 4.622600e+03, 5.948000e+02],\n",
       "       [1.063344e+06, 2.815860e+03, 4.525900e+03, 5.231000e+02],\n",
       "       [1.260174e+06, 2.827570e+03, 4.573100e+03, 1.060100e+03],\n",
       "       [1.279369e+06, 2.836930e+03, 4.663600e+03, 7.700000e+02],\n",
       "       [1.147922e+06, 2.848460e+03, 4.877400e+03, 5.254000e+02],\n",
       "       [1.106325e+06, 2.854980e+03, 4.273000e+03, 6.694000e+02],\n",
       "       [1.252046e+06, 2.859600e+03, 4.590500e+03, 9.044000e+02],\n",
       "       [1.273503e+06, 2.873380e+03, 4.634500e+03, 8.351000e+02],\n",
       "       [1.217411e+06, 2.890150e+03, 4.784200e+03, 7.181000e+02],\n",
       "       [1.319156e+06, 2.903960e+03, 4.425300e+03, 1.057600e+03],\n",
       "       [1.276186e+06, 2.911980e+03, 4.425000e+03, 8.510000e+02],\n",
       "       [1.189550e+06, 2.937650e+03, 4.752200e+03, 6.071000e+02],\n",
       "       [1.335292e+06, 2.949720e+03, 4.630100e+03, 1.075500e+03],\n",
       "       [1.354051e+06, 2.959080e+03, 4.571500e+03, 8.160000e+02],\n",
       "       [1.327417e+06, 2.971860e+03, 4.529200e+03, 6.159000e+02],\n",
       "       [1.367708e+06, 2.988970e+03, 4.828300e+03, 5.980000e+02],\n",
       "       [1.354871e+06, 3.009970e+03, 4.416400e+03, 1.113600e+03],\n",
       "       [1.317637e+06, 3.023500e+03, 4.695700e+03, 7.998000e+02],\n",
       "       [1.332535e+06, 3.042310e+03, 4.662300e+03, 8.719000e+02],\n",
       "       [1.355099e+06, 3.058730e+03, 4.639700e+03, 9.084000e+02],\n",
       "       [1.349506e+06, 3.074300e+03, 4.834300e+03, 5.984000e+02],\n",
       "       [1.399292e+06, 3.087370e+03, 4.764400e+03, 9.320000e+02],\n",
       "       [1.323670e+06, 3.103000e+03, 4.509600e+03, 8.440000e+02],\n",
       "       [1.397739e+06, 3.123110e+03, 5.119700e+03, 4.123000e+02],\n",
       "       [1.375012e+06, 3.136080e+03, 4.833500e+03, 9.706000e+02],\n",
       "       [1.402894e+06, 3.153540e+03, 5.086600e+03, 6.797000e+02],\n",
       "       [1.367035e+06, 3.175630e+03, 4.687900e+03, 7.964000e+02],\n",
       "       [1.322277e+06, 3.192940e+03, 4.723600e+03, 7.800000e+02],\n",
       "       [1.312843e+06, 3.209110e+03, 4.895500e+03, 8.534000e+02],\n",
       "       [1.374711e+06, 3.237580e+03, 4.987600e+03, 5.718000e+02],\n",
       "       [1.345772e+06, 3.255780e+03, 4.918900e+03, 7.623000e+02],\n",
       "       [1.387586e+06, 3.270370e+03, 4.822000e+03, 1.272700e+03],\n",
       "       [1.335710e+06, 3.294460e+03, 5.043900e+03, 7.650000e+02],\n",
       "       [1.278000e+06, 3.315380e+03, 4.815800e+03, 1.037800e+03],\n",
       "       [1.369014e+06, 3.333470e+03, 4.961800e+03, 8.865000e+02]])"
      ]
     },
     "execution_count": 16,
     "metadata": {},
     "output_type": "execute_result"
    }
   ],
   "source": [
    "#Separating the features and the target variable\n",
    "X = dfr.drop('rice_yield', axis = 1).values.astype(float) # Features\n",
    "y = dfr[[\"rice_yield\"]].values.astype(float) # Target\n",
    "X"
   ]
  },
  {
   "cell_type": "code",
   "execution_count": 17,
   "id": "312d48a6",
   "metadata": {},
   "outputs": [],
   "source": [
    "### Sandardization of data ###\n",
    "from sklearn.preprocessing import StandardScaler\n",
    "scaledX = StandardScaler()\n",
    "scaledy = StandardScaler()"
   ]
  },
  {
   "cell_type": "code",
   "execution_count": 18,
   "id": "6063f55a",
   "metadata": {},
   "outputs": [],
   "source": [
    "# Storing the fit object for later reference\n",
    "X = scaledX.fit_transform(X)\n",
    "y = scaledy.fit_transform(y)"
   ]
  },
  {
   "cell_type": "code",
   "execution_count": 19,
   "id": "4043576a",
   "metadata": {},
   "outputs": [],
   "source": [
    "# Splitting the dataset into training and testing set (80/20)\n",
    "X_train, X_test, y_train, y_test = train_test_split(X, y, test_size = 0.3, random_state = 5)"
   ]
  },
  {
   "cell_type": "code",
   "execution_count": 20,
   "id": "78e0d31e",
   "metadata": {},
   "outputs": [
    {
     "data": {
      "text/html": [
       "<style>#sk-container-id-2 {color: black;background-color: white;}#sk-container-id-2 pre{padding: 0;}#sk-container-id-2 div.sk-toggleable {background-color: white;}#sk-container-id-2 label.sk-toggleable__label {cursor: pointer;display: block;width: 100%;margin-bottom: 0;padding: 0.3em;box-sizing: border-box;text-align: center;}#sk-container-id-2 label.sk-toggleable__label-arrow:before {content: \"▸\";float: left;margin-right: 0.25em;color: #696969;}#sk-container-id-2 label.sk-toggleable__label-arrow:hover:before {color: black;}#sk-container-id-2 div.sk-estimator:hover label.sk-toggleable__label-arrow:before {color: black;}#sk-container-id-2 div.sk-toggleable__content {max-height: 0;max-width: 0;overflow: hidden;text-align: left;background-color: #f0f8ff;}#sk-container-id-2 div.sk-toggleable__content pre {margin: 0.2em;color: black;border-radius: 0.25em;background-color: #f0f8ff;}#sk-container-id-2 input.sk-toggleable__control:checked~div.sk-toggleable__content {max-height: 200px;max-width: 100%;overflow: auto;}#sk-container-id-2 input.sk-toggleable__control:checked~label.sk-toggleable__label-arrow:before {content: \"▾\";}#sk-container-id-2 div.sk-estimator input.sk-toggleable__control:checked~label.sk-toggleable__label {background-color: #d4ebff;}#sk-container-id-2 div.sk-label input.sk-toggleable__control:checked~label.sk-toggleable__label {background-color: #d4ebff;}#sk-container-id-2 input.sk-hidden--visually {border: 0;clip: rect(1px 1px 1px 1px);clip: rect(1px, 1px, 1px, 1px);height: 1px;margin: -1px;overflow: hidden;padding: 0;position: absolute;width: 1px;}#sk-container-id-2 div.sk-estimator {font-family: monospace;background-color: #f0f8ff;border: 1px dotted black;border-radius: 0.25em;box-sizing: border-box;margin-bottom: 0.5em;}#sk-container-id-2 div.sk-estimator:hover {background-color: #d4ebff;}#sk-container-id-2 div.sk-parallel-item::after {content: \"\";width: 100%;border-bottom: 1px solid gray;flex-grow: 1;}#sk-container-id-2 div.sk-label:hover label.sk-toggleable__label {background-color: #d4ebff;}#sk-container-id-2 div.sk-serial::before {content: \"\";position: absolute;border-left: 1px solid gray;box-sizing: border-box;top: 0;bottom: 0;left: 50%;z-index: 0;}#sk-container-id-2 div.sk-serial {display: flex;flex-direction: column;align-items: center;background-color: white;padding-right: 0.2em;padding-left: 0.2em;position: relative;}#sk-container-id-2 div.sk-item {position: relative;z-index: 1;}#sk-container-id-2 div.sk-parallel {display: flex;align-items: stretch;justify-content: center;background-color: white;position: relative;}#sk-container-id-2 div.sk-item::before, #sk-container-id-2 div.sk-parallel-item::before {content: \"\";position: absolute;border-left: 1px solid gray;box-sizing: border-box;top: 0;bottom: 0;left: 50%;z-index: -1;}#sk-container-id-2 div.sk-parallel-item {display: flex;flex-direction: column;z-index: 1;position: relative;background-color: white;}#sk-container-id-2 div.sk-parallel-item:first-child::after {align-self: flex-end;width: 50%;}#sk-container-id-2 div.sk-parallel-item:last-child::after {align-self: flex-start;width: 50%;}#sk-container-id-2 div.sk-parallel-item:only-child::after {width: 0;}#sk-container-id-2 div.sk-dashed-wrapped {border: 1px dashed gray;margin: 0 0.4em 0.5em 0.4em;box-sizing: border-box;padding-bottom: 0.4em;background-color: white;}#sk-container-id-2 div.sk-label label {font-family: monospace;font-weight: bold;display: inline-block;line-height: 1.2em;}#sk-container-id-2 div.sk-label-container {text-align: center;}#sk-container-id-2 div.sk-container {/* jupyter's `normalize.less` sets `[hidden] { display: none; }` but bootstrap.min.css set `[hidden] { display: none !important; }` so we also need the `!important` here to be able to override the default hidden behavior on the sphinx rendered scikit-learn.org. See: https://github.com/scikit-learn/scikit-learn/issues/21755 */display: inline-block !important;position: relative;}#sk-container-id-2 div.sk-text-repr-fallback {display: none;}</style><div id=\"sk-container-id-2\" class=\"sk-top-container\"><div class=\"sk-text-repr-fallback\"><pre>DecisionTreeRegressor(max_depth=3, min_samples_split=5, random_state=0)</pre><b>In a Jupyter environment, please rerun this cell to show the HTML representation or trust the notebook. <br />On GitHub, the HTML representation is unable to render, please try loading this page with nbviewer.org.</b></div><div class=\"sk-container\" hidden><div class=\"sk-item\"><div class=\"sk-estimator sk-toggleable\"><input class=\"sk-toggleable__control sk-hidden--visually\" id=\"sk-estimator-id-2\" type=\"checkbox\" checked><label for=\"sk-estimator-id-2\" class=\"sk-toggleable__label sk-toggleable__label-arrow\">DecisionTreeRegressor</label><div class=\"sk-toggleable__content\"><pre>DecisionTreeRegressor(max_depth=3, min_samples_split=5, random_state=0)</pre></div></div></div></div></div>"
      ],
      "text/plain": [
       "DecisionTreeRegressor(max_depth=3, min_samples_split=5, random_state=0)"
      ]
     },
     "execution_count": 20,
     "metadata": {},
     "output_type": "execute_result"
    }
   ],
   "source": [
    "# Initializing the Decision Tree Regression model\n",
    "model = DecisionTreeRegressor(max_depth=3, min_samples_split=5, random_state = 0)\n",
    "\n",
    "# Fitting the Decision Tree Regression model to the data\n",
    "model.fit(X_train, y_train)"
   ]
  },
  {
   "cell_type": "code",
   "execution_count": 21,
   "id": "bdc8ea54",
   "metadata": {},
   "outputs": [
    {
     "name": "stdout",
     "output_type": "stream",
     "text": [
      "\n",
      "RMSE:  0.306\n"
     ]
    }
   ],
   "source": [
    "# Predicting the target values of the test set\n",
    "y_pred = model.predict(X_test)\n",
    "\n",
    "# RMSE (Root Mean Square Error)\n",
    "rmse = float(format(np.sqrt(mean_squared_error(y_test, y_pred)), '.3f'))\n",
    "print(\"\\nRMSE: \", rmse)"
   ]
  },
  {
   "cell_type": "code",
   "execution_count": 22,
   "id": "d3b35a42",
   "metadata": {},
   "outputs": [
    {
     "name": "stdout",
     "output_type": "stream",
     "text": [
      "Mean absolute error : 0.2506665412458626\n"
     ]
    }
   ],
   "source": [
    "from sklearn.metrics import mean_absolute_error as mae\n",
    "error = mae(y_test, y_pred)\n",
    "print(\"Mean absolute error : \" + str(error))"
   ]
  },
  {
   "cell_type": "code",
   "execution_count": 23,
   "id": "9d342f7f",
   "metadata": {},
   "outputs": [
    {
     "data": {
      "text/plain": [
       "0.9298281263821985"
      ]
     },
     "execution_count": 23,
     "metadata": {},
     "output_type": "execute_result"
    }
   ],
   "source": [
    "from sklearn.metrics import r2_score\n",
    "r2 = r2_score(y_test, y_pred)\n",
    "r2"
   ]
  },
  {
   "cell_type": "code",
   "execution_count": 24,
   "id": "6d79a25d",
   "metadata": {},
   "outputs": [
    {
     "name": "stdout",
     "output_type": "stream",
     "text": [
      "Mean Square Error : 0.09372041681876316\n"
     ]
    }
   ],
   "source": [
    "from sklearn.metrics import mean_squared_error\n",
    "mse = mean_squared_error(y_test, y_pred)\n",
    "print( \"Mean Square Error :\", mse)"
   ]
  },
  {
   "cell_type": "markdown",
   "id": "3f6cb2d2",
   "metadata": {},
   "source": [
    "## DECISION TREE RRGRESSION ANALYSIS FOR WHEAT YIELD"
   ]
  },
  {
   "cell_type": "code",
   "execution_count": 25,
   "id": "da225956",
   "metadata": {},
   "outputs": [
    {
     "data": {
      "text/html": [
       "<div>\n",
       "<style scoped>\n",
       "    .dataframe tbody tr th:only-of-type {\n",
       "        vertical-align: middle;\n",
       "    }\n",
       "\n",
       "    .dataframe tbody tr th {\n",
       "        vertical-align: top;\n",
       "    }\n",
       "\n",
       "    .dataframe thead th {\n",
       "        text-align: right;\n",
       "    }\n",
       "</style>\n",
       "<table border=\"1\" class=\"dataframe\">\n",
       "  <thead>\n",
       "    <tr style=\"text-align: right;\">\n",
       "      <th></th>\n",
       "      <th>wheat_yield</th>\n",
       "      <th>solar_rad</th>\n",
       "      <th>co2</th>\n",
       "      <th>temp</th>\n",
       "      <th>precip</th>\n",
       "    </tr>\n",
       "  </thead>\n",
       "  <tbody>\n",
       "    <tr>\n",
       "      <th>0</th>\n",
       "      <td>22513</td>\n",
       "      <td>894031</td>\n",
       "      <td>2713.57</td>\n",
       "      <td>4030.5</td>\n",
       "      <td>592.2</td>\n",
       "    </tr>\n",
       "    <tr>\n",
       "      <th>1</th>\n",
       "      <td>23229</td>\n",
       "      <td>894031</td>\n",
       "      <td>2723.25</td>\n",
       "      <td>4784.5</td>\n",
       "      <td>629.3</td>\n",
       "    </tr>\n",
       "    <tr>\n",
       "      <th>2</th>\n",
       "      <td>23859</td>\n",
       "      <td>851000</td>\n",
       "      <td>2734.78</td>\n",
       "      <td>4563.0</td>\n",
       "      <td>681.0</td>\n",
       "    </tr>\n",
       "    <tr>\n",
       "      <th>3</th>\n",
       "      <td>26509</td>\n",
       "      <td>957440</td>\n",
       "      <td>2748.52</td>\n",
       "      <td>4722.5</td>\n",
       "      <td>941.0</td>\n",
       "    </tr>\n",
       "    <tr>\n",
       "      <th>4</th>\n",
       "      <td>26073</td>\n",
       "      <td>800268</td>\n",
       "      <td>2761.06</td>\n",
       "      <td>4546.8</td>\n",
       "      <td>982.0</td>\n",
       "    </tr>\n",
       "  </tbody>\n",
       "</table>\n",
       "</div>"
      ],
      "text/plain": [
       "   wheat_yield  solar_rad      co2    temp  precip\n",
       "0        22513     894031  2713.57  4030.5   592.2\n",
       "1        23229     894031  2723.25  4784.5   629.3\n",
       "2        23859     851000  2734.78  4563.0   681.0\n",
       "3        26509     957440  2748.52  4722.5   941.0\n",
       "4        26073     800268  2761.06  4546.8   982.0"
      ]
     },
     "execution_count": 25,
     "metadata": {},
     "output_type": "execute_result"
    }
   ],
   "source": [
    "dfw=df[['wheat_yield', 'solar_rad', 'co2', 'temp', 'precip']]\n",
    "dfw.head()"
   ]
  },
  {
   "cell_type": "code",
   "execution_count": 26,
   "id": "44de3790",
   "metadata": {},
   "outputs": [
    {
     "data": {
      "text/plain": [
       "array([[8.940310e+05, 2.713570e+03, 4.030500e+03, 5.922000e+02],\n",
       "       [8.940310e+05, 2.723250e+03, 4.784500e+03, 6.293000e+02],\n",
       "       [8.510000e+05, 2.734780e+03, 4.563000e+03, 6.810000e+02],\n",
       "       [9.574400e+05, 2.748520e+03, 4.722500e+03, 9.410000e+02],\n",
       "       [8.002680e+05, 2.761060e+03, 4.546800e+03, 9.820000e+02],\n",
       "       [9.674170e+05, 2.773180e+03, 4.747400e+03, 6.544000e+02],\n",
       "       [1.014520e+06, 2.783230e+03, 4.689800e+03, 4.707000e+02],\n",
       "       [1.277547e+06, 2.797010e+03, 4.622600e+03, 5.948000e+02],\n",
       "       [1.063344e+06, 2.815860e+03, 4.525900e+03, 5.231000e+02],\n",
       "       [1.260174e+06, 2.827570e+03, 4.573100e+03, 1.060100e+03],\n",
       "       [1.279369e+06, 2.836930e+03, 4.663600e+03, 7.700000e+02],\n",
       "       [1.147922e+06, 2.848460e+03, 4.877400e+03, 5.254000e+02],\n",
       "       [1.106325e+06, 2.854980e+03, 4.273000e+03, 6.694000e+02],\n",
       "       [1.252046e+06, 2.859600e+03, 4.590500e+03, 9.044000e+02],\n",
       "       [1.273503e+06, 2.873380e+03, 4.634500e+03, 8.351000e+02],\n",
       "       [1.217411e+06, 2.890150e+03, 4.784200e+03, 7.181000e+02],\n",
       "       [1.319156e+06, 2.903960e+03, 4.425300e+03, 1.057600e+03],\n",
       "       [1.276186e+06, 2.911980e+03, 4.425000e+03, 8.510000e+02],\n",
       "       [1.189550e+06, 2.937650e+03, 4.752200e+03, 6.071000e+02],\n",
       "       [1.335292e+06, 2.949720e+03, 4.630100e+03, 1.075500e+03],\n",
       "       [1.354051e+06, 2.959080e+03, 4.571500e+03, 8.160000e+02],\n",
       "       [1.327417e+06, 2.971860e+03, 4.529200e+03, 6.159000e+02],\n",
       "       [1.367708e+06, 2.988970e+03, 4.828300e+03, 5.980000e+02],\n",
       "       [1.354871e+06, 3.009970e+03, 4.416400e+03, 1.113600e+03],\n",
       "       [1.317637e+06, 3.023500e+03, 4.695700e+03, 7.998000e+02],\n",
       "       [1.332535e+06, 3.042310e+03, 4.662300e+03, 8.719000e+02],\n",
       "       [1.355099e+06, 3.058730e+03, 4.639700e+03, 9.084000e+02],\n",
       "       [1.349506e+06, 3.074300e+03, 4.834300e+03, 5.984000e+02],\n",
       "       [1.399292e+06, 3.087370e+03, 4.764400e+03, 9.320000e+02],\n",
       "       [1.323670e+06, 3.103000e+03, 4.509600e+03, 8.440000e+02],\n",
       "       [1.397739e+06, 3.123110e+03, 5.119700e+03, 4.123000e+02],\n",
       "       [1.375012e+06, 3.136080e+03, 4.833500e+03, 9.706000e+02],\n",
       "       [1.402894e+06, 3.153540e+03, 5.086600e+03, 6.797000e+02],\n",
       "       [1.367035e+06, 3.175630e+03, 4.687900e+03, 7.964000e+02],\n",
       "       [1.322277e+06, 3.192940e+03, 4.723600e+03, 7.800000e+02],\n",
       "       [1.312843e+06, 3.209110e+03, 4.895500e+03, 8.534000e+02],\n",
       "       [1.374711e+06, 3.237580e+03, 4.987600e+03, 5.718000e+02],\n",
       "       [1.345772e+06, 3.255780e+03, 4.918900e+03, 7.623000e+02],\n",
       "       [1.387586e+06, 3.270370e+03, 4.822000e+03, 1.272700e+03],\n",
       "       [1.335710e+06, 3.294460e+03, 5.043900e+03, 7.650000e+02],\n",
       "       [1.278000e+06, 3.315380e+03, 4.815800e+03, 1.037800e+03],\n",
       "       [1.369014e+06, 3.333470e+03, 4.961800e+03, 8.865000e+02]])"
      ]
     },
     "execution_count": 26,
     "metadata": {},
     "output_type": "execute_result"
    }
   ],
   "source": [
    "#Separating the features and the target variable\n",
    "X = dfw.drop('wheat_yield', axis = 1).values.astype(float) # Features\n",
    "y = dfw[[\"wheat_yield\"]].values.astype(float) # Target\n",
    "X"
   ]
  },
  {
   "cell_type": "code",
   "execution_count": 27,
   "id": "97b76b48",
   "metadata": {},
   "outputs": [],
   "source": [
    "### Sandardization of data ###\n",
    "from sklearn.preprocessing import StandardScaler\n",
    "scaledX = StandardScaler()\n",
    "scaledy = StandardScaler()"
   ]
  },
  {
   "cell_type": "code",
   "execution_count": 28,
   "id": "51139c4e",
   "metadata": {},
   "outputs": [],
   "source": [
    "# Storing the fit object for later reference\n",
    "X = scaledX.fit_transform(X)\n",
    "y = scaledy.fit_transform(y)"
   ]
  },
  {
   "cell_type": "code",
   "execution_count": 29,
   "id": "94ddeaea",
   "metadata": {},
   "outputs": [],
   "source": [
    "# Splitting the dataset into training and testing set (80/20)\n",
    "X_train, X_test, y_train, y_test = train_test_split(X, y, test_size = 0.3, random_state = 5)"
   ]
  },
  {
   "cell_type": "code",
   "execution_count": 30,
   "id": "d3717da6",
   "metadata": {},
   "outputs": [
    {
     "data": {
      "text/html": [
       "<style>#sk-container-id-3 {color: black;background-color: white;}#sk-container-id-3 pre{padding: 0;}#sk-container-id-3 div.sk-toggleable {background-color: white;}#sk-container-id-3 label.sk-toggleable__label {cursor: pointer;display: block;width: 100%;margin-bottom: 0;padding: 0.3em;box-sizing: border-box;text-align: center;}#sk-container-id-3 label.sk-toggleable__label-arrow:before {content: \"▸\";float: left;margin-right: 0.25em;color: #696969;}#sk-container-id-3 label.sk-toggleable__label-arrow:hover:before {color: black;}#sk-container-id-3 div.sk-estimator:hover label.sk-toggleable__label-arrow:before {color: black;}#sk-container-id-3 div.sk-toggleable__content {max-height: 0;max-width: 0;overflow: hidden;text-align: left;background-color: #f0f8ff;}#sk-container-id-3 div.sk-toggleable__content pre {margin: 0.2em;color: black;border-radius: 0.25em;background-color: #f0f8ff;}#sk-container-id-3 input.sk-toggleable__control:checked~div.sk-toggleable__content {max-height: 200px;max-width: 100%;overflow: auto;}#sk-container-id-3 input.sk-toggleable__control:checked~label.sk-toggleable__label-arrow:before {content: \"▾\";}#sk-container-id-3 div.sk-estimator input.sk-toggleable__control:checked~label.sk-toggleable__label {background-color: #d4ebff;}#sk-container-id-3 div.sk-label input.sk-toggleable__control:checked~label.sk-toggleable__label {background-color: #d4ebff;}#sk-container-id-3 input.sk-hidden--visually {border: 0;clip: rect(1px 1px 1px 1px);clip: rect(1px, 1px, 1px, 1px);height: 1px;margin: -1px;overflow: hidden;padding: 0;position: absolute;width: 1px;}#sk-container-id-3 div.sk-estimator {font-family: monospace;background-color: #f0f8ff;border: 1px dotted black;border-radius: 0.25em;box-sizing: border-box;margin-bottom: 0.5em;}#sk-container-id-3 div.sk-estimator:hover {background-color: #d4ebff;}#sk-container-id-3 div.sk-parallel-item::after {content: \"\";width: 100%;border-bottom: 1px solid gray;flex-grow: 1;}#sk-container-id-3 div.sk-label:hover label.sk-toggleable__label {background-color: #d4ebff;}#sk-container-id-3 div.sk-serial::before {content: \"\";position: absolute;border-left: 1px solid gray;box-sizing: border-box;top: 0;bottom: 0;left: 50%;z-index: 0;}#sk-container-id-3 div.sk-serial {display: flex;flex-direction: column;align-items: center;background-color: white;padding-right: 0.2em;padding-left: 0.2em;position: relative;}#sk-container-id-3 div.sk-item {position: relative;z-index: 1;}#sk-container-id-3 div.sk-parallel {display: flex;align-items: stretch;justify-content: center;background-color: white;position: relative;}#sk-container-id-3 div.sk-item::before, #sk-container-id-3 div.sk-parallel-item::before {content: \"\";position: absolute;border-left: 1px solid gray;box-sizing: border-box;top: 0;bottom: 0;left: 50%;z-index: -1;}#sk-container-id-3 div.sk-parallel-item {display: flex;flex-direction: column;z-index: 1;position: relative;background-color: white;}#sk-container-id-3 div.sk-parallel-item:first-child::after {align-self: flex-end;width: 50%;}#sk-container-id-3 div.sk-parallel-item:last-child::after {align-self: flex-start;width: 50%;}#sk-container-id-3 div.sk-parallel-item:only-child::after {width: 0;}#sk-container-id-3 div.sk-dashed-wrapped {border: 1px dashed gray;margin: 0 0.4em 0.5em 0.4em;box-sizing: border-box;padding-bottom: 0.4em;background-color: white;}#sk-container-id-3 div.sk-label label {font-family: monospace;font-weight: bold;display: inline-block;line-height: 1.2em;}#sk-container-id-3 div.sk-label-container {text-align: center;}#sk-container-id-3 div.sk-container {/* jupyter's `normalize.less` sets `[hidden] { display: none; }` but bootstrap.min.css set `[hidden] { display: none !important; }` so we also need the `!important` here to be able to override the default hidden behavior on the sphinx rendered scikit-learn.org. See: https://github.com/scikit-learn/scikit-learn/issues/21755 */display: inline-block !important;position: relative;}#sk-container-id-3 div.sk-text-repr-fallback {display: none;}</style><div id=\"sk-container-id-3\" class=\"sk-top-container\"><div class=\"sk-text-repr-fallback\"><pre>DecisionTreeRegressor(max_depth=3, min_samples_split=5, random_state=0)</pre><b>In a Jupyter environment, please rerun this cell to show the HTML representation or trust the notebook. <br />On GitHub, the HTML representation is unable to render, please try loading this page with nbviewer.org.</b></div><div class=\"sk-container\" hidden><div class=\"sk-item\"><div class=\"sk-estimator sk-toggleable\"><input class=\"sk-toggleable__control sk-hidden--visually\" id=\"sk-estimator-id-3\" type=\"checkbox\" checked><label for=\"sk-estimator-id-3\" class=\"sk-toggleable__label sk-toggleable__label-arrow\">DecisionTreeRegressor</label><div class=\"sk-toggleable__content\"><pre>DecisionTreeRegressor(max_depth=3, min_samples_split=5, random_state=0)</pre></div></div></div></div></div>"
      ],
      "text/plain": [
       "DecisionTreeRegressor(max_depth=3, min_samples_split=5, random_state=0)"
      ]
     },
     "execution_count": 30,
     "metadata": {},
     "output_type": "execute_result"
    }
   ],
   "source": [
    "# Initializing the Decision Tree Regression model\n",
    "model = DecisionTreeRegressor(max_depth=3, min_samples_split=5, random_state = 0)\n",
    "\n",
    "# Fitting the Decision Tree Regression model to the data\n",
    "model.fit(X_train, y_train)"
   ]
  },
  {
   "cell_type": "code",
   "execution_count": 31,
   "id": "fd6f0231",
   "metadata": {},
   "outputs": [
    {
     "name": "stdout",
     "output_type": "stream",
     "text": [
      "\n",
      "RMSE:  0.862\n"
     ]
    }
   ],
   "source": [
    "# Predicting the target values of the test set\n",
    "y_pred = model.predict(X_test)\n",
    "\n",
    "# RMSE (Root Mean Square Error)\n",
    "rmse = float(format(np.sqrt(mean_squared_error(y_test, y_pred)), '.3f'))\n",
    "print(\"\\nRMSE: \", rmse)"
   ]
  },
  {
   "cell_type": "code",
   "execution_count": 32,
   "id": "402641c1",
   "metadata": {},
   "outputs": [
    {
     "name": "stdout",
     "output_type": "stream",
     "text": [
      "Mean absolute error : 0.6701035735525548\n"
     ]
    }
   ],
   "source": [
    "from sklearn.metrics import mean_absolute_error as mae\n",
    "error = mae(y_test, y_pred)\n",
    "print(\"Mean absolute error : \" + str(error))"
   ]
  },
  {
   "cell_type": "code",
   "execution_count": 33,
   "id": "88ec5006",
   "metadata": {},
   "outputs": [
    {
     "data": {
      "text/plain": [
       "0.28191237999880536"
      ]
     },
     "execution_count": 33,
     "metadata": {},
     "output_type": "execute_result"
    }
   ],
   "source": [
    "from sklearn.metrics import r2_score\n",
    "r2 = r2_score(y_test, y_pred)\n",
    "r2"
   ]
  },
  {
   "cell_type": "code",
   "execution_count": 34,
   "id": "5df07a8b",
   "metadata": {},
   "outputs": [
    {
     "name": "stdout",
     "output_type": "stream",
     "text": [
      "Mean Square Error : 0.7433924998733519\n"
     ]
    }
   ],
   "source": [
    "from sklearn.metrics import mean_squared_error\n",
    "mse = mean_squared_error(y_test, y_pred)\n",
    "print( \"Mean Square Error :\", mse)"
   ]
  },
  {
   "cell_type": "markdown",
   "id": "a0721db7",
   "metadata": {},
   "source": [
    "## DECISION TREE RRGRESSION ANALYSIS FOR POTATO YIELD"
   ]
  },
  {
   "cell_type": "code",
   "execution_count": 35,
   "id": "bcdf12d7",
   "metadata": {},
   "outputs": [
    {
     "data": {
      "text/html": [
       "<div>\n",
       "<style scoped>\n",
       "    .dataframe tbody tr th:only-of-type {\n",
       "        vertical-align: middle;\n",
       "    }\n",
       "\n",
       "    .dataframe tbody tr th {\n",
       "        vertical-align: top;\n",
       "    }\n",
       "\n",
       "    .dataframe thead th {\n",
       "        text-align: right;\n",
       "    }\n",
       "</style>\n",
       "<table border=\"1\" class=\"dataframe\">\n",
       "  <thead>\n",
       "    <tr style=\"text-align: right;\">\n",
       "      <th></th>\n",
       "      <th>pot_yield</th>\n",
       "      <th>solar_rad</th>\n",
       "      <th>co2</th>\n",
       "      <th>temp</th>\n",
       "      <th>precip</th>\n",
       "    </tr>\n",
       "  </thead>\n",
       "  <tbody>\n",
       "    <tr>\n",
       "      <th>0</th>\n",
       "      <td>295245</td>\n",
       "      <td>894031</td>\n",
       "      <td>2713.57</td>\n",
       "      <td>4030.5</td>\n",
       "      <td>592.2</td>\n",
       "    </tr>\n",
       "    <tr>\n",
       "      <th>1</th>\n",
       "      <td>308199</td>\n",
       "      <td>894031</td>\n",
       "      <td>2723.25</td>\n",
       "      <td>4784.5</td>\n",
       "      <td>629.3</td>\n",
       "    </tr>\n",
       "    <tr>\n",
       "      <th>2</th>\n",
       "      <td>312544</td>\n",
       "      <td>851000</td>\n",
       "      <td>2734.78</td>\n",
       "      <td>4563.0</td>\n",
       "      <td>681.0</td>\n",
       "    </tr>\n",
       "    <tr>\n",
       "      <th>3</th>\n",
       "      <td>299754</td>\n",
       "      <td>957440</td>\n",
       "      <td>2748.52</td>\n",
       "      <td>4722.5</td>\n",
       "      <td>941.0</td>\n",
       "    </tr>\n",
       "    <tr>\n",
       "      <th>4</th>\n",
       "      <td>311082</td>\n",
       "      <td>800268</td>\n",
       "      <td>2761.06</td>\n",
       "      <td>4546.8</td>\n",
       "      <td>982.0</td>\n",
       "    </tr>\n",
       "  </tbody>\n",
       "</table>\n",
       "</div>"
      ],
      "text/plain": [
       "   pot_yield  solar_rad      co2    temp  precip\n",
       "0     295245     894031  2713.57  4030.5   592.2\n",
       "1     308199     894031  2723.25  4784.5   629.3\n",
       "2     312544     851000  2734.78  4563.0   681.0\n",
       "3     299754     957440  2748.52  4722.5   941.0\n",
       "4     311082     800268  2761.06  4546.8   982.0"
      ]
     },
     "execution_count": 35,
     "metadata": {},
     "output_type": "execute_result"
    }
   ],
   "source": [
    "dfp=df[['pot_yield', 'solar_rad', 'co2', 'temp', 'precip']]\n",
    "dfp.head()"
   ]
  },
  {
   "cell_type": "code",
   "execution_count": 36,
   "id": "5eebc292",
   "metadata": {},
   "outputs": [
    {
     "data": {
      "text/plain": [
       "array([[8.940310e+05, 2.713570e+03, 4.030500e+03, 5.922000e+02],\n",
       "       [8.940310e+05, 2.723250e+03, 4.784500e+03, 6.293000e+02],\n",
       "       [8.510000e+05, 2.734780e+03, 4.563000e+03, 6.810000e+02],\n",
       "       [9.574400e+05, 2.748520e+03, 4.722500e+03, 9.410000e+02],\n",
       "       [8.002680e+05, 2.761060e+03, 4.546800e+03, 9.820000e+02],\n",
       "       [9.674170e+05, 2.773180e+03, 4.747400e+03, 6.544000e+02],\n",
       "       [1.014520e+06, 2.783230e+03, 4.689800e+03, 4.707000e+02],\n",
       "       [1.277547e+06, 2.797010e+03, 4.622600e+03, 5.948000e+02],\n",
       "       [1.063344e+06, 2.815860e+03, 4.525900e+03, 5.231000e+02],\n",
       "       [1.260174e+06, 2.827570e+03, 4.573100e+03, 1.060100e+03],\n",
       "       [1.279369e+06, 2.836930e+03, 4.663600e+03, 7.700000e+02],\n",
       "       [1.147922e+06, 2.848460e+03, 4.877400e+03, 5.254000e+02],\n",
       "       [1.106325e+06, 2.854980e+03, 4.273000e+03, 6.694000e+02],\n",
       "       [1.252046e+06, 2.859600e+03, 4.590500e+03, 9.044000e+02],\n",
       "       [1.273503e+06, 2.873380e+03, 4.634500e+03, 8.351000e+02],\n",
       "       [1.217411e+06, 2.890150e+03, 4.784200e+03, 7.181000e+02],\n",
       "       [1.319156e+06, 2.903960e+03, 4.425300e+03, 1.057600e+03],\n",
       "       [1.276186e+06, 2.911980e+03, 4.425000e+03, 8.510000e+02],\n",
       "       [1.189550e+06, 2.937650e+03, 4.752200e+03, 6.071000e+02],\n",
       "       [1.335292e+06, 2.949720e+03, 4.630100e+03, 1.075500e+03],\n",
       "       [1.354051e+06, 2.959080e+03, 4.571500e+03, 8.160000e+02],\n",
       "       [1.327417e+06, 2.971860e+03, 4.529200e+03, 6.159000e+02],\n",
       "       [1.367708e+06, 2.988970e+03, 4.828300e+03, 5.980000e+02],\n",
       "       [1.354871e+06, 3.009970e+03, 4.416400e+03, 1.113600e+03],\n",
       "       [1.317637e+06, 3.023500e+03, 4.695700e+03, 7.998000e+02],\n",
       "       [1.332535e+06, 3.042310e+03, 4.662300e+03, 8.719000e+02],\n",
       "       [1.355099e+06, 3.058730e+03, 4.639700e+03, 9.084000e+02],\n",
       "       [1.349506e+06, 3.074300e+03, 4.834300e+03, 5.984000e+02],\n",
       "       [1.399292e+06, 3.087370e+03, 4.764400e+03, 9.320000e+02],\n",
       "       [1.323670e+06, 3.103000e+03, 4.509600e+03, 8.440000e+02],\n",
       "       [1.397739e+06, 3.123110e+03, 5.119700e+03, 4.123000e+02],\n",
       "       [1.375012e+06, 3.136080e+03, 4.833500e+03, 9.706000e+02],\n",
       "       [1.402894e+06, 3.153540e+03, 5.086600e+03, 6.797000e+02],\n",
       "       [1.367035e+06, 3.175630e+03, 4.687900e+03, 7.964000e+02],\n",
       "       [1.322277e+06, 3.192940e+03, 4.723600e+03, 7.800000e+02],\n",
       "       [1.312843e+06, 3.209110e+03, 4.895500e+03, 8.534000e+02],\n",
       "       [1.374711e+06, 3.237580e+03, 4.987600e+03, 5.718000e+02],\n",
       "       [1.345772e+06, 3.255780e+03, 4.918900e+03, 7.623000e+02],\n",
       "       [1.387586e+06, 3.270370e+03, 4.822000e+03, 1.272700e+03],\n",
       "       [1.335710e+06, 3.294460e+03, 5.043900e+03, 7.650000e+02],\n",
       "       [1.278000e+06, 3.315380e+03, 4.815800e+03, 1.037800e+03],\n",
       "       [1.369014e+06, 3.333470e+03, 4.961800e+03, 8.865000e+02]])"
      ]
     },
     "execution_count": 36,
     "metadata": {},
     "output_type": "execute_result"
    }
   ],
   "source": [
    "#Separating the features and the target variable\n",
    "X = dfp.drop('pot_yield', axis = 1).values.astype(float) # Features\n",
    "y = dfp[[\"pot_yield\"]].values.astype(float) # Target\n",
    "X"
   ]
  },
  {
   "cell_type": "code",
   "execution_count": 37,
   "id": "a3cfb408",
   "metadata": {},
   "outputs": [],
   "source": [
    "### Sandardization of data ###\n",
    "from sklearn.preprocessing import StandardScaler\n",
    "scaledX = StandardScaler()\n",
    "scaledy = StandardScaler()"
   ]
  },
  {
   "cell_type": "code",
   "execution_count": 38,
   "id": "4a91953d",
   "metadata": {},
   "outputs": [],
   "source": [
    "# Storing the fit object for later reference\n",
    "X = scaledX.fit_transform(X)\n",
    "y = scaledy.fit_transform(y)"
   ]
  },
  {
   "cell_type": "code",
   "execution_count": 39,
   "id": "27c2454f",
   "metadata": {},
   "outputs": [],
   "source": [
    "# Splitting the dataset into training and testing set (80/20)\n",
    "X_train, X_test, y_train, y_test = train_test_split(X, y, test_size = 0.3, random_state = 5)"
   ]
  },
  {
   "cell_type": "code",
   "execution_count": 40,
   "id": "5752d0a8",
   "metadata": {},
   "outputs": [
    {
     "data": {
      "text/html": [
       "<style>#sk-container-id-4 {color: black;background-color: white;}#sk-container-id-4 pre{padding: 0;}#sk-container-id-4 div.sk-toggleable {background-color: white;}#sk-container-id-4 label.sk-toggleable__label {cursor: pointer;display: block;width: 100%;margin-bottom: 0;padding: 0.3em;box-sizing: border-box;text-align: center;}#sk-container-id-4 label.sk-toggleable__label-arrow:before {content: \"▸\";float: left;margin-right: 0.25em;color: #696969;}#sk-container-id-4 label.sk-toggleable__label-arrow:hover:before {color: black;}#sk-container-id-4 div.sk-estimator:hover label.sk-toggleable__label-arrow:before {color: black;}#sk-container-id-4 div.sk-toggleable__content {max-height: 0;max-width: 0;overflow: hidden;text-align: left;background-color: #f0f8ff;}#sk-container-id-4 div.sk-toggleable__content pre {margin: 0.2em;color: black;border-radius: 0.25em;background-color: #f0f8ff;}#sk-container-id-4 input.sk-toggleable__control:checked~div.sk-toggleable__content {max-height: 200px;max-width: 100%;overflow: auto;}#sk-container-id-4 input.sk-toggleable__control:checked~label.sk-toggleable__label-arrow:before {content: \"▾\";}#sk-container-id-4 div.sk-estimator input.sk-toggleable__control:checked~label.sk-toggleable__label {background-color: #d4ebff;}#sk-container-id-4 div.sk-label input.sk-toggleable__control:checked~label.sk-toggleable__label {background-color: #d4ebff;}#sk-container-id-4 input.sk-hidden--visually {border: 0;clip: rect(1px 1px 1px 1px);clip: rect(1px, 1px, 1px, 1px);height: 1px;margin: -1px;overflow: hidden;padding: 0;position: absolute;width: 1px;}#sk-container-id-4 div.sk-estimator {font-family: monospace;background-color: #f0f8ff;border: 1px dotted black;border-radius: 0.25em;box-sizing: border-box;margin-bottom: 0.5em;}#sk-container-id-4 div.sk-estimator:hover {background-color: #d4ebff;}#sk-container-id-4 div.sk-parallel-item::after {content: \"\";width: 100%;border-bottom: 1px solid gray;flex-grow: 1;}#sk-container-id-4 div.sk-label:hover label.sk-toggleable__label {background-color: #d4ebff;}#sk-container-id-4 div.sk-serial::before {content: \"\";position: absolute;border-left: 1px solid gray;box-sizing: border-box;top: 0;bottom: 0;left: 50%;z-index: 0;}#sk-container-id-4 div.sk-serial {display: flex;flex-direction: column;align-items: center;background-color: white;padding-right: 0.2em;padding-left: 0.2em;position: relative;}#sk-container-id-4 div.sk-item {position: relative;z-index: 1;}#sk-container-id-4 div.sk-parallel {display: flex;align-items: stretch;justify-content: center;background-color: white;position: relative;}#sk-container-id-4 div.sk-item::before, #sk-container-id-4 div.sk-parallel-item::before {content: \"\";position: absolute;border-left: 1px solid gray;box-sizing: border-box;top: 0;bottom: 0;left: 50%;z-index: -1;}#sk-container-id-4 div.sk-parallel-item {display: flex;flex-direction: column;z-index: 1;position: relative;background-color: white;}#sk-container-id-4 div.sk-parallel-item:first-child::after {align-self: flex-end;width: 50%;}#sk-container-id-4 div.sk-parallel-item:last-child::after {align-self: flex-start;width: 50%;}#sk-container-id-4 div.sk-parallel-item:only-child::after {width: 0;}#sk-container-id-4 div.sk-dashed-wrapped {border: 1px dashed gray;margin: 0 0.4em 0.5em 0.4em;box-sizing: border-box;padding-bottom: 0.4em;background-color: white;}#sk-container-id-4 div.sk-label label {font-family: monospace;font-weight: bold;display: inline-block;line-height: 1.2em;}#sk-container-id-4 div.sk-label-container {text-align: center;}#sk-container-id-4 div.sk-container {/* jupyter's `normalize.less` sets `[hidden] { display: none; }` but bootstrap.min.css set `[hidden] { display: none !important; }` so we also need the `!important` here to be able to override the default hidden behavior on the sphinx rendered scikit-learn.org. See: https://github.com/scikit-learn/scikit-learn/issues/21755 */display: inline-block !important;position: relative;}#sk-container-id-4 div.sk-text-repr-fallback {display: none;}</style><div id=\"sk-container-id-4\" class=\"sk-top-container\"><div class=\"sk-text-repr-fallback\"><pre>DecisionTreeRegressor(max_depth=3, min_samples_split=5, random_state=0)</pre><b>In a Jupyter environment, please rerun this cell to show the HTML representation or trust the notebook. <br />On GitHub, the HTML representation is unable to render, please try loading this page with nbviewer.org.</b></div><div class=\"sk-container\" hidden><div class=\"sk-item\"><div class=\"sk-estimator sk-toggleable\"><input class=\"sk-toggleable__control sk-hidden--visually\" id=\"sk-estimator-id-4\" type=\"checkbox\" checked><label for=\"sk-estimator-id-4\" class=\"sk-toggleable__label sk-toggleable__label-arrow\">DecisionTreeRegressor</label><div class=\"sk-toggleable__content\"><pre>DecisionTreeRegressor(max_depth=3, min_samples_split=5, random_state=0)</pre></div></div></div></div></div>"
      ],
      "text/plain": [
       "DecisionTreeRegressor(max_depth=3, min_samples_split=5, random_state=0)"
      ]
     },
     "execution_count": 40,
     "metadata": {},
     "output_type": "execute_result"
    }
   ],
   "source": [
    "# Initializing the Decision Tree Regression model\n",
    "model = DecisionTreeRegressor(max_depth=3, min_samples_split=5, random_state = 0)\n",
    "\n",
    "# Fitting the Decision Tree Regression model to the data\n",
    "model.fit(X_train, y_train)"
   ]
  },
  {
   "cell_type": "code",
   "execution_count": 41,
   "id": "11b6bba4",
   "metadata": {},
   "outputs": [
    {
     "name": "stdout",
     "output_type": "stream",
     "text": [
      "\n",
      "RMSE:  0.237\n"
     ]
    }
   ],
   "source": [
    "# Predicting the target values of the test set\n",
    "y_pred = model.predict(X_test)\n",
    "\n",
    "# RMSE (Root Mean Square Error)\n",
    "rmse = float(format(np.sqrt(mean_squared_error(y_test, y_pred)), '.3f'))\n",
    "print(\"\\nRMSE: \", rmse)"
   ]
  },
  {
   "cell_type": "code",
   "execution_count": 42,
   "id": "f20cad35",
   "metadata": {},
   "outputs": [
    {
     "name": "stdout",
     "output_type": "stream",
     "text": [
      "Mean absolute error : 0.19218788402125228\n"
     ]
    }
   ],
   "source": [
    "from sklearn.metrics import mean_absolute_error as mae\n",
    "error = mae(y_test, y_pred)\n",
    "print(\"Mean absolute error : \" + str(error))"
   ]
  },
  {
   "cell_type": "code",
   "execution_count": 43,
   "id": "1a5e1c09",
   "metadata": {},
   "outputs": [
    {
     "data": {
      "text/plain": [
       "0.9556231167695265"
      ]
     },
     "execution_count": 43,
     "metadata": {},
     "output_type": "execute_result"
    }
   ],
   "source": [
    "from sklearn.metrics import r2_score\n",
    "r2 = r2_score(y_test, y_pred)\n",
    "r2"
   ]
  },
  {
   "cell_type": "code",
   "execution_count": 44,
   "id": "8b538d2d",
   "metadata": {},
   "outputs": [
    {
     "name": "stdout",
     "output_type": "stream",
     "text": [
      "Mean Square Error : 0.05600584805038207\n"
     ]
    }
   ],
   "source": [
    "from sklearn.metrics import mean_squared_error\n",
    "mse = mean_squared_error(y_test, y_pred)\n",
    "print( \"Mean Square Error :\", mse)"
   ]
  },
  {
   "cell_type": "code",
   "execution_count": null,
   "id": "bbccd01a",
   "metadata": {},
   "outputs": [],
   "source": []
  }
 ],
 "metadata": {
  "kernelspec": {
   "display_name": "Python 3 (ipykernel)",
   "language": "python",
   "name": "python3"
  },
  "language_info": {
   "codemirror_mode": {
    "name": "ipython",
    "version": 3
   },
   "file_extension": ".py",
   "mimetype": "text/x-python",
   "name": "python",
   "nbconvert_exporter": "python",
   "pygments_lexer": "ipython3",
   "version": "3.10.9"
  }
 },
 "nbformat": 4,
 "nbformat_minor": 5
}
