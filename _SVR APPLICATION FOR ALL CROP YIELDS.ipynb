{
 "cells": [
  {
   "cell_type": "code",
   "execution_count": 1,
   "metadata": {},
   "outputs": [],
   "source": [
    "import numpy as np\n",
    "import matplotlib.pyplot as plt\n",
    "from sklearn import svm\n",
    "import pandas as pd\n",
    "from sklearn.preprocessing import StandardScaler\n",
    "from sklearn.svm import SVR"
   ]
  },
  {
   "cell_type": "code",
   "execution_count": 2,
   "metadata": {},
   "outputs": [
    {
     "data": {
      "text/html": [
       "<div>\n",
       "<style scoped>\n",
       "    .dataframe tbody tr th:only-of-type {\n",
       "        vertical-align: middle;\n",
       "    }\n",
       "\n",
       "    .dataframe tbody tr th {\n",
       "        vertical-align: top;\n",
       "    }\n",
       "\n",
       "    .dataframe thead th {\n",
       "        text-align: right;\n",
       "    }\n",
       "</style>\n",
       "<table border=\"1\" class=\"dataframe\">\n",
       "  <thead>\n",
       "    <tr style=\"text-align: right;\">\n",
       "      <th></th>\n",
       "      <th>year</th>\n",
       "      <th>country</th>\n",
       "      <th>maize_yield</th>\n",
       "      <th>pot_yield</th>\n",
       "      <th>wheat_yield</th>\n",
       "      <th>rice_yield</th>\n",
       "      <th>Production(Maize)Tonnes</th>\n",
       "      <th>Production Potatoes(Tonnes)</th>\n",
       "      <th>Production Wheat(Tonnes)</th>\n",
       "      <th>Production Rice(Tonnes)</th>\n",
       "      <th>solar_rad</th>\n",
       "      <th>co2</th>\n",
       "      <th>temp</th>\n",
       "      <th>precip</th>\n",
       "    </tr>\n",
       "  </thead>\n",
       "  <tbody>\n",
       "    <tr>\n",
       "      <th>0</th>\n",
       "      <td>1980</td>\n",
       "      <td>United States of America</td>\n",
       "      <td>57118</td>\n",
       "      <td>295245</td>\n",
       "      <td>22513</td>\n",
       "      <td>49461</td>\n",
       "      <td>168647008</td>\n",
       "      <td>13785000</td>\n",
       "      <td>64799504</td>\n",
       "      <td>6629250</td>\n",
       "      <td>894031</td>\n",
       "      <td>2713.57</td>\n",
       "      <td>4030.5</td>\n",
       "      <td>592.2</td>\n",
       "    </tr>\n",
       "    <tr>\n",
       "      <th>1</th>\n",
       "      <td>1981</td>\n",
       "      <td>United States of America</td>\n",
       "      <td>68380</td>\n",
       "      <td>308199</td>\n",
       "      <td>23229</td>\n",
       "      <td>54015</td>\n",
       "      <td>206222000</td>\n",
       "      <td>15450000</td>\n",
       "      <td>75806304</td>\n",
       "      <td>8289040</td>\n",
       "      <td>894031</td>\n",
       "      <td>2723.25</td>\n",
       "      <td>4784.5</td>\n",
       "      <td>629.3</td>\n",
       "    </tr>\n",
       "    <tr>\n",
       "      <th>2</th>\n",
       "      <td>1982</td>\n",
       "      <td>United States of America</td>\n",
       "      <td>71082</td>\n",
       "      <td>312544</td>\n",
       "      <td>23859</td>\n",
       "      <td>52791</td>\n",
       "      <td>209180000</td>\n",
       "      <td>16108500</td>\n",
       "      <td>75251296</td>\n",
       "      <td>6968900</td>\n",
       "      <td>851000</td>\n",
       "      <td>2734.78</td>\n",
       "      <td>4563.0</td>\n",
       "      <td>681.0</td>\n",
       "    </tr>\n",
       "    <tr>\n",
       "      <th>3</th>\n",
       "      <td>1983</td>\n",
       "      <td>United States of America</td>\n",
       "      <td>50893</td>\n",
       "      <td>299754</td>\n",
       "      <td>26509</td>\n",
       "      <td>51532</td>\n",
       "      <td>106030000</td>\n",
       "      <td>15137600</td>\n",
       "      <td>65857904</td>\n",
       "      <td>4523200</td>\n",
       "      <td>957440</td>\n",
       "      <td>2748.52</td>\n",
       "      <td>4722.5</td>\n",
       "      <td>941.0</td>\n",
       "    </tr>\n",
       "    <tr>\n",
       "      <th>4</th>\n",
       "      <td>1984</td>\n",
       "      <td>United States of America</td>\n",
       "      <td>66981</td>\n",
       "      <td>311082</td>\n",
       "      <td>26073</td>\n",
       "      <td>55523</td>\n",
       "      <td>194880000</td>\n",
       "      <td>16422000</td>\n",
       "      <td>70618000</td>\n",
       "      <td>6296300</td>\n",
       "      <td>800268</td>\n",
       "      <td>2761.06</td>\n",
       "      <td>4546.8</td>\n",
       "      <td>982.0</td>\n",
       "    </tr>\n",
       "    <tr>\n",
       "      <th>5</th>\n",
       "      <td>1985</td>\n",
       "      <td>United States of America</td>\n",
       "      <td>74074</td>\n",
       "      <td>333689</td>\n",
       "      <td>25197</td>\n",
       "      <td>60704</td>\n",
       "      <td>225453008</td>\n",
       "      <td>18443008</td>\n",
       "      <td>65975008</td>\n",
       "      <td>6122000</td>\n",
       "      <td>967417</td>\n",
       "      <td>2773.18</td>\n",
       "      <td>4747.4</td>\n",
       "      <td>654.4</td>\n",
       "    </tr>\n",
       "    <tr>\n",
       "      <th>6</th>\n",
       "      <td>1986</td>\n",
       "      <td>United States of America</td>\n",
       "      <td>74930</td>\n",
       "      <td>330540</td>\n",
       "      <td>23167</td>\n",
       "      <td>63340</td>\n",
       "      <td>208943008</td>\n",
       "      <td>16408000</td>\n",
       "      <td>56897008</td>\n",
       "      <td>6049000</td>\n",
       "      <td>1014520</td>\n",
       "      <td>2783.23</td>\n",
       "      <td>4689.8</td>\n",
       "      <td>470.7</td>\n",
       "    </tr>\n",
       "    <tr>\n",
       "      <th>7</th>\n",
       "      <td>1987</td>\n",
       "      <td>United States of America</td>\n",
       "      <td>75225</td>\n",
       "      <td>337394</td>\n",
       "      <td>25330</td>\n",
       "      <td>62271</td>\n",
       "      <td>181142000</td>\n",
       "      <td>17659200</td>\n",
       "      <td>57361808</td>\n",
       "      <td>5879000</td>\n",
       "      <td>1277547</td>\n",
       "      <td>2797.01</td>\n",
       "      <td>4622.6</td>\n",
       "      <td>594.8</td>\n",
       "    </tr>\n",
       "    <tr>\n",
       "      <th>8</th>\n",
       "      <td>1988</td>\n",
       "      <td>United States of America</td>\n",
       "      <td>53109</td>\n",
       "      <td>317265</td>\n",
       "      <td>22913</td>\n",
       "      <td>61801</td>\n",
       "      <td>125194000</td>\n",
       "      <td>16167800</td>\n",
       "      <td>49320000</td>\n",
       "      <td>7253000</td>\n",
       "      <td>1063344</td>\n",
       "      <td>2815.86</td>\n",
       "      <td>4525.9</td>\n",
       "      <td>523.1</td>\n",
       "    </tr>\n",
       "    <tr>\n",
       "      <th>9</th>\n",
       "      <td>1989</td>\n",
       "      <td>United States of America</td>\n",
       "      <td>72978</td>\n",
       "      <td>324007</td>\n",
       "      <td>22024</td>\n",
       "      <td>64466</td>\n",
       "      <td>191319008</td>\n",
       "      <td>16803008</td>\n",
       "      <td>55428000</td>\n",
       "      <td>7007400</td>\n",
       "      <td>1260174</td>\n",
       "      <td>2827.57</td>\n",
       "      <td>4573.1</td>\n",
       "      <td>1060.1</td>\n",
       "    </tr>\n",
       "  </tbody>\n",
       "</table>\n",
       "</div>"
      ],
      "text/plain": [
       "   year                   country  maize_yield  pot_yield  wheat_yield  \\\n",
       "0  1980  United States of America        57118     295245        22513   \n",
       "1  1981  United States of America        68380     308199        23229   \n",
       "2  1982  United States of America        71082     312544        23859   \n",
       "3  1983  United States of America        50893     299754        26509   \n",
       "4  1984  United States of America        66981     311082        26073   \n",
       "5  1985  United States of America        74074     333689        25197   \n",
       "6  1986  United States of America        74930     330540        23167   \n",
       "7  1987  United States of America        75225     337394        25330   \n",
       "8  1988  United States of America        53109     317265        22913   \n",
       "9  1989  United States of America        72978     324007        22024   \n",
       "\n",
       "   rice_yield  Production(Maize)Tonnes  Production Potatoes(Tonnes)  \\\n",
       "0       49461                168647008                     13785000   \n",
       "1       54015                206222000                     15450000   \n",
       "2       52791                209180000                     16108500   \n",
       "3       51532                106030000                     15137600   \n",
       "4       55523                194880000                     16422000   \n",
       "5       60704                225453008                     18443008   \n",
       "6       63340                208943008                     16408000   \n",
       "7       62271                181142000                     17659200   \n",
       "8       61801                125194000                     16167800   \n",
       "9       64466                191319008                     16803008   \n",
       "\n",
       "   Production Wheat(Tonnes)  Production Rice(Tonnes)  solar_rad      co2  \\\n",
       "0                  64799504                  6629250     894031  2713.57   \n",
       "1                  75806304                  8289040     894031  2723.25   \n",
       "2                  75251296                  6968900     851000  2734.78   \n",
       "3                  65857904                  4523200     957440  2748.52   \n",
       "4                  70618000                  6296300     800268  2761.06   \n",
       "5                  65975008                  6122000     967417  2773.18   \n",
       "6                  56897008                  6049000    1014520  2783.23   \n",
       "7                  57361808                  5879000    1277547  2797.01   \n",
       "8                  49320000                  7253000    1063344  2815.86   \n",
       "9                  55428000                  7007400    1260174  2827.57   \n",
       "\n",
       "     temp  precip  \n",
       "0  4030.5   592.2  \n",
       "1  4784.5   629.3  \n",
       "2  4563.0   681.0  \n",
       "3  4722.5   941.0  \n",
       "4  4546.8   982.0  \n",
       "5  4747.4   654.4  \n",
       "6  4689.8   470.7  \n",
       "7  4622.6   594.8  \n",
       "8  4525.9   523.1  \n",
       "9  4573.1  1060.1  "
      ]
     },
     "execution_count": 2,
     "metadata": {},
     "output_type": "execute_result"
    }
   ],
   "source": [
    "df = pd.read_csv(r\"C:\\Users\\TOLS\\OneDrive - Cardiff Metropolitan University\\Dissertation\\DISSERTATION DATA\\DISSERTATION.csv\")\n",
    "df.head(10)"
   ]
  },
  {
   "cell_type": "markdown",
   "metadata": {},
   "source": [
    "### SUPPORT VECTOR REGRESSION APPLICATION FOR MAIZE YIELD"
   ]
  },
  {
   "cell_type": "code",
   "execution_count": 3,
   "metadata": {},
   "outputs": [
    {
     "data": {
      "text/plain": [
       "array([[8.940310e+05, 2.713570e+03, 4.030500e+03, 5.922000e+02],\n",
       "       [8.940310e+05, 2.723250e+03, 4.784500e+03, 6.293000e+02],\n",
       "       [8.510000e+05, 2.734780e+03, 4.563000e+03, 6.810000e+02],\n",
       "       [9.574400e+05, 2.748520e+03, 4.722500e+03, 9.410000e+02],\n",
       "       [8.002680e+05, 2.761060e+03, 4.546800e+03, 9.820000e+02],\n",
       "       [9.674170e+05, 2.773180e+03, 4.747400e+03, 6.544000e+02],\n",
       "       [1.014520e+06, 2.783230e+03, 4.689800e+03, 4.707000e+02],\n",
       "       [1.277547e+06, 2.797010e+03, 4.622600e+03, 5.948000e+02],\n",
       "       [1.063344e+06, 2.815860e+03, 4.525900e+03, 5.231000e+02],\n",
       "       [1.260174e+06, 2.827570e+03, 4.573100e+03, 1.060100e+03],\n",
       "       [1.279369e+06, 2.836930e+03, 4.663600e+03, 7.700000e+02],\n",
       "       [1.147922e+06, 2.848460e+03, 4.877400e+03, 5.254000e+02],\n",
       "       [1.106325e+06, 2.854980e+03, 4.273000e+03, 6.694000e+02],\n",
       "       [1.252046e+06, 2.859600e+03, 4.590500e+03, 9.044000e+02],\n",
       "       [1.273503e+06, 2.873380e+03, 4.634500e+03, 8.351000e+02],\n",
       "       [1.217411e+06, 2.890150e+03, 4.784200e+03, 7.181000e+02],\n",
       "       [1.319156e+06, 2.903960e+03, 4.425300e+03, 1.057600e+03],\n",
       "       [1.276186e+06, 2.911980e+03, 4.425000e+03, 8.510000e+02],\n",
       "       [1.189550e+06, 2.937650e+03, 4.752200e+03, 6.071000e+02],\n",
       "       [1.335292e+06, 2.949720e+03, 4.630100e+03, 1.075500e+03],\n",
       "       [1.354051e+06, 2.959080e+03, 4.571500e+03, 8.160000e+02],\n",
       "       [1.327417e+06, 2.971860e+03, 4.529200e+03, 6.159000e+02],\n",
       "       [1.367708e+06, 2.988970e+03, 4.828300e+03, 5.980000e+02],\n",
       "       [1.354871e+06, 3.009970e+03, 4.416400e+03, 1.113600e+03],\n",
       "       [1.317637e+06, 3.023500e+03, 4.695700e+03, 7.998000e+02],\n",
       "       [1.332535e+06, 3.042310e+03, 4.662300e+03, 8.719000e+02],\n",
       "       [1.355099e+06, 3.058730e+03, 4.639700e+03, 9.084000e+02],\n",
       "       [1.349506e+06, 3.074300e+03, 4.834300e+03, 5.984000e+02],\n",
       "       [1.399292e+06, 3.087370e+03, 4.764400e+03, 9.320000e+02],\n",
       "       [1.323670e+06, 3.103000e+03, 4.509600e+03, 8.440000e+02],\n",
       "       [1.397739e+06, 3.123110e+03, 5.119700e+03, 4.123000e+02],\n",
       "       [1.375012e+06, 3.136080e+03, 4.833500e+03, 9.706000e+02],\n",
       "       [1.402894e+06, 3.153540e+03, 5.086600e+03, 6.797000e+02],\n",
       "       [1.367035e+06, 3.175630e+03, 4.687900e+03, 7.964000e+02],\n",
       "       [1.322277e+06, 3.192940e+03, 4.723600e+03, 7.800000e+02],\n",
       "       [1.312843e+06, 3.209110e+03, 4.895500e+03, 8.534000e+02],\n",
       "       [1.374711e+06, 3.237580e+03, 4.987600e+03, 5.718000e+02],\n",
       "       [1.345772e+06, 3.255780e+03, 4.918900e+03, 7.623000e+02],\n",
       "       [1.387586e+06, 3.270370e+03, 4.822000e+03, 1.272700e+03],\n",
       "       [1.335710e+06, 3.294460e+03, 5.043900e+03, 7.650000e+02],\n",
       "       [1.278000e+06, 3.315380e+03, 4.815800e+03, 1.037800e+03],\n",
       "       [1.369014e+06, 3.333470e+03, 4.961800e+03, 8.865000e+02]])"
      ]
     },
     "execution_count": 3,
     "metadata": {},
     "output_type": "execute_result"
    }
   ],
   "source": [
    "# Filtering the independent variables (X) and the dependent variable (y)\n",
    "X = df[[\"solar_rad\", \"co2\", \"temp\", \"precip\"]].values.astype(float)\n",
    "y = df[[\"maize_yield\"]].values.astype(float)\n",
    "X"
   ]
  },
  {
   "cell_type": "code",
   "execution_count": 4,
   "metadata": {},
   "outputs": [],
   "source": [
    "from sklearn.preprocessing import StandardScaler"
   ]
  },
  {
   "cell_type": "code",
   "execution_count": 5,
   "metadata": {},
   "outputs": [],
   "source": [
    "#Scaling or Standardizing the two variables for better analysis by calling the standardscaler() function from sklearn\n",
    "scaledX = StandardScaler()\n",
    "scaledy = StandardScaler()"
   ]
  },
  {
   "cell_type": "code",
   "execution_count": 6,
   "metadata": {},
   "outputs": [
    {
     "data": {
      "text/plain": [
       "array([[-2.08000357e+00, -1.52066980e+00, -3.14024733e+00,\n",
       "        -1.01693282e+00],\n",
       "       [-2.08000357e+00, -1.46733358e+00,  4.20388438e-01,\n",
       "        -8.22655421e-01],\n",
       "       [-2.33787814e+00, -1.40380398e+00, -6.25607347e-01,\n",
       "        -5.51923850e-01],\n",
       "       [-1.70000849e+00, -1.32809742e+00,  1.27604065e-01,\n",
       "         8.09588889e-01],\n",
       "       [-2.64190297e+00, -1.25900278e+00, -7.02109070e-01,\n",
       "         1.02428897e+00],\n",
       "       [-1.64021869e+00, -1.19222231e+00,  2.45190047e-01,\n",
       "        -6.91217076e-01],\n",
       "       [-1.35794160e+00, -1.13684742e+00, -2.68160803e-02,\n",
       "        -1.65317819e+00],\n",
       "       [ 2.18316769e-01, -1.06092046e+00, -3.44156562e-01,\n",
       "        -1.00331769e+00],\n",
       "       [-1.06535096e+00, -9.57058099e-01, -8.00805738e-01,\n",
       "        -1.37878101e+00],\n",
       "       [ 1.14204505e-01, -8.92536709e-01, -5.77911828e-01,\n",
       "         1.43326645e+00],\n",
       "       [ 2.29235583e-01, -8.40963677e-01, -1.50541090e-01,\n",
       "        -8.58675662e-02],\n",
       "       [-5.58495082e-01, -7.77434076e-01,  8.59092766e-01,\n",
       "        -1.36673686e+00],\n",
       "       [-8.07776028e-01, -7.41509272e-01, -1.99508264e+00,\n",
       "        -6.12668264e-01],\n",
       "       [ 6.54953305e-02, -7.16053352e-01, -4.95743311e-01,\n",
       "         6.17929788e-01],\n",
       "       [ 1.94082037e-01, -6.40126388e-01, -2.87960852e-01,\n",
       "         2.55034277e-01],\n",
       "       [-1.42064002e-01, -5.47724705e-01,  4.18971740e-01,\n",
       "        -3.57646455e-01],\n",
       "       [ 4.67669628e-01, -4.71632442e-01, -1.27587200e+00,\n",
       "         1.42017499e+00],\n",
       "       [ 2.10160620e-01, -4.27442729e-01, -1.27728869e+00,\n",
       "         3.38296018e-01],\n",
       "       [-3.09028361e-01, -2.86002585e-01,  2.67857225e-01,\n",
       "        -9.38907663e-01],\n",
       "       [ 5.64368845e-01, -2.19497617e-01, -3.08739098e-01,\n",
       "         1.51390990e+00],\n",
       "       [ 6.76787079e-01, -1.67924585e-01, -5.85467554e-01,\n",
       "         1.55015457e-01],\n",
       "       [ 5.17175840e-01, -9.75075601e-02, -7.85222054e-01,\n",
       "        -8.92825693e-01],\n",
       "       [ 7.58630238e-01, -3.23249775e-03,  6.27226431e-01,\n",
       "        -9.86560609e-01],\n",
       "       [ 6.81701144e-01,  1.12476229e-01, -1.31790072e+00,\n",
       "         1.71342388e+00],\n",
       "       [ 4.58566622e-01,  1.87025708e-01,  1.04565848e-03,\n",
       "         7.01827400e-02],\n",
       "       [ 5.47846799e-01,  2.90667667e-01, -1.56680117e-01,\n",
       "         4.47740695e-01],\n",
       "       [ 6.83067494e-01,  3.81140872e-01, -2.63404743e-01,\n",
       "         6.38876138e-01],\n",
       "       [ 6.49549973e-01,  4.66930627e-01,  6.55560403e-01,\n",
       "        -9.84465974e-01],\n",
       "       [ 9.47905652e-01,  5.38945535e-01,  3.25469633e-01,\n",
       "         7.62459602e-01],\n",
       "       [ 4.94720959e-01,  6.25065887e-01, -8.77779694e-01,\n",
       "         3.01639905e-01],\n",
       "       [ 9.38598891e-01,  7.35870767e-01,  2.00331299e+00,\n",
       "        -1.95899490e+00],\n",
       "       [ 8.02401376e-01,  8.07334680e-01,  6.51782540e-01,\n",
       "         9.64591877e-01],\n",
       "       [ 9.69491582e-01,  9.03538222e-01,  1.84700391e+00,\n",
       "        -5.58731413e-01],\n",
       "       [ 7.54597109e-01,  1.02525278e+00, -3.57885046e-02,\n",
       "         5.23783426e-02],\n",
       "       [ 4.86373040e-01,  1.12062983e+00,  1.32798626e-01,\n",
       "        -3.35016916e-02],\n",
       "       [ 4.29837318e-01,  1.20972555e+00,  9.44566913e-01,\n",
       "         3.50863828e-01],\n",
       "       [ 8.00597554e-01,  1.36659352e+00,  1.37949338e+00,\n",
       "        -1.12375920e+00],\n",
       "       [ 6.27172997e-01,  1.46687442e+00,  1.05506940e+00,\n",
       "        -1.26189290e-01],\n",
       "       [ 8.77754373e-01,  1.54726444e+00,  5.97475761e-01,\n",
       "         2.54656495e+00],\n",
       "       [ 5.66873820e-01,  1.67999888e+00,  1.64536048e+00,\n",
       "        -1.12050503e-01],\n",
       "       [ 2.21031491e-01,  1.79526681e+00,  5.68197324e-01,\n",
       "         1.31649055e+00],\n",
       "       [ 7.66456786e-01,  1.89494161e+00,  1.25765730e+00,\n",
       "         5.24194872e-01]])"
      ]
     },
     "execution_count": 6,
     "metadata": {},
     "output_type": "execute_result"
    }
   ],
   "source": [
    "#Transforming the variables into the standadized form.\n",
    "X = scaledX.fit_transform(X)\n",
    "y = scaledy.fit_transform(y)\n",
    "X"
   ]
  },
  {
   "cell_type": "code",
   "execution_count": 7,
   "metadata": {},
   "outputs": [
    {
     "data": {
      "text/plain": [
       "array([-1.72423835, -1.0470788 , -0.88461342, -2.09853405, -1.13119763,\n",
       "       -0.70471098, -0.65324156, -0.63550385, -1.96529079, -0.77061107,\n",
       "       -0.68631186, -1.05964552, -0.19651061, -1.35793965,  0.07226076,\n",
       "       -0.87583476, -0.36204251, -0.37719472, -0.08491337, -0.10926514,\n",
       "        0.00702207,  0.05644714, -0.27744266,  0.20754836,  0.8924644 ,\n",
       "        0.42436929,  0.46796197,  0.52857081,  0.6262184 ,  1.04542958,\n",
       "        0.59904062,  0.38191905, -0.51254245,  0.80942787,  1.29465941,\n",
       "        1.19827451,  1.90237132,  1.5057682 ,  1.50029657,  1.16105539,\n",
       "        1.31143507,  1.52212297])"
      ]
     },
     "execution_count": 7,
     "metadata": {},
     "output_type": "execute_result"
    }
   ],
   "source": [
    "y = y.ravel()\n",
    "y"
   ]
  },
  {
   "cell_type": "code",
   "execution_count": 8,
   "metadata": {},
   "outputs": [],
   "source": [
    "from sklearn.model_selection import train_test_split"
   ]
  },
  {
   "cell_type": "code",
   "execution_count": 9,
   "metadata": {},
   "outputs": [],
   "source": [
    "X_train, X_test, y_train, y_test = train_test_split(X, y, test_size=0.25, train_size=0.75, random_state = 10)"
   ]
  },
  {
   "cell_type": "code",
   "execution_count": 10,
   "metadata": {},
   "outputs": [],
   "source": [
    "gamma_values = [0.01]  # You can adjust these values according to your needs"
   ]
  },
  {
   "cell_type": "code",
   "execution_count": 11,
   "metadata": {},
   "outputs": [],
   "source": [
    "from sklearn.svm import SVR"
   ]
  },
  {
   "cell_type": "code",
   "execution_count": 12,
   "metadata": {},
   "outputs": [],
   "source": [
    "for gamma in gamma_values:\n",
    "    svr_model = SVR(kernel='rbf', gamma=gamma)  # Using 'rbf' kernel with specified gamma\n",
    "    svr_model.fit(X_train, y_train)"
   ]
  },
  {
   "cell_type": "code",
   "execution_count": 13,
   "metadata": {},
   "outputs": [
    {
     "data": {
      "text/plain": [
       "array([ 0.68775279, -0.03473466,  0.35528105, -0.41946944,  0.7033092 ,\n",
       "        0.12291534, -1.09192729, -0.25008342, -0.13220112,  0.05614562,\n",
       "       -0.73677638])"
      ]
     },
     "execution_count": 13,
     "metadata": {},
     "output_type": "execute_result"
    }
   ],
   "source": [
    "y_predict = svr_model.predict(X_test)\n",
    "y_predict"
   ]
  },
  {
   "cell_type": "code",
   "execution_count": 14,
   "metadata": {},
   "outputs": [
    {
     "data": {
      "text/plain": [
       "array([[ 0.68775279],\n",
       "       [-0.03473466],\n",
       "       [ 0.35528105],\n",
       "       [-0.41946944],\n",
       "       [ 0.7033092 ],\n",
       "       [ 0.12291534],\n",
       "       [-1.09192729],\n",
       "       [-0.25008342],\n",
       "       [-0.13220112],\n",
       "       [ 0.05614562],\n",
       "       [-0.73677638]])"
      ]
     },
     "execution_count": 14,
     "metadata": {},
     "output_type": "execute_result"
    }
   ],
   "source": [
    "y_predict= y_predict.reshape(-1,1)\n",
    "y_predict"
   ]
  },
  {
   "cell_type": "code",
   "execution_count": 15,
   "metadata": {},
   "outputs": [
    {
     "data": {
      "text/plain": [
       "array([[97232.39303736],\n",
       "       [85216.53399672],\n",
       "       [91702.97722656],\n",
       "       [78817.91920124],\n",
       "       [97491.11531128],\n",
       "       [87838.44821554],\n",
       "       [67634.11428254],\n",
       "       [81635.01797617],\n",
       "       [83595.54623516],\n",
       "       [86727.98540364],\n",
       "       [73540.71267699]])"
      ]
     },
     "execution_count": 15,
     "metadata": {},
     "output_type": "execute_result"
    }
   ],
   "source": [
    "y_pred=scaledy.inverse_transform(y_predict)\n",
    "y_pred"
   ]
  },
  {
   "cell_type": "code",
   "execution_count": 16,
   "metadata": {},
   "outputs": [
    {
     "data": {
      "text/plain": [
       "0.7451384534502385"
      ]
     },
     "execution_count": 16,
     "metadata": {},
     "output_type": "execute_result"
    }
   ],
   "source": [
    "from sklearn.metrics import r2_score\n",
    "r2 = r2_score(y_test, y_predict)\n",
    "r2"
   ]
  },
  {
   "cell_type": "code",
   "execution_count": 17,
   "metadata": {},
   "outputs": [
    {
     "data": {
      "text/plain": [
       "array([-0.0865592])"
      ]
     },
     "execution_count": 17,
     "metadata": {},
     "output_type": "execute_result"
    }
   ],
   "source": [
    "intercept = svr_model.intercept_\n",
    "intercept"
   ]
  },
  {
   "cell_type": "code",
   "execution_count": 18,
   "metadata": {},
   "outputs": [],
   "source": [
    "from sklearn.metrics import mean_absolute_error as mae"
   ]
  },
  {
   "cell_type": "code",
   "execution_count": 19,
   "metadata": {},
   "outputs": [
    {
     "name": "stdout",
     "output_type": "stream",
     "text": [
      "Mean absolute error : 0.17143042806522787\n"
     ]
    }
   ],
   "source": [
    "error = mae(y_test, y_predict)\n",
    "print(\"Mean absolute error : \" + str(error))"
   ]
  },
  {
   "cell_type": "code",
   "execution_count": 20,
   "metadata": {
    "scrolled": true
   },
   "outputs": [
    {
     "name": "stdout",
     "output_type": "stream",
     "text": [
      "Mean Square Error : 0.04924353448533301\n"
     ]
    }
   ],
   "source": [
    "from sklearn.metrics import mean_squared_error\n",
    "mse = mean_squared_error(y_test, y_predict)\n",
    "print( \"Mean Square Error :\", mse)"
   ]
  },
  {
   "cell_type": "code",
   "execution_count": 21,
   "metadata": {},
   "outputs": [
    {
     "name": "stdout",
     "output_type": "stream",
     "text": [
      "\n",
      "RMSE:  0.222\n"
     ]
    }
   ],
   "source": [
    "# RMSE (Root Mean Square Error)\n",
    "rmse = float(format(np.sqrt(mean_squared_error(y_test, y_predict)), '.3f'))\n",
    "print(\"\\nRMSE: \", rmse)"
   ]
  },
  {
   "cell_type": "markdown",
   "metadata": {},
   "source": [
    "### SUPPORT VECTOR REGRESSION FOR RICE YIELD"
   ]
  },
  {
   "cell_type": "code",
   "execution_count": 22,
   "metadata": {},
   "outputs": [
    {
     "data": {
      "text/plain": [
       "array([[8.940310e+05, 2.713570e+03, 4.030500e+03, 5.922000e+02],\n",
       "       [8.940310e+05, 2.723250e+03, 4.784500e+03, 6.293000e+02],\n",
       "       [8.510000e+05, 2.734780e+03, 4.563000e+03, 6.810000e+02],\n",
       "       [9.574400e+05, 2.748520e+03, 4.722500e+03, 9.410000e+02],\n",
       "       [8.002680e+05, 2.761060e+03, 4.546800e+03, 9.820000e+02],\n",
       "       [9.674170e+05, 2.773180e+03, 4.747400e+03, 6.544000e+02],\n",
       "       [1.014520e+06, 2.783230e+03, 4.689800e+03, 4.707000e+02],\n",
       "       [1.277547e+06, 2.797010e+03, 4.622600e+03, 5.948000e+02],\n",
       "       [1.063344e+06, 2.815860e+03, 4.525900e+03, 5.231000e+02],\n",
       "       [1.260174e+06, 2.827570e+03, 4.573100e+03, 1.060100e+03],\n",
       "       [1.279369e+06, 2.836930e+03, 4.663600e+03, 7.700000e+02],\n",
       "       [1.147922e+06, 2.848460e+03, 4.877400e+03, 5.254000e+02],\n",
       "       [1.106325e+06, 2.854980e+03, 4.273000e+03, 6.694000e+02],\n",
       "       [1.252046e+06, 2.859600e+03, 4.590500e+03, 9.044000e+02],\n",
       "       [1.273503e+06, 2.873380e+03, 4.634500e+03, 8.351000e+02],\n",
       "       [1.217411e+06, 2.890150e+03, 4.784200e+03, 7.181000e+02],\n",
       "       [1.319156e+06, 2.903960e+03, 4.425300e+03, 1.057600e+03],\n",
       "       [1.276186e+06, 2.911980e+03, 4.425000e+03, 8.510000e+02],\n",
       "       [1.189550e+06, 2.937650e+03, 4.752200e+03, 6.071000e+02],\n",
       "       [1.335292e+06, 2.949720e+03, 4.630100e+03, 1.075500e+03],\n",
       "       [1.354051e+06, 2.959080e+03, 4.571500e+03, 8.160000e+02],\n",
       "       [1.327417e+06, 2.971860e+03, 4.529200e+03, 6.159000e+02],\n",
       "       [1.367708e+06, 2.988970e+03, 4.828300e+03, 5.980000e+02],\n",
       "       [1.354871e+06, 3.009970e+03, 4.416400e+03, 1.113600e+03],\n",
       "       [1.317637e+06, 3.023500e+03, 4.695700e+03, 7.998000e+02],\n",
       "       [1.332535e+06, 3.042310e+03, 4.662300e+03, 8.719000e+02],\n",
       "       [1.355099e+06, 3.058730e+03, 4.639700e+03, 9.084000e+02],\n",
       "       [1.349506e+06, 3.074300e+03, 4.834300e+03, 5.984000e+02],\n",
       "       [1.399292e+06, 3.087370e+03, 4.764400e+03, 9.320000e+02],\n",
       "       [1.323670e+06, 3.103000e+03, 4.509600e+03, 8.440000e+02],\n",
       "       [1.397739e+06, 3.123110e+03, 5.119700e+03, 4.123000e+02],\n",
       "       [1.375012e+06, 3.136080e+03, 4.833500e+03, 9.706000e+02],\n",
       "       [1.402894e+06, 3.153540e+03, 5.086600e+03, 6.797000e+02],\n",
       "       [1.367035e+06, 3.175630e+03, 4.687900e+03, 7.964000e+02],\n",
       "       [1.322277e+06, 3.192940e+03, 4.723600e+03, 7.800000e+02],\n",
       "       [1.312843e+06, 3.209110e+03, 4.895500e+03, 8.534000e+02],\n",
       "       [1.374711e+06, 3.237580e+03, 4.987600e+03, 5.718000e+02],\n",
       "       [1.345772e+06, 3.255780e+03, 4.918900e+03, 7.623000e+02],\n",
       "       [1.387586e+06, 3.270370e+03, 4.822000e+03, 1.272700e+03],\n",
       "       [1.335710e+06, 3.294460e+03, 5.043900e+03, 7.650000e+02],\n",
       "       [1.278000e+06, 3.315380e+03, 4.815800e+03, 1.037800e+03],\n",
       "       [1.369014e+06, 3.333470e+03, 4.961800e+03, 8.865000e+02]])"
      ]
     },
     "execution_count": 22,
     "metadata": {},
     "output_type": "execute_result"
    }
   ],
   "source": [
    "# Filtering the independent variables (X) and the dependent variable (y)\n",
    "X = df[[\"solar_rad\", \"co2\", \"temp\", \"precip\"]].values.astype(float)\n",
    "y = df[[\"rice_yield\"]].values.astype(float)\n",
    "X"
   ]
  },
  {
   "cell_type": "code",
   "execution_count": 23,
   "metadata": {},
   "outputs": [],
   "source": [
    "from sklearn.preprocessing import StandardScaler"
   ]
  },
  {
   "cell_type": "code",
   "execution_count": 24,
   "metadata": {},
   "outputs": [],
   "source": [
    "#Scaling or Standardizing the two variables for better analysis by calling the standardscaler() function from sklearn\n",
    "scaledX = StandardScaler()\n",
    "scaledy = StandardScaler()"
   ]
  },
  {
   "cell_type": "code",
   "execution_count": 25,
   "metadata": {},
   "outputs": [
    {
     "data": {
      "text/plain": [
       "array([[-2.08000357e+00, -1.52066980e+00, -3.14024733e+00,\n",
       "        -1.01693282e+00],\n",
       "       [-2.08000357e+00, -1.46733358e+00,  4.20388438e-01,\n",
       "        -8.22655421e-01],\n",
       "       [-2.33787814e+00, -1.40380398e+00, -6.25607347e-01,\n",
       "        -5.51923850e-01],\n",
       "       [-1.70000849e+00, -1.32809742e+00,  1.27604065e-01,\n",
       "         8.09588889e-01],\n",
       "       [-2.64190297e+00, -1.25900278e+00, -7.02109070e-01,\n",
       "         1.02428897e+00],\n",
       "       [-1.64021869e+00, -1.19222231e+00,  2.45190047e-01,\n",
       "        -6.91217076e-01],\n",
       "       [-1.35794160e+00, -1.13684742e+00, -2.68160803e-02,\n",
       "        -1.65317819e+00],\n",
       "       [ 2.18316769e-01, -1.06092046e+00, -3.44156562e-01,\n",
       "        -1.00331769e+00],\n",
       "       [-1.06535096e+00, -9.57058099e-01, -8.00805738e-01,\n",
       "        -1.37878101e+00],\n",
       "       [ 1.14204505e-01, -8.92536709e-01, -5.77911828e-01,\n",
       "         1.43326645e+00],\n",
       "       [ 2.29235583e-01, -8.40963677e-01, -1.50541090e-01,\n",
       "        -8.58675662e-02],\n",
       "       [-5.58495082e-01, -7.77434076e-01,  8.59092766e-01,\n",
       "        -1.36673686e+00],\n",
       "       [-8.07776028e-01, -7.41509272e-01, -1.99508264e+00,\n",
       "        -6.12668264e-01],\n",
       "       [ 6.54953305e-02, -7.16053352e-01, -4.95743311e-01,\n",
       "         6.17929788e-01],\n",
       "       [ 1.94082037e-01, -6.40126388e-01, -2.87960852e-01,\n",
       "         2.55034277e-01],\n",
       "       [-1.42064002e-01, -5.47724705e-01,  4.18971740e-01,\n",
       "        -3.57646455e-01],\n",
       "       [ 4.67669628e-01, -4.71632442e-01, -1.27587200e+00,\n",
       "         1.42017499e+00],\n",
       "       [ 2.10160620e-01, -4.27442729e-01, -1.27728869e+00,\n",
       "         3.38296018e-01],\n",
       "       [-3.09028361e-01, -2.86002585e-01,  2.67857225e-01,\n",
       "        -9.38907663e-01],\n",
       "       [ 5.64368845e-01, -2.19497617e-01, -3.08739098e-01,\n",
       "         1.51390990e+00],\n",
       "       [ 6.76787079e-01, -1.67924585e-01, -5.85467554e-01,\n",
       "         1.55015457e-01],\n",
       "       [ 5.17175840e-01, -9.75075601e-02, -7.85222054e-01,\n",
       "        -8.92825693e-01],\n",
       "       [ 7.58630238e-01, -3.23249775e-03,  6.27226431e-01,\n",
       "        -9.86560609e-01],\n",
       "       [ 6.81701144e-01,  1.12476229e-01, -1.31790072e+00,\n",
       "         1.71342388e+00],\n",
       "       [ 4.58566622e-01,  1.87025708e-01,  1.04565848e-03,\n",
       "         7.01827400e-02],\n",
       "       [ 5.47846799e-01,  2.90667667e-01, -1.56680117e-01,\n",
       "         4.47740695e-01],\n",
       "       [ 6.83067494e-01,  3.81140872e-01, -2.63404743e-01,\n",
       "         6.38876138e-01],\n",
       "       [ 6.49549973e-01,  4.66930627e-01,  6.55560403e-01,\n",
       "        -9.84465974e-01],\n",
       "       [ 9.47905652e-01,  5.38945535e-01,  3.25469633e-01,\n",
       "         7.62459602e-01],\n",
       "       [ 4.94720959e-01,  6.25065887e-01, -8.77779694e-01,\n",
       "         3.01639905e-01],\n",
       "       [ 9.38598891e-01,  7.35870767e-01,  2.00331299e+00,\n",
       "        -1.95899490e+00],\n",
       "       [ 8.02401376e-01,  8.07334680e-01,  6.51782540e-01,\n",
       "         9.64591877e-01],\n",
       "       [ 9.69491582e-01,  9.03538222e-01,  1.84700391e+00,\n",
       "        -5.58731413e-01],\n",
       "       [ 7.54597109e-01,  1.02525278e+00, -3.57885046e-02,\n",
       "         5.23783426e-02],\n",
       "       [ 4.86373040e-01,  1.12062983e+00,  1.32798626e-01,\n",
       "        -3.35016916e-02],\n",
       "       [ 4.29837318e-01,  1.20972555e+00,  9.44566913e-01,\n",
       "         3.50863828e-01],\n",
       "       [ 8.00597554e-01,  1.36659352e+00,  1.37949338e+00,\n",
       "        -1.12375920e+00],\n",
       "       [ 6.27172997e-01,  1.46687442e+00,  1.05506940e+00,\n",
       "        -1.26189290e-01],\n",
       "       [ 8.77754373e-01,  1.54726444e+00,  5.97475761e-01,\n",
       "         2.54656495e+00],\n",
       "       [ 5.66873820e-01,  1.67999888e+00,  1.64536048e+00,\n",
       "        -1.12050503e-01],\n",
       "       [ 2.21031491e-01,  1.79526681e+00,  5.68197324e-01,\n",
       "         1.31649055e+00],\n",
       "       [ 7.66456786e-01,  1.89494161e+00,  1.25765730e+00,\n",
       "         5.24194872e-01]])"
      ]
     },
     "execution_count": 25,
     "metadata": {},
     "output_type": "execute_result"
    }
   ],
   "source": [
    "#Transforming the variables into the standadized form.\n",
    "X = scaledX.fit_transform(X)\n",
    "y = scaledy.fit_transform(y)\n",
    "X"
   ]
  },
  {
   "cell_type": "code",
   "execution_count": 26,
   "metadata": {},
   "outputs": [
    {
     "data": {
      "text/plain": [
       "array([-2.01135204, -1.58549599, -1.69995532, -1.8176876 , -1.4444791 ,\n",
       "       -0.9599907 , -0.71349168, -0.81345657, -0.85740745, -0.60819657,\n",
       "       -0.84113628, -0.63017201, -0.62428072, -0.86096093, -0.38516919,\n",
       "       -0.74463135, -0.22227037, -0.45549061, -0.70105451, -0.48784595,\n",
       "       -0.05357377,  0.17179142,  0.25810348,  0.35432787,  0.68807408,\n",
       "        0.30626243,  0.59315887,  0.93017801,  0.53873457,  0.78953517,\n",
       "        0.41193159,  0.77045862,  1.18584126,  1.42719709,  1.30441515,\n",
       "        1.19248065,  0.94925457,  1.23222348,  1.42542036,  1.19594061,\n",
       "        1.34948818,  1.44328125])"
      ]
     },
     "execution_count": 26,
     "metadata": {},
     "output_type": "execute_result"
    }
   ],
   "source": [
    "y=y.ravel()\n",
    "y"
   ]
  },
  {
   "cell_type": "code",
   "execution_count": 27,
   "metadata": {},
   "outputs": [],
   "source": [
    "from sklearn.model_selection import train_test_split"
   ]
  },
  {
   "cell_type": "code",
   "execution_count": 28,
   "metadata": {},
   "outputs": [],
   "source": [
    "X_train, X_test, y_train, y_test = train_test_split(X, y, test_size=0.25, train_size=0.75, random_state = 10)"
   ]
  },
  {
   "cell_type": "code",
   "execution_count": 29,
   "metadata": {},
   "outputs": [],
   "source": [
    "gamma_values = [0.01]  # You can adjust these values according to your needs"
   ]
  },
  {
   "cell_type": "code",
   "execution_count": 30,
   "metadata": {},
   "outputs": [],
   "source": [
    "from sklearn.svm import SVR"
   ]
  },
  {
   "cell_type": "code",
   "execution_count": 31,
   "metadata": {},
   "outputs": [],
   "source": [
    "for gamma in gamma_values:\n",
    "    svr_model = SVR(kernel='rbf', gamma=gamma)  # Using 'rbf' kernel with specified gamma\n",
    "    svr_model.fit(X_train, y_train)"
   ]
  },
  {
   "cell_type": "code",
   "execution_count": 32,
   "metadata": {},
   "outputs": [
    {
     "data": {
      "text/plain": [
       "array([ 0.83656401, -0.02301362,  0.34609402, -0.42381786,  0.71901725,\n",
       "        0.0560499 , -1.24487732, -0.30851873, -0.13828825,  0.04604132,\n",
       "       -0.83272057])"
      ]
     },
     "execution_count": 32,
     "metadata": {},
     "output_type": "execute_result"
    }
   ],
   "source": [
    "y_predict = svr_model.predict(X_test)\n",
    "y_predict"
   ]
  },
  {
   "cell_type": "code",
   "execution_count": 33,
   "metadata": {},
   "outputs": [
    {
     "data": {
      "text/plain": [
       "0.7972938493642707"
      ]
     },
     "execution_count": 33,
     "metadata": {},
     "output_type": "execute_result"
    }
   ],
   "source": [
    "from sklearn.metrics import r2_score\n",
    "from sklearn.metrics import mean_absolute_error\n",
    "r2 = r2_score(y_test, y_predict)\n",
    "r2"
   ]
  },
  {
   "cell_type": "code",
   "execution_count": 34,
   "metadata": {},
   "outputs": [
    {
     "name": "stdout",
     "output_type": "stream",
     "text": [
      "Mean absolute error: 0.27988467524389227\n"
     ]
    }
   ],
   "source": [
    "error=mean_absolute_error(y_test, y_predict)\n",
    "print('Mean absolute error:', error)"
   ]
  },
  {
   "cell_type": "code",
   "execution_count": 35,
   "metadata": {},
   "outputs": [
    {
     "name": "stdout",
     "output_type": "stream",
     "text": [
      "Mean Square Error : 0.10195544829218291\n"
     ]
    }
   ],
   "source": [
    "from sklearn.metrics import mean_squared_error\n",
    "mse = mean_squared_error(y_test, y_predict)\n",
    "print( \"Mean Square Error :\", mse)"
   ]
  },
  {
   "cell_type": "code",
   "execution_count": 36,
   "metadata": {},
   "outputs": [
    {
     "name": "stdout",
     "output_type": "stream",
     "text": [
      "\n",
      "RMSE:  0.319\n"
     ]
    }
   ],
   "source": [
    "# RMSE (Root Mean Square Error)\n",
    "rmse = float(format(np.sqrt(mean_squared_error(y_test, y_predict)), '.3f'))\n",
    "print(\"\\nRMSE: \", rmse)"
   ]
  },
  {
   "cell_type": "markdown",
   "metadata": {},
   "source": [
    "## SUPPORT VECTOR REGRESSION FOR WHEAT YIELD"
   ]
  },
  {
   "cell_type": "code",
   "execution_count": 37,
   "metadata": {},
   "outputs": [
    {
     "data": {
      "text/plain": [
       "array([[8.940310e+05, 2.713570e+03, 4.030500e+03, 5.922000e+02],\n",
       "       [8.940310e+05, 2.723250e+03, 4.784500e+03, 6.293000e+02],\n",
       "       [8.510000e+05, 2.734780e+03, 4.563000e+03, 6.810000e+02],\n",
       "       [9.574400e+05, 2.748520e+03, 4.722500e+03, 9.410000e+02],\n",
       "       [8.002680e+05, 2.761060e+03, 4.546800e+03, 9.820000e+02],\n",
       "       [9.674170e+05, 2.773180e+03, 4.747400e+03, 6.544000e+02],\n",
       "       [1.014520e+06, 2.783230e+03, 4.689800e+03, 4.707000e+02],\n",
       "       [1.277547e+06, 2.797010e+03, 4.622600e+03, 5.948000e+02],\n",
       "       [1.063344e+06, 2.815860e+03, 4.525900e+03, 5.231000e+02],\n",
       "       [1.260174e+06, 2.827570e+03, 4.573100e+03, 1.060100e+03],\n",
       "       [1.279369e+06, 2.836930e+03, 4.663600e+03, 7.700000e+02],\n",
       "       [1.147922e+06, 2.848460e+03, 4.877400e+03, 5.254000e+02],\n",
       "       [1.106325e+06, 2.854980e+03, 4.273000e+03, 6.694000e+02],\n",
       "       [1.252046e+06, 2.859600e+03, 4.590500e+03, 9.044000e+02],\n",
       "       [1.273503e+06, 2.873380e+03, 4.634500e+03, 8.351000e+02],\n",
       "       [1.217411e+06, 2.890150e+03, 4.784200e+03, 7.181000e+02],\n",
       "       [1.319156e+06, 2.903960e+03, 4.425300e+03, 1.057600e+03],\n",
       "       [1.276186e+06, 2.911980e+03, 4.425000e+03, 8.510000e+02],\n",
       "       [1.189550e+06, 2.937650e+03, 4.752200e+03, 6.071000e+02],\n",
       "       [1.335292e+06, 2.949720e+03, 4.630100e+03, 1.075500e+03],\n",
       "       [1.354051e+06, 2.959080e+03, 4.571500e+03, 8.160000e+02],\n",
       "       [1.327417e+06, 2.971860e+03, 4.529200e+03, 6.159000e+02],\n",
       "       [1.367708e+06, 2.988970e+03, 4.828300e+03, 5.980000e+02],\n",
       "       [1.354871e+06, 3.009970e+03, 4.416400e+03, 1.113600e+03],\n",
       "       [1.317637e+06, 3.023500e+03, 4.695700e+03, 7.998000e+02],\n",
       "       [1.332535e+06, 3.042310e+03, 4.662300e+03, 8.719000e+02],\n",
       "       [1.355099e+06, 3.058730e+03, 4.639700e+03, 9.084000e+02],\n",
       "       [1.349506e+06, 3.074300e+03, 4.834300e+03, 5.984000e+02],\n",
       "       [1.399292e+06, 3.087370e+03, 4.764400e+03, 9.320000e+02],\n",
       "       [1.323670e+06, 3.103000e+03, 4.509600e+03, 8.440000e+02],\n",
       "       [1.397739e+06, 3.123110e+03, 5.119700e+03, 4.123000e+02],\n",
       "       [1.375012e+06, 3.136080e+03, 4.833500e+03, 9.706000e+02],\n",
       "       [1.402894e+06, 3.153540e+03, 5.086600e+03, 6.797000e+02],\n",
       "       [1.367035e+06, 3.175630e+03, 4.687900e+03, 7.964000e+02],\n",
       "       [1.322277e+06, 3.192940e+03, 4.723600e+03, 7.800000e+02],\n",
       "       [1.312843e+06, 3.209110e+03, 4.895500e+03, 8.534000e+02],\n",
       "       [1.374711e+06, 3.237580e+03, 4.987600e+03, 5.718000e+02],\n",
       "       [1.345772e+06, 3.255780e+03, 4.918900e+03, 7.623000e+02],\n",
       "       [1.387586e+06, 3.270370e+03, 4.822000e+03, 1.272700e+03],\n",
       "       [1.335710e+06, 3.294460e+03, 5.043900e+03, 7.650000e+02],\n",
       "       [1.278000e+06, 3.315380e+03, 4.815800e+03, 1.037800e+03],\n",
       "       [1.369014e+06, 3.333470e+03, 4.961800e+03, 8.865000e+02]])"
      ]
     },
     "execution_count": 37,
     "metadata": {},
     "output_type": "execute_result"
    }
   ],
   "source": [
    "# Filtering the independent variables (X) and the dependent variable (y)\n",
    "X = df[[\"solar_rad\", \"co2\", \"temp\", \"precip\"]].values.astype(float)\n",
    "y = df[[\"wheat_yield\"]].values.astype(float)\n",
    "X"
   ]
  },
  {
   "cell_type": "code",
   "execution_count": 38,
   "metadata": {},
   "outputs": [],
   "source": [
    "from sklearn.preprocessing import StandardScaler"
   ]
  },
  {
   "cell_type": "code",
   "execution_count": 39,
   "metadata": {},
   "outputs": [],
   "source": [
    "#Scaling or Standardizing the two variables for better analysis by calling the standardscaler() function from sklearn\n",
    "scaledX = StandardScaler()\n",
    "scaledy = StandardScaler()"
   ]
  },
  {
   "cell_type": "code",
   "execution_count": 40,
   "metadata": {},
   "outputs": [
    {
     "data": {
      "text/plain": [
       "array([[-2.08000357e+00, -1.52066980e+00, -3.14024733e+00,\n",
       "        -1.01693282e+00],\n",
       "       [-2.08000357e+00, -1.46733358e+00,  4.20388438e-01,\n",
       "        -8.22655421e-01],\n",
       "       [-2.33787814e+00, -1.40380398e+00, -6.25607347e-01,\n",
       "        -5.51923850e-01],\n",
       "       [-1.70000849e+00, -1.32809742e+00,  1.27604065e-01,\n",
       "         8.09588889e-01],\n",
       "       [-2.64190297e+00, -1.25900278e+00, -7.02109070e-01,\n",
       "         1.02428897e+00],\n",
       "       [-1.64021869e+00, -1.19222231e+00,  2.45190047e-01,\n",
       "        -6.91217076e-01],\n",
       "       [-1.35794160e+00, -1.13684742e+00, -2.68160803e-02,\n",
       "        -1.65317819e+00],\n",
       "       [ 2.18316769e-01, -1.06092046e+00, -3.44156562e-01,\n",
       "        -1.00331769e+00],\n",
       "       [-1.06535096e+00, -9.57058099e-01, -8.00805738e-01,\n",
       "        -1.37878101e+00],\n",
       "       [ 1.14204505e-01, -8.92536709e-01, -5.77911828e-01,\n",
       "         1.43326645e+00],\n",
       "       [ 2.29235583e-01, -8.40963677e-01, -1.50541090e-01,\n",
       "        -8.58675662e-02],\n",
       "       [-5.58495082e-01, -7.77434076e-01,  8.59092766e-01,\n",
       "        -1.36673686e+00],\n",
       "       [-8.07776028e-01, -7.41509272e-01, -1.99508264e+00,\n",
       "        -6.12668264e-01],\n",
       "       [ 6.54953305e-02, -7.16053352e-01, -4.95743311e-01,\n",
       "         6.17929788e-01],\n",
       "       [ 1.94082037e-01, -6.40126388e-01, -2.87960852e-01,\n",
       "         2.55034277e-01],\n",
       "       [-1.42064002e-01, -5.47724705e-01,  4.18971740e-01,\n",
       "        -3.57646455e-01],\n",
       "       [ 4.67669628e-01, -4.71632442e-01, -1.27587200e+00,\n",
       "         1.42017499e+00],\n",
       "       [ 2.10160620e-01, -4.27442729e-01, -1.27728869e+00,\n",
       "         3.38296018e-01],\n",
       "       [-3.09028361e-01, -2.86002585e-01,  2.67857225e-01,\n",
       "        -9.38907663e-01],\n",
       "       [ 5.64368845e-01, -2.19497617e-01, -3.08739098e-01,\n",
       "         1.51390990e+00],\n",
       "       [ 6.76787079e-01, -1.67924585e-01, -5.85467554e-01,\n",
       "         1.55015457e-01],\n",
       "       [ 5.17175840e-01, -9.75075601e-02, -7.85222054e-01,\n",
       "        -8.92825693e-01],\n",
       "       [ 7.58630238e-01, -3.23249775e-03,  6.27226431e-01,\n",
       "        -9.86560609e-01],\n",
       "       [ 6.81701144e-01,  1.12476229e-01, -1.31790072e+00,\n",
       "         1.71342388e+00],\n",
       "       [ 4.58566622e-01,  1.87025708e-01,  1.04565848e-03,\n",
       "         7.01827400e-02],\n",
       "       [ 5.47846799e-01,  2.90667667e-01, -1.56680117e-01,\n",
       "         4.47740695e-01],\n",
       "       [ 6.83067494e-01,  3.81140872e-01, -2.63404743e-01,\n",
       "         6.38876138e-01],\n",
       "       [ 6.49549973e-01,  4.66930627e-01,  6.55560403e-01,\n",
       "        -9.84465974e-01],\n",
       "       [ 9.47905652e-01,  5.38945535e-01,  3.25469633e-01,\n",
       "         7.62459602e-01],\n",
       "       [ 4.94720959e-01,  6.25065887e-01, -8.77779694e-01,\n",
       "         3.01639905e-01],\n",
       "       [ 9.38598891e-01,  7.35870767e-01,  2.00331299e+00,\n",
       "        -1.95899490e+00],\n",
       "       [ 8.02401376e-01,  8.07334680e-01,  6.51782540e-01,\n",
       "         9.64591877e-01],\n",
       "       [ 9.69491582e-01,  9.03538222e-01,  1.84700391e+00,\n",
       "        -5.58731413e-01],\n",
       "       [ 7.54597109e-01,  1.02525278e+00, -3.57885046e-02,\n",
       "         5.23783426e-02],\n",
       "       [ 4.86373040e-01,  1.12062983e+00,  1.32798626e-01,\n",
       "        -3.35016916e-02],\n",
       "       [ 4.29837318e-01,  1.20972555e+00,  9.44566913e-01,\n",
       "         3.50863828e-01],\n",
       "       [ 8.00597554e-01,  1.36659352e+00,  1.37949338e+00,\n",
       "        -1.12375920e+00],\n",
       "       [ 6.27172997e-01,  1.46687442e+00,  1.05506940e+00,\n",
       "        -1.26189290e-01],\n",
       "       [ 8.77754373e-01,  1.54726444e+00,  5.97475761e-01,\n",
       "         2.54656495e+00],\n",
       "       [ 5.66873820e-01,  1.67999888e+00,  1.64536048e+00,\n",
       "        -1.12050503e-01],\n",
       "       [ 2.21031491e-01,  1.79526681e+00,  5.68197324e-01,\n",
       "         1.31649055e+00],\n",
       "       [ 7.66456786e-01,  1.89494161e+00,  1.25765730e+00,\n",
       "         5.24194872e-01]])"
      ]
     },
     "execution_count": 40,
     "metadata": {},
     "output_type": "execute_result"
    }
   ],
   "source": [
    "#Transforming the variables into the standadized form.\n",
    "X = scaledX.fit_transform(X)\n",
    "y = scaledy.fit_transform(y)\n",
    "X"
   ]
  },
  {
   "cell_type": "code",
   "execution_count": 41,
   "metadata": {},
   "outputs": [
    {
     "data": {
      "text/plain": [
       "array([-1.49968789, -1.28754397, -1.10088103, -0.31571151, -0.44489412,\n",
       "       -0.7044445 , -1.30591398, -0.66503788, -1.38117173, -1.64457389,\n",
       "       -0.29852667, -1.34413544, -0.33822958, -0.55570672, -0.6828153 ,\n",
       "       -1.03984521, -0.94384713, -0.29645264,  0.43242171,  0.34116427,\n",
       "        0.19657456, -0.16489971, -1.18739782,  0.63330659,  0.43005138,\n",
       "        0.19450053, -0.47067138, -0.15660358,  0.77048903,  0.68812031,\n",
       "        1.0644091 ,  0.54738238,  1.06055732,  1.21433203,  0.5343456 ,\n",
       "        0.51093866,  2.32097661,  1.06677942,  1.31270044,  2.12483238,\n",
       "        1.73106246,  0.65404691])"
      ]
     },
     "execution_count": 41,
     "metadata": {},
     "output_type": "execute_result"
    }
   ],
   "source": [
    "y=y.ravel()\n",
    "y"
   ]
  },
  {
   "cell_type": "code",
   "execution_count": 42,
   "metadata": {},
   "outputs": [],
   "source": [
    "from sklearn.model_selection import train_test_split"
   ]
  },
  {
   "cell_type": "code",
   "execution_count": 43,
   "metadata": {},
   "outputs": [],
   "source": [
    "X_train, X_test, y_train, y_test = train_test_split(X, y, test_size=0.25, train_size=0.75, random_state = 10)"
   ]
  },
  {
   "cell_type": "code",
   "execution_count": 44,
   "metadata": {},
   "outputs": [],
   "source": [
    "gamma_values = [0.01]  # You can adjust these values according to your needs"
   ]
  },
  {
   "cell_type": "code",
   "execution_count": 45,
   "metadata": {},
   "outputs": [],
   "source": [
    "from sklearn.svm import SVR"
   ]
  },
  {
   "cell_type": "code",
   "execution_count": 46,
   "metadata": {},
   "outputs": [],
   "source": [
    "for gamma in gamma_values:\n",
    "    svr_model = SVR(kernel='rbf', gamma=gamma)  # Using 'rbf' kernel with specified gamma\n",
    "    svr_model.fit(X_train, y_train)"
   ]
  },
  {
   "cell_type": "code",
   "execution_count": 47,
   "metadata": {},
   "outputs": [
    {
     "data": {
      "text/plain": [
       "array([ 0.26389742, -0.21947967,  0.28924868, -0.49861249,  0.60757566,\n",
       "        0.24141877, -0.84158203, -0.20609117, -0.25014936, -0.00519012,\n",
       "       -0.68004248])"
      ]
     },
     "execution_count": 47,
     "metadata": {},
     "output_type": "execute_result"
    }
   ],
   "source": [
    "y_predict = svr_model.predict(X_test)\n",
    "y_predict"
   ]
  },
  {
   "cell_type": "code",
   "execution_count": 48,
   "metadata": {},
   "outputs": [
    {
     "data": {
      "text/plain": [
       "0.49424447979521"
      ]
     },
     "execution_count": 48,
     "metadata": {},
     "output_type": "execute_result"
    }
   ],
   "source": [
    "from sklearn.metrics import r2_score\n",
    "from sklearn.metrics import mean_absolute_error\n",
    "r2 = r2_score(y_test, y_predict)\n",
    "r2"
   ]
  },
  {
   "cell_type": "code",
   "execution_count": 49,
   "metadata": {},
   "outputs": [
    {
     "name": "stdout",
     "output_type": "stream",
     "text": [
      "Mean Absolute Error: 0.3463024826064814\n"
     ]
    }
   ],
   "source": [
    "mae = mean_absolute_error(y_test, y_predict)\n",
    "print(\"Mean Absolute Error:\", mae)"
   ]
  },
  {
   "cell_type": "code",
   "execution_count": 50,
   "metadata": {},
   "outputs": [
    {
     "name": "stdout",
     "output_type": "stream",
     "text": [
      "Mean Square Error : 0.19136569110960222\n"
     ]
    }
   ],
   "source": [
    "from sklearn.metrics import mean_squared_error\n",
    "mse = mean_squared_error(y_test, y_predict)\n",
    "print( \"Mean Square Error :\", mse)"
   ]
  },
  {
   "cell_type": "code",
   "execution_count": 51,
   "metadata": {},
   "outputs": [
    {
     "name": "stdout",
     "output_type": "stream",
     "text": [
      "\n",
      "RMSE:  0.437\n"
     ]
    }
   ],
   "source": [
    "# RMSE (Root Mean Square Error)\n",
    "rmse = float(format(np.sqrt(mean_squared_error(y_test, y_predict)), '.3f'))\n",
    "print(\"\\nRMSE: \", rmse)"
   ]
  },
  {
   "cell_type": "markdown",
   "metadata": {},
   "source": [
    "### SUPPORT VECTOR REGRESSION FOR POTATO YIELD"
   ]
  },
  {
   "cell_type": "code",
   "execution_count": 52,
   "metadata": {},
   "outputs": [
    {
     "data": {
      "text/plain": [
       "array([[8.940310e+05, 2.713570e+03, 4.030500e+03, 5.922000e+02],\n",
       "       [8.940310e+05, 2.723250e+03, 4.784500e+03, 6.293000e+02],\n",
       "       [8.510000e+05, 2.734780e+03, 4.563000e+03, 6.810000e+02],\n",
       "       [9.574400e+05, 2.748520e+03, 4.722500e+03, 9.410000e+02],\n",
       "       [8.002680e+05, 2.761060e+03, 4.546800e+03, 9.820000e+02],\n",
       "       [9.674170e+05, 2.773180e+03, 4.747400e+03, 6.544000e+02],\n",
       "       [1.014520e+06, 2.783230e+03, 4.689800e+03, 4.707000e+02],\n",
       "       [1.277547e+06, 2.797010e+03, 4.622600e+03, 5.948000e+02],\n",
       "       [1.063344e+06, 2.815860e+03, 4.525900e+03, 5.231000e+02],\n",
       "       [1.260174e+06, 2.827570e+03, 4.573100e+03, 1.060100e+03],\n",
       "       [1.279369e+06, 2.836930e+03, 4.663600e+03, 7.700000e+02],\n",
       "       [1.147922e+06, 2.848460e+03, 4.877400e+03, 5.254000e+02],\n",
       "       [1.106325e+06, 2.854980e+03, 4.273000e+03, 6.694000e+02],\n",
       "       [1.252046e+06, 2.859600e+03, 4.590500e+03, 9.044000e+02],\n",
       "       [1.273503e+06, 2.873380e+03, 4.634500e+03, 8.351000e+02],\n",
       "       [1.217411e+06, 2.890150e+03, 4.784200e+03, 7.181000e+02],\n",
       "       [1.319156e+06, 2.903960e+03, 4.425300e+03, 1.057600e+03],\n",
       "       [1.276186e+06, 2.911980e+03, 4.425000e+03, 8.510000e+02],\n",
       "       [1.189550e+06, 2.937650e+03, 4.752200e+03, 6.071000e+02],\n",
       "       [1.335292e+06, 2.949720e+03, 4.630100e+03, 1.075500e+03],\n",
       "       [1.354051e+06, 2.959080e+03, 4.571500e+03, 8.160000e+02],\n",
       "       [1.327417e+06, 2.971860e+03, 4.529200e+03, 6.159000e+02],\n",
       "       [1.367708e+06, 2.988970e+03, 4.828300e+03, 5.980000e+02],\n",
       "       [1.354871e+06, 3.009970e+03, 4.416400e+03, 1.113600e+03],\n",
       "       [1.317637e+06, 3.023500e+03, 4.695700e+03, 7.998000e+02],\n",
       "       [1.332535e+06, 3.042310e+03, 4.662300e+03, 8.719000e+02],\n",
       "       [1.355099e+06, 3.058730e+03, 4.639700e+03, 9.084000e+02],\n",
       "       [1.349506e+06, 3.074300e+03, 4.834300e+03, 5.984000e+02],\n",
       "       [1.399292e+06, 3.087370e+03, 4.764400e+03, 9.320000e+02],\n",
       "       [1.323670e+06, 3.103000e+03, 4.509600e+03, 8.440000e+02],\n",
       "       [1.397739e+06, 3.123110e+03, 5.119700e+03, 4.123000e+02],\n",
       "       [1.375012e+06, 3.136080e+03, 4.833500e+03, 9.706000e+02],\n",
       "       [1.402894e+06, 3.153540e+03, 5.086600e+03, 6.797000e+02],\n",
       "       [1.367035e+06, 3.175630e+03, 4.687900e+03, 7.964000e+02],\n",
       "       [1.322277e+06, 3.192940e+03, 4.723600e+03, 7.800000e+02],\n",
       "       [1.312843e+06, 3.209110e+03, 4.895500e+03, 8.534000e+02],\n",
       "       [1.374711e+06, 3.237580e+03, 4.987600e+03, 5.718000e+02],\n",
       "       [1.345772e+06, 3.255780e+03, 4.918900e+03, 7.623000e+02],\n",
       "       [1.387586e+06, 3.270370e+03, 4.822000e+03, 1.272700e+03],\n",
       "       [1.335710e+06, 3.294460e+03, 5.043900e+03, 7.650000e+02],\n",
       "       [1.278000e+06, 3.315380e+03, 4.815800e+03, 1.037800e+03],\n",
       "       [1.369014e+06, 3.333470e+03, 4.961800e+03, 8.865000e+02]])"
      ]
     },
     "execution_count": 52,
     "metadata": {},
     "output_type": "execute_result"
    }
   ],
   "source": [
    "# Filtering the independent variables (X) and the dependent variable (y)\n",
    "X = df[[\"solar_rad\", \"co2\", \"temp\", \"precip\"]].values.astype(float)\n",
    "y = df[[\"pot_yield\"]].values.astype(float)\n",
    "X"
   ]
  },
  {
   "cell_type": "code",
   "execution_count": 53,
   "metadata": {},
   "outputs": [],
   "source": [
    "from sklearn.preprocessing import StandardScaler"
   ]
  },
  {
   "cell_type": "code",
   "execution_count": 54,
   "metadata": {},
   "outputs": [],
   "source": [
    "#Scaling or Standardizing the two variables for better analysis by calling the standardscaler() function from sklearn\n",
    "scaledX = StandardScaler()\n",
    "scaledy = StandardScaler()"
   ]
  },
  {
   "cell_type": "code",
   "execution_count": 55,
   "metadata": {},
   "outputs": [
    {
     "data": {
      "text/plain": [
       "array([[-2.08000357e+00, -1.52066980e+00, -3.14024733e+00,\n",
       "        -1.01693282e+00],\n",
       "       [-2.08000357e+00, -1.46733358e+00,  4.20388438e-01,\n",
       "        -8.22655421e-01],\n",
       "       [-2.33787814e+00, -1.40380398e+00, -6.25607347e-01,\n",
       "        -5.51923850e-01],\n",
       "       [-1.70000849e+00, -1.32809742e+00,  1.27604065e-01,\n",
       "         8.09588889e-01],\n",
       "       [-2.64190297e+00, -1.25900278e+00, -7.02109070e-01,\n",
       "         1.02428897e+00],\n",
       "       [-1.64021869e+00, -1.19222231e+00,  2.45190047e-01,\n",
       "        -6.91217076e-01],\n",
       "       [-1.35794160e+00, -1.13684742e+00, -2.68160803e-02,\n",
       "        -1.65317819e+00],\n",
       "       [ 2.18316769e-01, -1.06092046e+00, -3.44156562e-01,\n",
       "        -1.00331769e+00],\n",
       "       [-1.06535096e+00, -9.57058099e-01, -8.00805738e-01,\n",
       "        -1.37878101e+00],\n",
       "       [ 1.14204505e-01, -8.92536709e-01, -5.77911828e-01,\n",
       "         1.43326645e+00],\n",
       "       [ 2.29235583e-01, -8.40963677e-01, -1.50541090e-01,\n",
       "        -8.58675662e-02],\n",
       "       [-5.58495082e-01, -7.77434076e-01,  8.59092766e-01,\n",
       "        -1.36673686e+00],\n",
       "       [-8.07776028e-01, -7.41509272e-01, -1.99508264e+00,\n",
       "        -6.12668264e-01],\n",
       "       [ 6.54953305e-02, -7.16053352e-01, -4.95743311e-01,\n",
       "         6.17929788e-01],\n",
       "       [ 1.94082037e-01, -6.40126388e-01, -2.87960852e-01,\n",
       "         2.55034277e-01],\n",
       "       [-1.42064002e-01, -5.47724705e-01,  4.18971740e-01,\n",
       "        -3.57646455e-01],\n",
       "       [ 4.67669628e-01, -4.71632442e-01, -1.27587200e+00,\n",
       "         1.42017499e+00],\n",
       "       [ 2.10160620e-01, -4.27442729e-01, -1.27728869e+00,\n",
       "         3.38296018e-01],\n",
       "       [-3.09028361e-01, -2.86002585e-01,  2.67857225e-01,\n",
       "        -9.38907663e-01],\n",
       "       [ 5.64368845e-01, -2.19497617e-01, -3.08739098e-01,\n",
       "         1.51390990e+00],\n",
       "       [ 6.76787079e-01, -1.67924585e-01, -5.85467554e-01,\n",
       "         1.55015457e-01],\n",
       "       [ 5.17175840e-01, -9.75075601e-02, -7.85222054e-01,\n",
       "        -8.92825693e-01],\n",
       "       [ 7.58630238e-01, -3.23249775e-03,  6.27226431e-01,\n",
       "        -9.86560609e-01],\n",
       "       [ 6.81701144e-01,  1.12476229e-01, -1.31790072e+00,\n",
       "         1.71342388e+00],\n",
       "       [ 4.58566622e-01,  1.87025708e-01,  1.04565848e-03,\n",
       "         7.01827400e-02],\n",
       "       [ 5.47846799e-01,  2.90667667e-01, -1.56680117e-01,\n",
       "         4.47740695e-01],\n",
       "       [ 6.83067494e-01,  3.81140872e-01, -2.63404743e-01,\n",
       "         6.38876138e-01],\n",
       "       [ 6.49549973e-01,  4.66930627e-01,  6.55560403e-01,\n",
       "        -9.84465974e-01],\n",
       "       [ 9.47905652e-01,  5.38945535e-01,  3.25469633e-01,\n",
       "         7.62459602e-01],\n",
       "       [ 4.94720959e-01,  6.25065887e-01, -8.77779694e-01,\n",
       "         3.01639905e-01],\n",
       "       [ 9.38598891e-01,  7.35870767e-01,  2.00331299e+00,\n",
       "        -1.95899490e+00],\n",
       "       [ 8.02401376e-01,  8.07334680e-01,  6.51782540e-01,\n",
       "         9.64591877e-01],\n",
       "       [ 9.69491582e-01,  9.03538222e-01,  1.84700391e+00,\n",
       "        -5.58731413e-01],\n",
       "       [ 7.54597109e-01,  1.02525278e+00, -3.57885046e-02,\n",
       "         5.23783426e-02],\n",
       "       [ 4.86373040e-01,  1.12062983e+00,  1.32798626e-01,\n",
       "        -3.35016916e-02],\n",
       "       [ 4.29837318e-01,  1.20972555e+00,  9.44566913e-01,\n",
       "         3.50863828e-01],\n",
       "       [ 8.00597554e-01,  1.36659352e+00,  1.37949338e+00,\n",
       "        -1.12375920e+00],\n",
       "       [ 6.27172997e-01,  1.46687442e+00,  1.05506940e+00,\n",
       "        -1.26189290e-01],\n",
       "       [ 8.77754373e-01,  1.54726444e+00,  5.97475761e-01,\n",
       "         2.54656495e+00],\n",
       "       [ 5.66873820e-01,  1.67999888e+00,  1.64536048e+00,\n",
       "        -1.12050503e-01],\n",
       "       [ 2.21031491e-01,  1.79526681e+00,  5.68197324e-01,\n",
       "         1.31649055e+00],\n",
       "       [ 7.66456786e-01,  1.89494161e+00,  1.25765730e+00,\n",
       "         5.24194872e-01]])"
      ]
     },
     "execution_count": 55,
     "metadata": {},
     "output_type": "execute_result"
    }
   ],
   "source": [
    "#Transforming the variables into the standadized form.\n",
    "X = scaledX.fit_transform(X)\n",
    "y = scaledy.fit_transform(y)\n",
    "X"
   ]
  },
  {
   "cell_type": "code",
   "execution_count": 56,
   "metadata": {},
   "outputs": [
    {
     "data": {
      "text/plain": [
       "array([-1.66360986, -1.46382342, -1.39681152, -1.59406863, -1.4193596 ,\n",
       "       -1.07069725, -1.11926352, -1.01355592, -1.32400067, -1.22002042,\n",
       "       -1.14596032, -0.96443443, -0.62584314, -0.58639172, -0.35848959,\n",
       "       -0.62578145, -0.16448668, -0.25193373, -0.2883006 , -0.01150832,\n",
       "        0.37089903, -0.02019133,  0.03943306,  0.12142046,  0.54041059,\n",
       "        0.52731667,  0.58354806,  0.63578495,  0.63635559,  0.94593666,\n",
       "        0.71447187,  0.67568363,  0.84285093,  0.93253428,  1.05483677,\n",
       "        1.01617191,  1.28465133,  1.24577055,  1.45223505,  1.6102875 ,\n",
       "        1.74667097,  1.35126223])"
      ]
     },
     "execution_count": 56,
     "metadata": {},
     "output_type": "execute_result"
    }
   ],
   "source": [
    "y=y.ravel()\n",
    "y"
   ]
  },
  {
   "cell_type": "code",
   "execution_count": 57,
   "metadata": {},
   "outputs": [],
   "source": [
    "from sklearn.model_selection import train_test_split"
   ]
  },
  {
   "cell_type": "code",
   "execution_count": 58,
   "metadata": {},
   "outputs": [],
   "source": [
    "X_train, X_test, y_train, y_test = train_test_split(X, y, test_size=0.25, train_size=0.75, random_state = 10)"
   ]
  },
  {
   "cell_type": "code",
   "execution_count": 59,
   "metadata": {},
   "outputs": [],
   "source": [
    "gamma_values = [0.01]  # You can adjust these values according to your needs"
   ]
  },
  {
   "cell_type": "code",
   "execution_count": 60,
   "metadata": {},
   "outputs": [],
   "source": [
    "from sklearn.svm import SVR"
   ]
  },
  {
   "cell_type": "code",
   "execution_count": 61,
   "metadata": {},
   "outputs": [],
   "source": [
    "for gamma in gamma_values:\n",
    "    svr_model = SVR(kernel='rbf', gamma=gamma)  # Using 'rbf' kernel with specified gamma\n",
    "    svr_model.fit(X_train, y_train)"
   ]
  },
  {
   "cell_type": "code",
   "execution_count": 62,
   "metadata": {},
   "outputs": [
    {
     "data": {
      "text/plain": [
       "array([ 0.67215976, -0.08293774,  0.37974718, -0.54364926,  0.75750687,\n",
       "        0.17564446, -1.37421696, -0.29068925, -0.25959192,  0.04378024,\n",
       "       -0.87086827])"
      ]
     },
     "execution_count": 62,
     "metadata": {},
     "output_type": "execute_result"
    }
   ],
   "source": [
    "y_predict = svr_model.predict(X_test)\n",
    "y_predict"
   ]
  },
  {
   "cell_type": "code",
   "execution_count": 63,
   "metadata": {},
   "outputs": [
    {
     "data": {
      "text/plain": [
       "0.9079164761439187"
      ]
     },
     "execution_count": 63,
     "metadata": {},
     "output_type": "execute_result"
    }
   ],
   "source": [
    "from sklearn.metrics import r2_score\n",
    "from sklearn.svm import SVR\n",
    "from sklearn.metrics import mean_absolute_error\n",
    "r2 = r2_score(y_test, y_predict)\n",
    "r2"
   ]
  },
  {
   "cell_type": "code",
   "execution_count": 64,
   "metadata": {},
   "outputs": [
    {
     "name": "stdout",
     "output_type": "stream",
     "text": [
      "Mean Absolute Error: 0.1433650891707966\n"
     ]
    }
   ],
   "source": [
    "mae = mean_absolute_error(y_test, y_predict)\n",
    "print(\"Mean Absolute Error:\", mae)"
   ]
  },
  {
   "cell_type": "code",
   "execution_count": 65,
   "metadata": {},
   "outputs": [
    {
     "name": "stdout",
     "output_type": "stream",
     "text": [
      "Mean Square Error : 0.04069004436447771\n"
     ]
    }
   ],
   "source": [
    "from sklearn.metrics import mean_squared_error\n",
    "mse = mean_squared_error(y_test, y_predict)\n",
    "print( \"Mean Square Error :\", mse)"
   ]
  },
  {
   "cell_type": "code",
   "execution_count": 66,
   "metadata": {},
   "outputs": [
    {
     "name": "stdout",
     "output_type": "stream",
     "text": [
      "\n",
      "RMSE:  0.202\n"
     ]
    }
   ],
   "source": [
    "# RMSE (Root Mean Square Error)\n",
    "rmse = float(format(np.sqrt(mean_squared_error(y_test, y_predict)), '.3f'))\n",
    "print(\"\\nRMSE: \", rmse)"
   ]
  },
  {
   "cell_type": "code",
   "execution_count": null,
   "metadata": {},
   "outputs": [],
   "source": []
  }
 ],
 "metadata": {
  "kernelspec": {
   "display_name": "Python 3 (ipykernel)",
   "language": "python",
   "name": "python3"
  },
  "language_info": {
   "codemirror_mode": {
    "name": "ipython",
    "version": 3
   },
   "file_extension": ".py",
   "mimetype": "text/x-python",
   "name": "python",
   "nbconvert_exporter": "python",
   "pygments_lexer": "ipython3",
   "version": "3.10.9"
  }
 },
 "nbformat": 4,
 "nbformat_minor": 4
}
